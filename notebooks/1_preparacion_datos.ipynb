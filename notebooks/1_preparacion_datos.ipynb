{
 "cells": [
  {
   "cell_type": "code",
   "execution_count": 1,
   "metadata": {},
   "outputs": [],
   "source": [
    "#Esto me sirve para el correcto funcionamiento de las funciones importadas en este notebook\n",
    "%load_ext autoreload\n",
    "%autoreload 2"
   ]
  },
  {
   "cell_type": "markdown",
   "metadata": {},
   "source": [
    "# Preparando los datos"
   ]
  },
  {
   "cell_type": "markdown",
   "metadata": {},
   "source": [
    "Cargamos las librerías que se usarán en esta sección:"
   ]
  },
  {
   "cell_type": "code",
   "execution_count": 2,
   "metadata": {},
   "outputs": [],
   "source": [
    "from utils.workit import crear_df_jugador\n",
    "from utils.paths import crear_funcion_directorio\n",
    "from utils.workit import eliminar_columnas_comunes\n",
    "from utils.workit import generar_df_mvp\n",
    "import functools\n",
    "import pandas as pd"
   ]
  },
  {
   "cell_type": "markdown",
   "metadata": {},
   "source": [
    "## Leemos los archivos"
   ]
  },
  {
   "cell_type": "markdown",
   "metadata": {},
   "source": [
    "Iniciamos seleccionando cuatro conjuntos de datos obtenidos [**NBA Stats (1947-present)**](https://www.kaggle.com/datasets/sumitrodatta/nba-aba-baa-stats) que contienen información sobre jugadores a lo largo de todas las temporadas de la NBA. A continuación las razones de su elección:\n",
    "\n",
    "*   **df_premios_jugadores**: Este conjunto de datos presenta información sobre todos los premios otorgados a lo largo de la historia de la NBA, más precisamente del premio que nos importa, el premio **MVP de la temporada regular**.\n",
    "\n",
    "*   **estadisticas_avanzadas**: Contiene una amplia variedad de estadísticas **avanzadas** que sirven para evaluar el rendimiento de los jugadores en una temporada. Este conjunto de datos incluye entre sus métricas más interesantes el **PER** (Player Efficiency Rating) y el impacto del jugador en la cancha.\n",
    "\n",
    "*   **estadisticas_tiro**: Proporciona diversas estadísticas relacionada con el tiro. Entre las más importantes se encuentran mediciones sobre los tiros de 3 y de media distancia.\n",
    "\n",
    "*   **estadisticas_por_juego**: Proporciona promedios por partido de diversas estadísticas para un jugador. Estos datos permiten tener una aproximación bastante buena sobre lo que fue la contribución del jugador en cada partido."
   ]
  },
  {
   "cell_type": "code",
   "execution_count": 3,
   "metadata": {},
   "outputs": [],
   "source": [
    "#Creo un acceso directo a la carpeta de data\n",
    "data_dir = crear_funcion_directorio(\"data\")\n",
    "\n",
    "#Cargo los conjuntos de datos\n",
    "df_premios_jugadores = pd.read_csv(data_dir(\"raw\", \"Player Award Shares.csv\"))\n",
    "estadisticas_avanzadas = pd.read_csv(data_dir(\"raw\", \"Advanced.csv\"))\n",
    "estadisticas_tiro = pd.read_csv(data_dir(\"raw\", \"Player Shooting.csv\"))\n",
    "estadisticas_por_juego = pd.read_csv(data_dir(\"raw\", \"Player Per Game.csv\"))"
   ]
  },
  {
   "cell_type": "markdown",
   "metadata": {},
   "source": [
    "## Construyendo el conjunto de datos"
   ]
  },
  {
   "cell_type": "markdown",
   "metadata": {},
   "source": [
    "Primero damos un vistazo a las columnas de los conjuntos de daots para analizar su estructura general:"
   ]
  },
  {
   "cell_type": "code",
   "execution_count": 4,
   "metadata": {},
   "outputs": [
    {
     "name": "stdout",
     "output_type": "stream",
     "text": [
      "Columnas de df_premios_jugadores:\n",
      " ['season', 'award', 'player', 'age', 'tm', 'first', 'pts_won', 'pts_max', 'share', 'winner', 'seas_id', 'player_id'] \n",
      "\n",
      "Columnas de estadisticas_avanzadas:\n",
      " ['seas_id', 'season', 'player_id', 'player', 'birth_year', 'pos', 'age', 'experience', 'lg', 'tm', 'g', 'mp', 'per', 'ts_percent', 'x3p_ar', 'f_tr', 'orb_percent', 'drb_percent', 'trb_percent', 'ast_percent', 'stl_percent', 'blk_percent', 'tov_percent', 'usg_percent', 'ows', 'dws', 'ws', 'ws_48', 'obpm', 'dbpm', 'bpm', 'vorp'] \n",
      "\n",
      "Columnas de estadisticas_tiro:\n",
      " ['seas_id', 'season', 'player_id', 'player', 'birth_year', 'pos', 'age', 'experience', 'lg', 'tm', 'g', 'mp', 'fg_percent', 'avg_dist_fga', 'percent_fga_from_x2p_range', 'percent_fga_from_x0_3_range', 'percent_fga_from_x3_10_range', 'percent_fga_from_x10_16_range', 'percent_fga_from_x16_3p_range', 'percent_fga_from_x3p_range', 'fg_percent_from_x2p_range', 'fg_percent_from_x0_3_range', 'fg_percent_from_x3_10_range', 'fg_percent_from_x10_16_range', 'fg_percent_from_x16_3p_range', 'fg_percent_from_x3p_range', 'percent_assisted_x2p_fg', 'percent_assisted_x3p_fg', 'percent_dunks_of_fga', 'num_of_dunks', 'percent_corner_3s_of_3pa', 'corner_3_point_percent', 'num_heaves_attempted', 'num_heaves_made'] \n",
      "\n",
      "Columnas de estadisticas_por_juego:\n",
      " ['seas_id', 'season', 'player_id', 'player', 'birth_year', 'pos', 'age', 'experience', 'lg', 'tm', 'g', 'gs', 'mp_per_game', 'fg_per_game', 'fga_per_game', 'fg_percent', 'x3p_per_game', 'x3pa_per_game', 'x3p_percent', 'x2p_per_game', 'x2pa_per_game', 'x2p_percent', 'e_fg_percent', 'ft_per_game', 'fta_per_game', 'ft_percent', 'orb_per_game', 'drb_per_game', 'trb_per_game', 'ast_per_game', 'stl_per_game', 'blk_per_game', 'tov_per_game', 'pf_per_game', 'pts_per_game'] \n",
      "\n"
     ]
    }
   ],
   "source": [
    "print(\"Columnas de df_premios_jugadores:\\n\", df_premios_jugadores.columns.tolist(), \"\\n\")\n",
    "print(\"Columnas de estadisticas_avanzadas:\\n\", estadisticas_avanzadas.columns.tolist(), \"\\n\")\n",
    "print(\"Columnas de estadisticas_tiro:\\n\", estadisticas_tiro.columns.tolist(), \"\\n\")\n",
    "print(\"Columnas de estadisticas_por_juego:\\n\", estadisticas_por_juego.columns.tolist(), \"\\n\")"
   ]
  },
  {
   "cell_type": "markdown",
   "metadata": {},
   "source": [
    "Podemos observar que las columnas **'seas_id', 'season', 'player_id' y 'player'** funcionan como **identificadores** en nuestros conjuntos de datos. Por otro lado, hay algunas **columnas en común** más allá de los identificadores, por lo tanto se procede a eliminarlas para evitar redundancia:"
   ]
  },
  {
   "cell_type": "code",
   "execution_count": 5,
   "metadata": {},
   "outputs": [],
   "source": [
    "#Guardo en una variable las columnas que son identificadores\n",
    "identificadores = ['seas_id', 'season', 'player_id','player']\n",
    "\n",
    "#Tomo a 'estadisticas_tiro' y a 'estadisticas_por_juego' como los conjuntos de datos que voy a modificar\n",
    "estadisticas_tiro = eliminar_columnas_comunes(df_a_modificar = estadisticas_tiro, df_sin_modificar = estadisticas_avanzadas, columnas_ignorar= identificadores)\n",
    "estadisticas_por_juego = eliminar_columnas_comunes(df_a_modificar= estadisticas_por_juego, df_sin_modificar= estadisticas_avanzadas, columnas_ignorar= identificadores)\n",
    "estadisticas_por_juego = eliminar_columnas_comunes(df_a_modificar= estadisticas_por_juego, df_sin_modificar= estadisticas_tiro, columnas_ignorar= identificadores)"
   ]
  },
  {
   "cell_type": "markdown",
   "metadata": {},
   "source": [
    "En el caso de **df_premios_jugadores**, como se dijo anteriormente, este proyecto tratará sobre el **premio MVP** y de este conjunto de datos la variable que nos va a servir para nuestro objetivo será la columna **'mvp_share'**, que trae información sobre la proporción de votos que recibió un jugador para el premio. Por lo tanto se procede a tomar solo dicha columna:"
   ]
  },
  {
   "cell_type": "code",
   "execution_count": 6,
   "metadata": {},
   "outputs": [],
   "source": [
    "#Me quedo con las instancias que traen información solo del premio al MVP\n",
    "df_premios_jugadores = df_premios_jugadores[df_premios_jugadores[\"award\"]==\"nba mvp\"]\n",
    "\n",
    "#Eliminamos las columnas que no usaremos\n",
    "df_premios_jugadores = df_premios_jugadores.drop(['award','age','tm','first','pts_won','pts_max','winner'], axis = 1)\n",
    "df_premios_jugadores.rename(columns={'share': 'mvp_share'}, inplace=True)"
   ]
  },
  {
   "cell_type": "markdown",
   "metadata": {},
   "source": [
    "Ahora que realizamos los ajustes necesarios lo ideal sería tener **toda esta información en un único conjunto de datos**, mismo que se llamará **'df_data_jugadores'**. En el mismo además se usará **información desde el año 2000 hasta el 2023** para acotar el análisis a la NBA actual y evitar el ruido en los datos."
   ]
  },
  {
   "cell_type": "code",
   "execution_count": 7,
   "metadata": {},
   "outputs": [
    {
     "name": "stdout",
     "output_type": "stream",
     "text": [
      "<class 'pandas.core.frame.DataFrame'>\n",
      "Int64Index: 14422 entries, 0 to 14421\n",
      "Data columns (total 78 columns):\n",
      " #   Column                         Non-Null Count  Dtype  \n",
      "---  ------                         --------------  -----  \n",
      " 0   seas_id                        14422 non-null  int64  \n",
      " 1   season                         14422 non-null  int64  \n",
      " 2   player_id                      14422 non-null  int64  \n",
      " 3   player                         14422 non-null  object \n",
      " 4   birth_year                     153 non-null    float64\n",
      " 5   pos                            14422 non-null  object \n",
      " 6   age                            14422 non-null  float64\n",
      " 7   experience                     14422 non-null  int64  \n",
      " 8   lg                             14422 non-null  object \n",
      " 9   tm                             14422 non-null  object \n",
      " 10  g                              14422 non-null  int64  \n",
      " 11  mp                             14422 non-null  float64\n",
      " 12  per                            14417 non-null  float64\n",
      " 13  ts_percent                     14342 non-null  float64\n",
      " 14  x3p_ar                         14337 non-null  float64\n",
      " 15  f_tr                           14337 non-null  float64\n",
      " 16  orb_percent                    14417 non-null  float64\n",
      " 17  drb_percent                    14417 non-null  float64\n",
      " 18  trb_percent                    14417 non-null  float64\n",
      " 19  ast_percent                    14417 non-null  float64\n",
      " 20  stl_percent                    14417 non-null  float64\n",
      " 21  blk_percent                    14417 non-null  float64\n",
      " 22  tov_percent                    14355 non-null  float64\n",
      " 23  usg_percent                    14417 non-null  float64\n",
      " 24  ows                            14422 non-null  float64\n",
      " 25  dws                            14422 non-null  float64\n",
      " 26  ws                             14422 non-null  float64\n",
      " 27  ws_48                          14417 non-null  float64\n",
      " 28  obpm                           14422 non-null  float64\n",
      " 29  dbpm                           14422 non-null  float64\n",
      " 30  bpm                            14422 non-null  float64\n",
      " 31  vorp                           14422 non-null  float64\n",
      " 32  fg_percent                     14337 non-null  float64\n",
      " 33  avg_dist_fga                   14337 non-null  float64\n",
      " 34  percent_fga_from_x2p_range     14337 non-null  float64\n",
      " 35  percent_fga_from_x0_3_range    14337 non-null  float64\n",
      " 36  percent_fga_from_x3_10_range   14337 non-null  float64\n",
      " 37  percent_fga_from_x10_16_range  14337 non-null  float64\n",
      " 38  percent_fga_from_x16_3p_range  14337 non-null  float64\n",
      " 39  percent_fga_from_x3p_range     14337 non-null  float64\n",
      " 40  fg_percent_from_x2p_range      14267 non-null  float64\n",
      " 41  fg_percent_from_x0_3_range     13935 non-null  float64\n",
      " 42  fg_percent_from_x3_10_range    13656 non-null  float64\n",
      " 43  fg_percent_from_x10_16_range   13286 non-null  float64\n",
      " 44  fg_percent_from_x16_3p_range   13221 non-null  float64\n",
      " 45  fg_percent_from_x3p_range      12392 non-null  float64\n",
      " 46  percent_assisted_x2p_fg        14029 non-null  float64\n",
      " 47  percent_assisted_x3p_fg        10575 non-null  float64\n",
      " 48  percent_dunks_of_fga           14337 non-null  float64\n",
      " 49  num_of_dunks                   14422 non-null  int64  \n",
      " 50  percent_corner_3s_of_3pa       12392 non-null  float64\n",
      " 51  corner_3_point_percent         10677 non-null  float64\n",
      " 52  num_heaves_attempted           14422 non-null  int64  \n",
      " 53  num_heaves_made                14422 non-null  int64  \n",
      " 54  mvp_share                      339 non-null    float64\n",
      " 55  gs                             14422 non-null  float64\n",
      " 56  mp_per_game                    14422 non-null  float64\n",
      " 57  fg_per_game                    14422 non-null  float64\n",
      " 58  fga_per_game                   14422 non-null  float64\n",
      " 59  x3p_per_game                   14422 non-null  float64\n",
      " 60  x3pa_per_game                  14422 non-null  float64\n",
      " 61  x3p_percent                    12392 non-null  float64\n",
      " 62  x2p_per_game                   14422 non-null  float64\n",
      " 63  x2pa_per_game                  14422 non-null  float64\n",
      " 64  x2p_percent                    14267 non-null  float64\n",
      " 65  e_fg_percent                   14337 non-null  float64\n",
      " 66  ft_per_game                    14422 non-null  float64\n",
      " 67  fta_per_game                   14422 non-null  float64\n",
      " 68  ft_percent                     13682 non-null  float64\n",
      " 69  orb_per_game                   14422 non-null  float64\n",
      " 70  drb_per_game                   14422 non-null  float64\n",
      " 71  trb_per_game                   14422 non-null  float64\n",
      " 72  ast_per_game                   14422 non-null  float64\n",
      " 73  stl_per_game                   14422 non-null  float64\n",
      " 74  blk_per_game                   14422 non-null  float64\n",
      " 75  tov_per_game                   14422 non-null  float64\n",
      " 76  pf_per_game                    14422 non-null  float64\n",
      " 77  pts_per_game                   14422 non-null  float64\n",
      "dtypes: float64(66), int64(8), object(4)\n",
      "memory usage: 8.7+ MB\n"
     ]
    }
   ],
   "source": [
    "#Guardo los 4 conjuntos de datos en una lista\n",
    "lista_conjuntos_datos = [estadisticas_avanzadas, estadisticas_tiro, df_premios_jugadores, estadisticas_por_juego]\n",
    "\n",
    "#Aplico el filtro\n",
    "for i, df in enumerate(lista_conjuntos_datos):\n",
    "    lista_conjuntos_datos[i] = df.loc[(df['season'] >= 2000)]\n",
    "\n",
    "#Usamos functools.reduce para aplicar la función merge() de manera acumulativa a la lista de DataFrames\n",
    "df_data_jugadores = functools.reduce(lambda left, right: pd.merge(left, right, on=identificadores, how='inner' if left.empty else 'left'), lista_conjuntos_datos)\n",
    "\n",
    "#Finalmente miramos el dataset resultante\n",
    "df_data_jugadores.info()"
   ]
  },
  {
   "cell_type": "markdown",
   "metadata": {},
   "source": [
    "A partir de este output hay algunas filas y columnas que procedemos a eliminar:\n",
    "\n",
    "* **'birth_year'** dado que tiene muchos valores faltantes y no resulta útil para el análisis\n",
    "* **'experience'** ya que es una columna que se deduce a partir de 'season'\n",
    "*  los equipos en la columna **'tm'** de nombre **\"TOT\"** que representan jugadores que fueron cambiados de equipo \n",
    "   a media temporada, esta información más allá de ser relevante genera duplicados en los datos que son díficiles de detectar"
   ]
  },
  {
   "cell_type": "code",
   "execution_count": 8,
   "metadata": {},
   "outputs": [],
   "source": [
    "df_data_jugadores.drop(['birth_year'], axis = 1, inplace= True)\n",
    "df_data_jugadores.drop(['experience'], axis = 1, inplace= True)\n",
    "df_data_jugadores.drop(df_data_jugadores[df_data_jugadores['tm'] == 'TOT'].index, inplace=True)"
   ]
  },
  {
   "cell_type": "markdown",
   "metadata": {},
   "source": [
    "Ahora que tenemos un conjunto de datos con la información que necesitamos, el siguiente paso es **seleccionar a los jugadores que servirán para el análisis** y que información queremos de ellos. Los criterios de selección de la información son los siguientes: \n",
    "\n",
    "* El jugador debió **recibir votos** por el premio alguna vez \n",
    "* Se va a tomar en cuenta una temporada en la que recibió votos **junto con las adyacentes a la misma**, es decir,\n",
    "  **una temporada antes y una despúes de este suceso**, así también se permite analizar temporadas que fueron buenas probablemente\n",
    "  pero que simplemente los jugadores no recibieron votos\n",
    "* A las temporadas adyacentes que no tengan votos se les imputará **el valor 0** en la columna **'mvp_share'**, lo cual es igual a decir que no recibieron votos, todo esto \n",
    "  para evitar problemas con valores faltantes"
   ]
  },
  {
   "cell_type": "code",
   "execution_count": 9,
   "metadata": {},
   "outputs": [
    {
     "name": "stdout",
     "output_type": "stream",
     "text": [
      "<class 'pandas.core.frame.DataFrame'>\n",
      "Int64Index: 585 entries, 1520 to 13218\n",
      "Data columns (total 76 columns):\n",
      " #   Column                         Non-Null Count  Dtype  \n",
      "---  ------                         --------------  -----  \n",
      " 0   seas_id                        585 non-null    int64  \n",
      " 1   season                         585 non-null    int64  \n",
      " 2   player_id                      585 non-null    int64  \n",
      " 3   player                         585 non-null    object \n",
      " 4   pos                            585 non-null    object \n",
      " 5   age                            585 non-null    float64\n",
      " 6   lg                             585 non-null    object \n",
      " 7   tm                             585 non-null    object \n",
      " 8   g                              585 non-null    int64  \n",
      " 9   mp                             585 non-null    float64\n",
      " 10  per                            585 non-null    float64\n",
      " 11  ts_percent                     585 non-null    float64\n",
      " 12  x3p_ar                         585 non-null    float64\n",
      " 13  f_tr                           585 non-null    float64\n",
      " 14  orb_percent                    585 non-null    float64\n",
      " 15  drb_percent                    585 non-null    float64\n",
      " 16  trb_percent                    585 non-null    float64\n",
      " 17  ast_percent                    585 non-null    float64\n",
      " 18  stl_percent                    585 non-null    float64\n",
      " 19  blk_percent                    585 non-null    float64\n",
      " 20  tov_percent                    585 non-null    float64\n",
      " 21  usg_percent                    585 non-null    float64\n",
      " 22  ows                            585 non-null    float64\n",
      " 23  dws                            585 non-null    float64\n",
      " 24  ws                             585 non-null    float64\n",
      " 25  ws_48                          585 non-null    float64\n",
      " 26  obpm                           585 non-null    float64\n",
      " 27  dbpm                           585 non-null    float64\n",
      " 28  bpm                            585 non-null    float64\n",
      " 29  vorp                           585 non-null    float64\n",
      " 30  fg_percent                     585 non-null    float64\n",
      " 31  avg_dist_fga                   585 non-null    float64\n",
      " 32  percent_fga_from_x2p_range     585 non-null    float64\n",
      " 33  percent_fga_from_x0_3_range    585 non-null    float64\n",
      " 34  percent_fga_from_x3_10_range   585 non-null    float64\n",
      " 35  percent_fga_from_x10_16_range  585 non-null    float64\n",
      " 36  percent_fga_from_x16_3p_range  585 non-null    float64\n",
      " 37  percent_fga_from_x3p_range     585 non-null    float64\n",
      " 38  fg_percent_from_x2p_range      585 non-null    float64\n",
      " 39  fg_percent_from_x0_3_range     585 non-null    float64\n",
      " 40  fg_percent_from_x3_10_range    584 non-null    float64\n",
      " 41  fg_percent_from_x10_16_range   585 non-null    float64\n",
      " 42  fg_percent_from_x16_3p_range   579 non-null    float64\n",
      " 43  fg_percent_from_x3p_range      566 non-null    float64\n",
      " 44  percent_assisted_x2p_fg        585 non-null    float64\n",
      " 45  percent_assisted_x3p_fg        522 non-null    float64\n",
      " 46  percent_dunks_of_fga           585 non-null    float64\n",
      " 47  num_of_dunks                   585 non-null    int64  \n",
      " 48  percent_corner_3s_of_3pa       566 non-null    float64\n",
      " 49  corner_3_point_percent         507 non-null    float64\n",
      " 50  num_heaves_attempted           585 non-null    int64  \n",
      " 51  num_heaves_made                585 non-null    int64  \n",
      " 52  mvp_share                      585 non-null    float64\n",
      " 53  gs                             585 non-null    float64\n",
      " 54  mp_per_game                    585 non-null    float64\n",
      " 55  fg_per_game                    585 non-null    float64\n",
      " 56  fga_per_game                   585 non-null    float64\n",
      " 57  x3p_per_game                   585 non-null    float64\n",
      " 58  x3pa_per_game                  585 non-null    float64\n",
      " 59  x3p_percent                    566 non-null    float64\n",
      " 60  x2p_per_game                   585 non-null    float64\n",
      " 61  x2pa_per_game                  585 non-null    float64\n",
      " 62  x2p_percent                    585 non-null    float64\n",
      " 63  e_fg_percent                   585 non-null    float64\n",
      " 64  ft_per_game                    585 non-null    float64\n",
      " 65  fta_per_game                   585 non-null    float64\n",
      " 66  ft_percent                     585 non-null    float64\n",
      " 67  orb_per_game                   585 non-null    float64\n",
      " 68  drb_per_game                   585 non-null    float64\n",
      " 69  trb_per_game                   585 non-null    float64\n",
      " 70  ast_per_game                   585 non-null    float64\n",
      " 71  stl_per_game                   585 non-null    float64\n",
      " 72  blk_per_game                   585 non-null    float64\n",
      " 73  tov_per_game                   585 non-null    float64\n",
      " 74  pf_per_game                    585 non-null    float64\n",
      " 75  pts_per_game                   585 non-null    float64\n",
      "dtypes: float64(65), int64(7), object(4)\n",
      "memory usage: 351.9+ KB\n"
     ]
    }
   ],
   "source": [
    "#Filtro el conjunto de datos\n",
    "df_data_jugadores = generar_df_mvp(df = df_data_jugadores, columna_nombre= 'player', columna_votos= 'mvp_share', columna_temporadas= 'season')\n",
    "\n",
    "#Imputo el valor 0\n",
    "df_data_jugadores['mvp_share'].fillna(0, inplace=True)\n",
    "\n",
    "#Ahora imprimo en consola\n",
    "df_data_jugadores.info()"
   ]
  },
  {
   "cell_type": "markdown",
   "metadata": {},
   "source": [
    "## Separamos los datos"
   ]
  },
  {
   "cell_type": "markdown",
   "metadata": {},
   "source": [
    "Ya tenemos el conjunto de datos ideal, el siguiente paso es hacer la separación en entrenamiento y prueba para empezar con el análisis exploratorio. Los criterios \n",
    "que usaremos para separar los datos son los siguientes:\n",
    "\n",
    "* Tomaremos como datos de entrenamiento las temporadas **entre 2000 y 2021**\n",
    "* Tomaremos como datos de prueba las temporadas **2022 y 2023**\n",
    "* Decidimos sacar del conjunto de datos de prueba a **5 jugadores que fueron ganadores del premio en temporadas recientes**, esto\n",
    "  con motivo de **eliminar el sesgo** de un futuro modelo respecto a las predicciones, ya que si ve que en el conjunto de entrenamiento\n",
    "  un jugador viene ganando votos por el premio, lo más probable es que en los datos de prueba también le asigne una proporción alta de votos"
   ]
  },
  {
   "cell_type": "code",
   "execution_count": 10,
   "metadata": {},
   "outputs": [],
   "source": [
    "#Guardo en una lista a los jugadores que sacaré \n",
    "jugadores_seleccionados = ['Giannis Antetokounmpo', 'Joel Embiid','Nikola Jokić','LeBron James','James Harden']\n",
    "\n",
    "#Genero sus conjuntos de datos individuales\n",
    "df_giannis = crear_df_jugador('Giannis Antetokounmpo', columna_nombre= 'player', df = df_data_jugadores)\n",
    "df_embiid = crear_df_jugador('Joel Embiid', columna_nombre= 'player', df = df_data_jugadores)\n",
    "df_jokic = crear_df_jugador('Nikola Jokić', columna_nombre= 'player', df = df_data_jugadores)\n",
    "df_harden = crear_df_jugador('James Harden', columna_nombre= 'player', df = df_data_jugadores)\n",
    "df_lebron = crear_df_jugador('LeBron James', columna_nombre= 'player', df = df_data_jugadores)\n",
    "\n",
    "#Los elimino del dataset original para ahora convertirlo en un train\n",
    "df_data_jugadores_train  = df_data_jugadores[~df_data_jugadores['player'].isin(jugadores_seleccionados)]\n",
    "df_data_jugadores_train  = df_data_jugadores_train[df_data_jugadores_train['season'] < 2022]\n",
    "\n",
    "#Junto todos esos dataframes en el test que evaluaremos al final\n",
    "df_data_jugadores_test  = df_data_jugadores[df_data_jugadores['season'] >= 2022]"
   ]
  },
  {
   "cell_type": "markdown",
   "metadata": {},
   "source": [
    "Finalmente, guardo los conjuntos de datos **en la carpeta data**:"
   ]
  },
  {
   "cell_type": "code",
   "execution_count": 11,
   "metadata": {},
   "outputs": [],
   "source": [
    "df_giannis.to_csv(data_dir(\"processed\", \"df_giannis.csv\"), index=False)\n",
    "df_embiid.to_csv(data_dir(\"processed\", \"df_embiid.csv\"), index=False)\n",
    "df_jokic.to_csv(data_dir(\"processed\", \"df_jokic.csv\"), index=False)\n",
    "df_harden.to_csv(data_dir(\"processed\", \"df_harden.csv\"), index=False)\n",
    "df_lebron.to_csv(data_dir(\"processed\", \"df_lebron.csv\"), index=False)\n",
    "df_data_jugadores_train.to_csv(data_dir(\"processed\", \"df_data_jugadores_train.csv\"), index=False)\n",
    "df_data_jugadores_test.to_csv(data_dir(\"processed\", \"df_data_jugadores_test.csv\"), index=False)\n",
    "df_data_jugadores.to_csv(data_dir(\"processed\", \"df_data_jugadores.csv\"), index=False)"
   ]
  }
 ],
 "metadata": {
  "kernelspec": {
   "display_name": "proyecto_nba_mvp",
   "language": "python",
   "name": "python3"
  },
  "language_info": {
   "codemirror_mode": {
    "name": "ipython",
    "version": 3
   },
   "file_extension": ".py",
   "mimetype": "text/x-python",
   "name": "python",
   "nbconvert_exporter": "python",
   "pygments_lexer": "ipython3",
   "version": "3.10.12"
  }
 },
 "nbformat": 4,
 "nbformat_minor": 2
}
