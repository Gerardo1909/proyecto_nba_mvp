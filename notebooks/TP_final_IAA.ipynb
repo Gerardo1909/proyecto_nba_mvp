{
  "cells": [
    {
      "cell_type": "markdown",
      "metadata": {
        "id": "edNxTykT5Wft"
      },
      "source": [
        "# MVP NBA: Analizando el Jugador Más Valioso con Aprendizaje Automático\n",
        "\n",
        "**Integrantes:**\n",
        "*   **Santino Semec**\n",
        "*   **Gerardo Toboso**\n",
        "\n"
      ]
    },
    {
      "cell_type": "markdown",
      "metadata": {
        "id": "JFSTn9bBM-Lt"
      },
      "source": [
        "## ¿Que es el premio MVP de la NBA?\n",
        "\n",
        "El premio **MVP** (**Jugador Más Valioso**), como su nombre sugiere, se concede a los jugadores más destacados durante la temporada regular de la NBA. Dicha parte del calendario NBA **consta de 82 partidos** en la cual se definen a los equipos que luego pasarán a una ronda de eliminación.\n",
        "\n",
        "El ganador del premio es **determinado mediante una votación** realizada por periodistas deportivos. Los tres jugadores más votados se convierten en finalistas y, finalmente, el jugador con la mayor cantidad de votos entre ellos se consagra como el ganador."
      ]
    },
    {
      "cell_type": "markdown",
      "metadata": {
        "id": "VqEK5jEu4OXY"
      },
      "source": [
        "## Definiendo los objetivos\n",
        "\n",
        "Cada temporada, siempre surge una gran discusión sobre el **Jugador Más Valioso** (MVP) de la NBA, el premio individual más importante que un jugador de baloncesto puede recibir. Y resulta complicado explicar los criterios de este premio a alguien que no está familiarizado con el deporte.\n",
        "\n",
        "Algo que ya confunde a algunas personas es que el MVP no es un premio al mejor jugador, sino al jugador más valioso en la temporada regular. Entonces, surge la pregunta: **¿Qué significa ser más valioso?**\n",
        "\n",
        "Significa que es el jugador con el mayor impacto positivo en su equipo. Esto implica que el desempeño del equipo también es una variable que influye en este premio individual, ya que debe tener un buen récord para respaldar ese impacto. Para lograrlo, el equipo debe contar con un buen grupo de apoyo para ayudar al MVP, ya que no puede ganar cada partido por sí solo. Sin embargo, el grupo de apoyo no puede ser demasiado bueno, ya que en ese caso no necesitarían al MVP para obtener una buena posición.\n",
        "\n",
        "Esto en principio deja ver la **subjetividad** a la cual está sujeta el premio.\n",
        "\n",
        "Con esto en mente, decidimos aplicar técnicas de Aprendizaje Automático para observar los patrones en la lógica de elección del MVP, determinar cuáles son las estadísticas más importantes en esta elección y si sería posible crear un modelo que, sea capaz de generar predicciones sobre quien puede ganar este premio en una próxima temporada."
      ]
    },
    {
      "cell_type": "markdown",
      "metadata": {
        "id": "OaEJPcd4WolB"
      },
      "source": [
        "# Preparando los datos"
      ]
    },
    {
      "cell_type": "markdown",
      "metadata": {
        "id": "ai9QCvnKCRov"
      },
      "source": [
        "## Hacemos el setup y algunos importes\n",
        "\n"
      ]
    },
    {
      "cell_type": "markdown",
      "metadata": {
        "id": "UyeNOTSgC3S6"
      },
      "source": [
        "Importamos algunas librerías comunes y conectamos el cuaderno con google drive."
      ]
    },
    {
      "cell_type": "code",
      "execution_count": null,
      "metadata": {
        "colab": {
          "base_uri": "https://localhost:8080/"
        },
        "id": "6I5OXVO3CXgf",
        "outputId": "55d73430-32c7-4ca3-bcc1-d007918357b4"
      },
      "outputs": [
        {
          "name": "stdout",
          "output_type": "stream",
          "text": [
            "Drive already mounted at /content/drive; to attempt to forcibly remount, call drive.mount(\"/content/drive\", force_remount=True).\n"
          ]
        }
      ],
      "source": [
        "#Para trabajo con el dataset\n",
        "import numpy as np\n",
        "import pandas as pd\n",
        "\n",
        "#Para visualizar\n",
        "import matplotlib.pyplot as plt\n",
        "import seaborn as sns\n",
        "\n",
        "#Planto la semilla\n",
        "np.random.seed(42)"
      ]
    },
    {
      "cell_type": "markdown",
      "metadata": {
        "id": "ECAOEtSe_mt9"
      },
      "source": [
        "## Leemos los archivos"
      ]
    },
    {
      "cell_type": "markdown",
      "metadata": {
        "id": "-MOpWFe-J65L"
      },
      "source": [
        "Iniciamos seleccionando cuatro conjuntos de datos obtenidos [**NBA Stats (1947-present)**](https://www.kaggle.com/datasets/sumitrodatta/nba-aba-baa-stats) que contienen información sobre jugadores a lo largo de todas las temporadas de la NBA. La elección de estos cuatro conjuntos de datos se fundamenta en las siguientes razones:\n",
        "\n",
        "*   **df_premios_jugadores**: Este conjunto de datos presenta información detallada sobre todos los premios otorgados a lo largo de la historia de la NBA, incluyendo la proporción de votos obtenidos por los jugadores que fueron considerados para recibir dichos galardones. En última instancia, este dataframe se utilizará para el análisis del **premio MVP**.\n",
        "\n",
        "*   **estadisticas_avanzadas**: Contiene una amplia variedad de estadísticas que son fundamentales para evaluar el rendimiento de los jugadores a lo largo de una temporada. Estas estadísticas incluyen índices de eficacia, el **PER** (Player Efficiency Rating), el impacto del rendimiento en la cancha y otros indicadores relevantes.\n",
        "\n",
        "*   **estadisticas_tiro**: Al igual que el conjunto de datos de **estadisticas_avanzadas**, este conjunto proporciona diversas estadísticas sobre los jugadores en distintas temporadas. Sin embargo, se enfoca específicamente en las estadísticas relacionadas con el tiro, incluyendo mediciones de precisión desde diversas distancias y la proporción de cada tipo de tiro.\n",
        "\n",
        "*   **estadisticas_por_juego**: Este conjunto de datos proporciona información detallada, partido tras partido, sobre las estadísticas individuales de un jugador mientras está en la cancha. Estos datos son especialmente valiosos, ya que permiten evaluar el rendimiento de los jugadores en cada juego, lo que es fundamental para comprender su contribución en cada encuentro."
      ]
    },
    {
      "cell_type": "code",
      "execution_count": null,
      "metadata": {
        "id": "_Fa_CaUYWPAn"
      },
      "outputs": [],
      "source": [
        "df_premios_jugadores = pd.read_csv('/content/drive/MyDrive/NBA_csvs/Player Award Shares.csv')\n",
        "estadisticas_avanzadas = pd.read_csv('/content/drive/MyDrive/NBA_csvs/Advanced.csv')\n",
        "estadisticas_tiro = pd.read_csv('/content/drive/MyDrive/NBA_csvs/Player Shooting.csv')\n",
        "estadisticas_por_juego = pd.read_csv('/content/drive/MyDrive/NBA_csvs/Player Per Game.csv')"
      ]
    },
    {
      "cell_type": "markdown",
      "metadata": {
        "id": "ZjLf-9e4_3ig"
      },
      "source": [
        "## Construyendo el conjunto de datos"
      ]
    },
    {
      "cell_type": "markdown",
      "metadata": {
        "id": "_wLiIGJgR8s8"
      },
      "source": [
        "Empezamos por dar un vistazo a las columnas de los datasets para ver cuales tienen en común entre sí para luego juntarlos en un **único dataset** el cual traerá toda la información a utilizar en el proyecto:"
      ]
    },
    {
      "cell_type": "code",
      "execution_count": null,
      "metadata": {
        "colab": {
          "base_uri": "https://localhost:8080/"
        },
        "id": "dmC4-cr_18bH",
        "outputId": "18452e88-8f15-4751-ae32-05ab8ec0ee66"
      },
      "outputs": [
        {
          "name": "stdout",
          "output_type": "stream",
          "text": [
            "Columnas de df_premios_jugadores:\n",
            "['season', 'award', 'player', 'age', 'tm', 'first', 'pts_won', 'pts_max', 'share', 'winner', 'seas_id', 'player_id']\n",
            "\n",
            "Columnas de estadisticas_avanzadas:\n",
            "['seas_id', 'season', 'player_id', 'player', 'birth_year', 'pos', 'age', 'experience', 'lg', 'tm', 'g', 'mp', 'per', 'ts_percent', 'x3p_ar', 'f_tr', 'orb_percent', 'drb_percent', 'trb_percent', 'ast_percent', 'stl_percent', 'blk_percent', 'tov_percent', 'usg_percent', 'ows', 'dws', 'ws', 'ws_48', 'obpm', 'dbpm', 'bpm', 'vorp']\n",
            "\n",
            "Columnas de estadisticas_tiro:\n",
            "['seas_id', 'season', 'player_id', 'player', 'birth_year', 'pos', 'age', 'experience', 'lg', 'tm', 'g', 'mp', 'fg_percent', 'avg_dist_fga', 'percent_fga_from_x2p_range', 'percent_fga_from_x0_3_range', 'percent_fga_from_x3_10_range', 'percent_fga_from_x10_16_range', 'percent_fga_from_x16_3p_range', 'percent_fga_from_x3p_range', 'fg_percent_from_x2p_range', 'fg_percent_from_x0_3_range', 'fg_percent_from_x3_10_range', 'fg_percent_from_x10_16_range', 'fg_percent_from_x16_3p_range', 'fg_percent_from_x3p_range', 'percent_assisted_x2p_fg', 'percent_assisted_x3p_fg', 'percent_dunks_of_fga', 'num_of_dunks', 'percent_corner_3s_of_3pa', 'corner_3_point_percent', 'num_heaves_attempted', 'num_heaves_made']\n",
            "\n",
            "Columnas de estadisticas_por_juego:\n",
            "['seas_id', 'season', 'player_id', 'player', 'birth_year', 'pos', 'age', 'experience', 'lg', 'tm', 'g', 'gs', 'mp_per_game', 'fg_per_game', 'fga_per_game', 'fg_percent', 'x3p_per_game', 'x3pa_per_game', 'x3p_percent', 'x2p_per_game', 'x2pa_per_game', 'x2p_percent', 'e_fg_percent', 'ft_per_game', 'fta_per_game', 'ft_percent', 'orb_per_game', 'drb_per_game', 'trb_per_game', 'ast_per_game', 'stl_per_game', 'blk_per_game', 'tov_per_game', 'pf_per_game', 'pts_per_game']\n",
            "\n"
          ]
        }
      ],
      "source": [
        "def imprimir_columnas(titulo, columnas):\n",
        "    print(f'{titulo}:')\n",
        "    print(list(columnas))\n",
        "    print()\n",
        "\n",
        "imprimir_columnas('Columnas de df_premios_jugadores', df_premios_jugadores.columns)\n",
        "imprimir_columnas('Columnas de estadisticas_avanzadas', estadisticas_avanzadas.columns)\n",
        "imprimir_columnas('Columnas de estadisticas_tiro', estadisticas_tiro.columns)\n",
        "imprimir_columnas('Columnas de estadisticas_por_juego', estadisticas_por_juego.columns)"
      ]
    },
    {
      "cell_type": "markdown",
      "metadata": {
        "id": "88KN2L7eSkX_"
      },
      "source": [
        "Podemos observar que las columnas **'seas_id', 'season', 'player_id' y 'player'** funcionan como **identificadores** que facilitan la combinación de los\n",
        "conjuntos de datos, si es necesario. Por otro lado, hay columnas comunes entre **estadísticas avanzadas** y **estadísticas de tiro** que contienen información idéntica. En consecuencia, se planea eliminar estas columnas de uno de los dos conjuntos de datos para evitar duplicaciones al combinarlos:"
      ]
    },
    {
      "cell_type": "code",
      "execution_count": null,
      "metadata": {
        "id": "RCsvRYRoIm_O"
      },
      "outputs": [],
      "source": [
        "#Guardo en una variable las columnas que me sirven para juntar los datasets\n",
        "identificadores = ['seas_id', 'season', 'player_id','player']\n",
        "\n",
        "#Me quedo con las columnas que me serán útiles de las estadisticas de tiro\n",
        "columnas_utiles = [columna for columna in list(estadisticas_tiro.columns) if columna not in list(estadisticas_avanzadas.columns)]\n",
        "\n",
        "#Como en las lineas anteriores eliminamos las columnas en común también se eliminaron los identificadores,\n",
        "#por lo tanto los vuelvo a incluir en la lista de columnas útiles\n",
        "for columna in identificadores:\n",
        "  columnas_utiles.append(columna)\n",
        "\n",
        "#Ahora me quedo con un dataframe con puramente información nueva\n",
        "estadisticas_tiro = estadisticas_tiro.drop([columna for columna in list(estadisticas_tiro.columns) if columna not in columnas_utiles], axis = 1)"
      ]
    },
    {
      "cell_type": "markdown",
      "metadata": {
        "id": "m8ptaEDmW_1d"
      },
      "source": [
        "Aplicamos el mismo procedimiento para **estadisticas por juego**:"
      ]
    },
    {
      "cell_type": "code",
      "execution_count": null,
      "metadata": {
        "id": "QRgABdY_XLPu"
      },
      "outputs": [],
      "source": [
        "#Me quedo con las columnas que me serán útiles de las estadisticas por partido\n",
        "columnas_utiles = [columna for columna in list(estadisticas_por_juego.columns) if columna not in list(estadisticas_avanzadas.columns) and columna not in list(estadisticas_tiro.columns)]\n",
        "\n",
        "#Vuelvo a agregarle los identificadores\n",
        "for columna in identificadores:\n",
        "  columnas_utiles.append(columna)\n",
        "\n",
        "#Ahora me quedo con un dataframe con puramente información nueva\n",
        "estadisticas_por_juego = estadisticas_por_juego.drop([columna for columna in list(estadisticas_por_juego.columns) if columna not in columnas_utiles], axis = 1)"
      ]
    },
    {
      "cell_type": "markdown",
      "metadata": {
        "id": "L3ZQhe3QWWB7"
      },
      "source": [
        "En el caso de **df_premios_jugadores**, como se dijo anteriormente, este proyecto tratará sobre el **premio MVP** y de este conjunto de datos la variable que nos va a servir para nuestro objetivo será la columna **'mvp_share'**, que trae información sobre la proporción de votos que recibió un jugador para el premio. Por lo tanto procedo a quedarme con esa columna:"
      ]
    },
    {
      "cell_type": "code",
      "execution_count": null,
      "metadata": {
        "id": "Ht7F2jiNWKSC"
      },
      "outputs": [],
      "source": [
        "#Me quedo con las instancias que traen información solo del premio al MVP\n",
        "df_premios_jugadores = df_premios_jugadores[df_premios_jugadores[\"award\"]==\"nba mvp\"]\n",
        "\n",
        "#Eliminamos las columnas que no usaremos\n",
        "df_premios_jugadores = df_premios_jugadores.drop(['award','age','tm','first','pts_won','pts_max','winner'], axis = 1)\n",
        "df_premios_jugadores.rename(columns={'share': 'mvp_share'}, inplace=True)"
      ]
    },
    {
      "cell_type": "markdown",
      "metadata": {
        "id": "r7Ze8668oyFl"
      },
      "source": [
        "Tras realizar las modificaciones necesarias, procedemos a fusionar los cuatro conjuntos de datos en uno único, denominado **df_data_jugadores**. Este conjunto de datos principal será el pilar fundamental de nuestro proyecto.\n",
        "\n",
        "Además, como se puede observar, hemos aplicado un filtro para restringir el análisis a las temporadas **más recientes**. Esta selección tiene como objetivo mantener la coherencia con los cambios que han tenido lugar en la liga, evitando así posibles sesgos en nuestros modelos de trabajo."
      ]
    },
    {
      "cell_type": "code",
      "execution_count": null,
      "metadata": {
        "colab": {
          "base_uri": "https://localhost:8080/"
        },
        "id": "aGZwNd3JNWu0",
        "outputId": "28d81300-dc8f-4c0b-da9f-8971658d06eb"
      },
      "outputs": [
        {
          "name": "stdout",
          "output_type": "stream",
          "text": [
            "<class 'pandas.core.frame.DataFrame'>\n",
            "Int64Index: 14422 entries, 0 to 14421\n",
            "Data columns (total 78 columns):\n",
            " #   Column                         Non-Null Count  Dtype  \n",
            "---  ------                         --------------  -----  \n",
            " 0   seas_id                        14422 non-null  int64  \n",
            " 1   season                         14422 non-null  int64  \n",
            " 2   player_id                      14422 non-null  int64  \n",
            " 3   player                         14422 non-null  object \n",
            " 4   birth_year                     153 non-null    float64\n",
            " 5   pos                            14422 non-null  object \n",
            " 6   age                            14422 non-null  float64\n",
            " 7   experience                     14422 non-null  int64  \n",
            " 8   lg                             14422 non-null  object \n",
            " 9   tm                             14422 non-null  object \n",
            " 10  g                              14422 non-null  int64  \n",
            " 11  mp                             14422 non-null  float64\n",
            " 12  per                            14417 non-null  float64\n",
            " 13  ts_percent                     14342 non-null  float64\n",
            " 14  x3p_ar                         14337 non-null  float64\n",
            " 15  f_tr                           14337 non-null  float64\n",
            " 16  orb_percent                    14417 non-null  float64\n",
            " 17  drb_percent                    14417 non-null  float64\n",
            " 18  trb_percent                    14417 non-null  float64\n",
            " 19  ast_percent                    14417 non-null  float64\n",
            " 20  stl_percent                    14417 non-null  float64\n",
            " 21  blk_percent                    14417 non-null  float64\n",
            " 22  tov_percent                    14355 non-null  float64\n",
            " 23  usg_percent                    14417 non-null  float64\n",
            " 24  ows                            14422 non-null  float64\n",
            " 25  dws                            14422 non-null  float64\n",
            " 26  ws                             14422 non-null  float64\n",
            " 27  ws_48                          14417 non-null  float64\n",
            " 28  obpm                           14422 non-null  float64\n",
            " 29  dbpm                           14422 non-null  float64\n",
            " 30  bpm                            14422 non-null  float64\n",
            " 31  vorp                           14422 non-null  float64\n",
            " 32  fg_percent                     14337 non-null  float64\n",
            " 33  avg_dist_fga                   14337 non-null  float64\n",
            " 34  percent_fga_from_x2p_range     14337 non-null  float64\n",
            " 35  percent_fga_from_x0_3_range    14337 non-null  float64\n",
            " 36  percent_fga_from_x3_10_range   14337 non-null  float64\n",
            " 37  percent_fga_from_x10_16_range  14337 non-null  float64\n",
            " 38  percent_fga_from_x16_3p_range  14337 non-null  float64\n",
            " 39  percent_fga_from_x3p_range     14337 non-null  float64\n",
            " 40  fg_percent_from_x2p_range      14267 non-null  float64\n",
            " 41  fg_percent_from_x0_3_range     13935 non-null  float64\n",
            " 42  fg_percent_from_x3_10_range    13656 non-null  float64\n",
            " 43  fg_percent_from_x10_16_range   13286 non-null  float64\n",
            " 44  fg_percent_from_x16_3p_range   13221 non-null  float64\n",
            " 45  fg_percent_from_x3p_range      12392 non-null  float64\n",
            " 46  percent_assisted_x2p_fg        14029 non-null  float64\n",
            " 47  percent_assisted_x3p_fg        10575 non-null  float64\n",
            " 48  percent_dunks_of_fga           14337 non-null  float64\n",
            " 49  num_of_dunks                   14422 non-null  int64  \n",
            " 50  percent_corner_3s_of_3pa       12392 non-null  float64\n",
            " 51  corner_3_point_percent         10677 non-null  float64\n",
            " 52  num_heaves_attempted           14422 non-null  int64  \n",
            " 53  num_heaves_made                14422 non-null  int64  \n",
            " 54  mvp_share                      339 non-null    float64\n",
            " 55  gs                             14422 non-null  float64\n",
            " 56  mp_per_game                    14422 non-null  float64\n",
            " 57  fg_per_game                    14422 non-null  float64\n",
            " 58  fga_per_game                   14422 non-null  float64\n",
            " 59  x3p_per_game                   14422 non-null  float64\n",
            " 60  x3pa_per_game                  14422 non-null  float64\n",
            " 61  x3p_percent                    12392 non-null  float64\n",
            " 62  x2p_per_game                   14422 non-null  float64\n",
            " 63  x2pa_per_game                  14422 non-null  float64\n",
            " 64  x2p_percent                    14267 non-null  float64\n",
            " 65  e_fg_percent                   14337 non-null  float64\n",
            " 66  ft_per_game                    14422 non-null  float64\n",
            " 67  fta_per_game                   14422 non-null  float64\n",
            " 68  ft_percent                     13682 non-null  float64\n",
            " 69  orb_per_game                   14422 non-null  float64\n",
            " 70  drb_per_game                   14422 non-null  float64\n",
            " 71  trb_per_game                   14422 non-null  float64\n",
            " 72  ast_per_game                   14422 non-null  float64\n",
            " 73  stl_per_game                   14422 non-null  float64\n",
            " 74  blk_per_game                   14422 non-null  float64\n",
            " 75  tov_per_game                   14422 non-null  float64\n",
            " 76  pf_per_game                    14422 non-null  float64\n",
            " 77  pts_per_game                   14422 non-null  float64\n",
            "dtypes: float64(66), int64(8), object(4)\n",
            "memory usage: 8.7+ MB\n"
          ]
        }
      ],
      "source": [
        "#Trabajo con las temporadas entre 2000 y 2023\n",
        "estadisticas_tiro = estadisticas_tiro.loc[(estadisticas_tiro[\"season\"] >=2000)]\n",
        "estadisticas_avanzadas = estadisticas_avanzadas.loc[(estadisticas_avanzadas[\"season\"] >=2000)]\n",
        "df_premios_jugadores = df_premios_jugadores.loc[(df_premios_jugadores[\"season\"] >=2000)]\n",
        "estadisticas_por_juego = estadisticas_por_juego.loc[(estadisticas_por_juego[\"season\"] >=2000)]\n",
        "\n",
        "#Junto los datasets en uno solo que será el usado para el proyecto\n",
        "df_data_jugadores = estadisticas_avanzadas.merge(estadisticas_tiro, on= identificadores, how='inner')\n",
        "df_data_jugadores = df_data_jugadores.merge(df_premios_jugadores, on= identificadores, how='left')\n",
        "df_data_jugadores = df_data_jugadores.merge(estadisticas_por_juego, on= identificadores, how='left')\n",
        "\n",
        "#Finalmente miramos el dataset resultante\n",
        "df_data_jugadores.info()"
      ]
    },
    {
      "cell_type": "markdown",
      "metadata": {
        "id": "HtucN95oJj8q"
      },
      "source": [
        "Del output anterior pudimos notar que en la columna **'birth_year'** hay una gran cantidad de valores faltantes, además que saber la fecha en que nació un jugador no será de gran relevancia para los propositos del análisis, por lo tanto procedemos a eliminarla:"
      ]
    },
    {
      "cell_type": "code",
      "execution_count": null,
      "metadata": {
        "id": "G-XxZDb8KBpM"
      },
      "outputs": [],
      "source": [
        "df_data_jugadores.drop(['birth_year'], axis = 1, inplace= True)"
      ]
    },
    {
      "cell_type": "markdown",
      "metadata": {
        "id": "ZP3nAcYhON2F"
      },
      "source": [
        "Del mismo modo, existen columnas, como **'experience'**, que resultan redundantes en el análisis, ya que reflejan la cantidad de años que un jugador ha estado en la liga, información que puede deducirse fácilmente a partir de la columna **'season'**. Por lo tanto, procedemos a eliminarla:"
      ]
    },
    {
      "cell_type": "code",
      "execution_count": null,
      "metadata": {
        "id": "wsaPn_pePCip"
      },
      "outputs": [],
      "source": [
        "df_data_jugadores.drop(['experience'], axis = 1, inplace= True)"
      ]
    },
    {
      "cell_type": "markdown",
      "metadata": {
        "id": "7iWTDSkdheoZ"
      },
      "source": [
        "La columna **'tm'** contiene información sobre los equipos, y en ella encontramos una entrada con el nombre **'TOT'**. Sin embargo, **'TOT'** no representa un equipo en el sentido tradicional; más bien, se refiere a estadísticas totales de jugadores que **cambiaron de equipo** a mitad de temporada. Esta situación podría causar problemas, ya que se traduciría en datos duplicados para diferentes jugadores. Por lo tanto, hemos decidido eliminar estas entradas para garantizar la integridad de nuestros datos:"
      ]
    },
    {
      "cell_type": "code",
      "execution_count": null,
      "metadata": {
        "id": "PkcvRMiQiT48"
      },
      "outputs": [],
      "source": [
        "df_data_jugadores.drop(df_data_jugadores[df_data_jugadores['tm'] == 'TOT'].index, inplace=True)"
      ]
    },
    {
      "cell_type": "markdown",
      "metadata": {
        "id": "CMiy_z7VPKWZ"
      },
      "source": [
        "Ahora que disponemos del conjunto de datos que alberga la información relevante, nos encontramos en la fase final, que implica la selección de los jugadores idóneos para llevar a cabo un análisis preciso.\n",
        "\n",
        "En un primer acercamiento, notamos que en la columna **'mvp_share'** (nuestro objetivo) contamos con instancias que representan temporadas en las que ciertos jugadores obtuvieron votos para el premio al **Jugador Más Valioso**. Son estos jugadores en quienes basaremos nuestro análisis, con el propósito de identificar acontecimientos significativos en el transcurso de sus carreras antes y después de recibir votos o ganar el premio. Incluso en casos excepcionales en los que algunos jugadores han ganado el premio en **múltiples ocasiones**, nuestro objetivo es identificar patrones comunes. Esto nos permitirá obtener una comprensión clara de los criterios que influyen en la obtención de tan prestigioso galardón."
      ]
    },
    {
      "cell_type": "code",
      "execution_count": null,
      "metadata": {
        "colab": {
          "base_uri": "https://localhost:8080/"
        },
        "id": "NJQ6MvOORc6K",
        "outputId": "4f92c57a-1b0a-4121-d914-cf7468e82326"
      },
      "outputs": [
        {
          "name": "stdout",
          "output_type": "stream",
          "text": [
            "<class 'pandas.core.frame.DataFrame'>\n",
            "Int64Index: 1269 entries, 24 to 14407\n",
            "Data columns (total 76 columns):\n",
            " #   Column                         Non-Null Count  Dtype  \n",
            "---  ------                         --------------  -----  \n",
            " 0   seas_id                        1269 non-null   int64  \n",
            " 1   season                         1269 non-null   int64  \n",
            " 2   player_id                      1269 non-null   int64  \n",
            " 3   player                         1269 non-null   object \n",
            " 4   pos                            1269 non-null   object \n",
            " 5   age                            1269 non-null   float64\n",
            " 6   lg                             1269 non-null   object \n",
            " 7   tm                             1269 non-null   object \n",
            " 8   g                              1269 non-null   int64  \n",
            " 9   mp                             1269 non-null   float64\n",
            " 10  per                            1269 non-null   float64\n",
            " 11  ts_percent                     1269 non-null   float64\n",
            " 12  x3p_ar                         1269 non-null   float64\n",
            " 13  f_tr                           1269 non-null   float64\n",
            " 14  orb_percent                    1269 non-null   float64\n",
            " 15  drb_percent                    1269 non-null   float64\n",
            " 16  trb_percent                    1269 non-null   float64\n",
            " 17  ast_percent                    1269 non-null   float64\n",
            " 18  stl_percent                    1269 non-null   float64\n",
            " 19  blk_percent                    1269 non-null   float64\n",
            " 20  tov_percent                    1269 non-null   float64\n",
            " 21  usg_percent                    1269 non-null   float64\n",
            " 22  ows                            1269 non-null   float64\n",
            " 23  dws                            1269 non-null   float64\n",
            " 24  ws                             1269 non-null   float64\n",
            " 25  ws_48                          1269 non-null   float64\n",
            " 26  obpm                           1269 non-null   float64\n",
            " 27  dbpm                           1269 non-null   float64\n",
            " 28  bpm                            1269 non-null   float64\n",
            " 29  vorp                           1269 non-null   float64\n",
            " 30  fg_percent                     1269 non-null   float64\n",
            " 31  avg_dist_fga                   1269 non-null   float64\n",
            " 32  percent_fga_from_x2p_range     1269 non-null   float64\n",
            " 33  percent_fga_from_x0_3_range    1269 non-null   float64\n",
            " 34  percent_fga_from_x3_10_range   1269 non-null   float64\n",
            " 35  percent_fga_from_x10_16_range  1269 non-null   float64\n",
            " 36  percent_fga_from_x16_3p_range  1269 non-null   float64\n",
            " 37  percent_fga_from_x3p_range     1269 non-null   float64\n",
            " 38  fg_percent_from_x2p_range      1269 non-null   float64\n",
            " 39  fg_percent_from_x0_3_range     1267 non-null   float64\n",
            " 40  fg_percent_from_x3_10_range    1261 non-null   float64\n",
            " 41  fg_percent_from_x10_16_range   1260 non-null   float64\n",
            " 42  fg_percent_from_x16_3p_range   1253 non-null   float64\n",
            " 43  fg_percent_from_x3p_range      1208 non-null   float64\n",
            " 44  percent_assisted_x2p_fg        1268 non-null   float64\n",
            " 45  percent_assisted_x3p_fg        1082 non-null   float64\n",
            " 46  percent_dunks_of_fga           1269 non-null   float64\n",
            " 47  num_of_dunks                   1269 non-null   int64  \n",
            " 48  percent_corner_3s_of_3pa       1208 non-null   float64\n",
            " 49  corner_3_point_percent         1066 non-null   float64\n",
            " 50  num_heaves_attempted           1269 non-null   int64  \n",
            " 51  num_heaves_made                1269 non-null   int64  \n",
            " 52  mvp_share                      334 non-null    float64\n",
            " 53  gs                             1269 non-null   float64\n",
            " 54  mp_per_game                    1269 non-null   float64\n",
            " 55  fg_per_game                    1269 non-null   float64\n",
            " 56  fga_per_game                   1269 non-null   float64\n",
            " 57  x3p_per_game                   1269 non-null   float64\n",
            " 58  x3pa_per_game                  1269 non-null   float64\n",
            " 59  x3p_percent                    1208 non-null   float64\n",
            " 60  x2p_per_game                   1269 non-null   float64\n",
            " 61  x2pa_per_game                  1269 non-null   float64\n",
            " 62  x2p_percent                    1269 non-null   float64\n",
            " 63  e_fg_percent                   1269 non-null   float64\n",
            " 64  ft_per_game                    1269 non-null   float64\n",
            " 65  fta_per_game                   1269 non-null   float64\n",
            " 66  ft_percent                     1266 non-null   float64\n",
            " 67  orb_per_game                   1269 non-null   float64\n",
            " 68  drb_per_game                   1269 non-null   float64\n",
            " 69  trb_per_game                   1269 non-null   float64\n",
            " 70  ast_per_game                   1269 non-null   float64\n",
            " 71  stl_per_game                   1269 non-null   float64\n",
            " 72  blk_per_game                   1269 non-null   float64\n",
            " 73  tov_per_game                   1269 non-null   float64\n",
            " 74  pf_per_game                    1269 non-null   float64\n",
            " 75  pts_per_game                   1269 non-null   float64\n",
            "dtypes: float64(65), int64(7), object(4)\n",
            "memory usage: 763.4+ KB\n"
          ]
        }
      ],
      "source": [
        "#Filtro las filas donde 'mvp_share' no sea un valor faltante\n",
        "df_data_jugadores_mvp = df_data_jugadores[df_data_jugadores['mvp_share'].notna()]\n",
        "\n",
        "#Armo una lista de nombres de jugadores con valor en 'mvp_share'\n",
        "nombres_con_mvp_share = df_data_jugadores_mvp['player'].unique()\n",
        "\n",
        "#Me quedo con las instancias cuyo nombre está en la lista\n",
        "df_data_jugadores = df_data_jugadores[df_data_jugadores['player'].isin(nombres_con_mvp_share)]\n",
        "\n",
        "#Veo el resultado\n",
        "df_data_jugadores.info()"
      ]
    },
    {
      "cell_type": "markdown",
      "metadata": {
        "id": "nTwspe2ja4En"
      },
      "source": [
        "Como mencionamos anteriormente, para hacer un análisis más robusto nos enfocaremos en temporadas cercanas a la temporada en la cual un jugador recibió votos, entonces dicho esto procedemos a hacer un último filtrado:"
      ]
    },
    {
      "cell_type": "code",
      "execution_count": null,
      "metadata": {
        "id": "2bgUm_0Cbelp"
      },
      "outputs": [],
      "source": [
        "def crear_df_jugador(jugador:str, dataframe):\n",
        "    df_info_jugador = dataframe[dataframe['player'] == jugador]\n",
        "\n",
        "    return df_info_jugador\n",
        "\n",
        "def filtrar_temporadas_jugador(df_jugador):\n",
        "\n",
        "    #Inicializo una lista para quedarme con las temporadas de interés\n",
        "    temporadas_interesantes = []\n",
        "\n",
        "    #Con el dataframe del jugador voy iterando fila por fila\n",
        "    for index, fila in df_jugador.iterrows():\n",
        "\n",
        "      #Voy iterando hata encontrame con una fila sin valor nulo en 'mvp_share'\n",
        "        if not pd.isna(fila['mvp_share']):\n",
        "\n",
        "            #Usando el criterio me quedo con las temporadas de interés\n",
        "            temporada_actual = fila['season']\n",
        "            temporada_anterior = temporada_actual - 1\n",
        "            temporada_siguiente = temporada_actual + 1\n",
        "\n",
        "            #Incluyo las temporadas a la lista\n",
        "            temporadas_interesantes.append(temporada_actual)\n",
        "\n",
        "            if temporada_anterior >= 2000:\n",
        "              temporadas_interesantes.append(temporada_anterior)\n",
        "\n",
        "            if temporada_siguiente <= 2023:\n",
        "              temporadas_interesantes.append(temporada_siguiente)\n",
        "\n",
        "    #Aplico el filtro al DataFrame del jugador para incluir solo las temporadas de interés\n",
        "    filtro_temporadas_interesantes = df_jugador['season'].isin(temporadas_interesantes)\n",
        "    jugador_filtrado = df_jugador[filtro_temporadas_interesantes]\n",
        "\n",
        "    return jugador_filtrado\n",
        "\n",
        "\n",
        "def filtrar_temporadas_jugadores(dataframe):\n",
        "    jugadores_unicos = dataframe['player'].unique()  # Obtiene la lista de jugadores únicos\n",
        "\n",
        "    # Inicializa un DataFrame vacío donde se concatenarán los resultados\n",
        "    resultado_final = pd.DataFrame()\n",
        "\n",
        "    # Itera sobre la lista de jugadores únicos\n",
        "    for jugador in jugadores_unicos:\n",
        "        jugador_filtrado = filtrar_temporadas_jugador(crear_df_jugador(jugador, dataframe))\n",
        "        resultado_final = pd.concat([resultado_final, jugador_filtrado])\n",
        "\n",
        "    return resultado_final\n",
        "\n",
        "#Aplico el filtro a todos los jugadores en el DataFrame general\n",
        "df_data_jugadores = filtrar_temporadas_jugadores(df_data_jugadores)"
      ]
    },
    {
      "cell_type": "markdown",
      "metadata": {
        "id": "k-TUp-ms37OS"
      },
      "source": [
        "Después de aplicar el filtro necesario, hemos obtenido el conjunto de datos que emplearemos en el proyecto. Como paso final, procederemos a **imputar el valor 0** en las celdas con datos faltantes en la variable **'mvp_share'**. Esta acción se justifica, ya que la ausencia de un valor en esta columna indica que el jugador no recibió votos, lo que es equivalente a asignarle un valor de 0 votos."
      ]
    },
    {
      "cell_type": "code",
      "execution_count": null,
      "metadata": {
        "colab": {
          "base_uri": "https://localhost:8080/"
        },
        "id": "6zzpicsP4Z_s",
        "outputId": "a58a93c8-bea1-4b42-f343-dd2925183132"
      },
      "outputs": [
        {
          "name": "stdout",
          "output_type": "stream",
          "text": [
            "<class 'pandas.core.frame.DataFrame'>\n",
            "Int64Index: 585 entries, 1520 to 13218\n",
            "Data columns (total 76 columns):\n",
            " #   Column                         Non-Null Count  Dtype  \n",
            "---  ------                         --------------  -----  \n",
            " 0   seas_id                        585 non-null    int64  \n",
            " 1   season                         585 non-null    int64  \n",
            " 2   player_id                      585 non-null    int64  \n",
            " 3   player                         585 non-null    object \n",
            " 4   pos                            585 non-null    object \n",
            " 5   age                            585 non-null    float64\n",
            " 6   lg                             585 non-null    object \n",
            " 7   tm                             585 non-null    object \n",
            " 8   g                              585 non-null    int64  \n",
            " 9   mp                             585 non-null    float64\n",
            " 10  per                            585 non-null    float64\n",
            " 11  ts_percent                     585 non-null    float64\n",
            " 12  x3p_ar                         585 non-null    float64\n",
            " 13  f_tr                           585 non-null    float64\n",
            " 14  orb_percent                    585 non-null    float64\n",
            " 15  drb_percent                    585 non-null    float64\n",
            " 16  trb_percent                    585 non-null    float64\n",
            " 17  ast_percent                    585 non-null    float64\n",
            " 18  stl_percent                    585 non-null    float64\n",
            " 19  blk_percent                    585 non-null    float64\n",
            " 20  tov_percent                    585 non-null    float64\n",
            " 21  usg_percent                    585 non-null    float64\n",
            " 22  ows                            585 non-null    float64\n",
            " 23  dws                            585 non-null    float64\n",
            " 24  ws                             585 non-null    float64\n",
            " 25  ws_48                          585 non-null    float64\n",
            " 26  obpm                           585 non-null    float64\n",
            " 27  dbpm                           585 non-null    float64\n",
            " 28  bpm                            585 non-null    float64\n",
            " 29  vorp                           585 non-null    float64\n",
            " 30  fg_percent                     585 non-null    float64\n",
            " 31  avg_dist_fga                   585 non-null    float64\n",
            " 32  percent_fga_from_x2p_range     585 non-null    float64\n",
            " 33  percent_fga_from_x0_3_range    585 non-null    float64\n",
            " 34  percent_fga_from_x3_10_range   585 non-null    float64\n",
            " 35  percent_fga_from_x10_16_range  585 non-null    float64\n",
            " 36  percent_fga_from_x16_3p_range  585 non-null    float64\n",
            " 37  percent_fga_from_x3p_range     585 non-null    float64\n",
            " 38  fg_percent_from_x2p_range      585 non-null    float64\n",
            " 39  fg_percent_from_x0_3_range     585 non-null    float64\n",
            " 40  fg_percent_from_x3_10_range    584 non-null    float64\n",
            " 41  fg_percent_from_x10_16_range   585 non-null    float64\n",
            " 42  fg_percent_from_x16_3p_range   579 non-null    float64\n",
            " 43  fg_percent_from_x3p_range      566 non-null    float64\n",
            " 44  percent_assisted_x2p_fg        585 non-null    float64\n",
            " 45  percent_assisted_x3p_fg        522 non-null    float64\n",
            " 46  percent_dunks_of_fga           585 non-null    float64\n",
            " 47  num_of_dunks                   585 non-null    int64  \n",
            " 48  percent_corner_3s_of_3pa       566 non-null    float64\n",
            " 49  corner_3_point_percent         507 non-null    float64\n",
            " 50  num_heaves_attempted           585 non-null    int64  \n",
            " 51  num_heaves_made                585 non-null    int64  \n",
            " 52  mvp_share                      585 non-null    float64\n",
            " 53  gs                             585 non-null    float64\n",
            " 54  mp_per_game                    585 non-null    float64\n",
            " 55  fg_per_game                    585 non-null    float64\n",
            " 56  fga_per_game                   585 non-null    float64\n",
            " 57  x3p_per_game                   585 non-null    float64\n",
            " 58  x3pa_per_game                  585 non-null    float64\n",
            " 59  x3p_percent                    566 non-null    float64\n",
            " 60  x2p_per_game                   585 non-null    float64\n",
            " 61  x2pa_per_game                  585 non-null    float64\n",
            " 62  x2p_percent                    585 non-null    float64\n",
            " 63  e_fg_percent                   585 non-null    float64\n",
            " 64  ft_per_game                    585 non-null    float64\n",
            " 65  fta_per_game                   585 non-null    float64\n",
            " 66  ft_percent                     585 non-null    float64\n",
            " 67  orb_per_game                   585 non-null    float64\n",
            " 68  drb_per_game                   585 non-null    float64\n",
            " 69  trb_per_game                   585 non-null    float64\n",
            " 70  ast_per_game                   585 non-null    float64\n",
            " 71  stl_per_game                   585 non-null    float64\n",
            " 72  blk_per_game                   585 non-null    float64\n",
            " 73  tov_per_game                   585 non-null    float64\n",
            " 74  pf_per_game                    585 non-null    float64\n",
            " 75  pts_per_game                   585 non-null    float64\n",
            "dtypes: float64(65), int64(7), object(4)\n",
            "memory usage: 351.9+ KB\n"
          ]
        }
      ],
      "source": [
        "#Imputo los ceros\n",
        "df_data_jugadores['mvp_share'].fillna(0, inplace=True)\n",
        "\n",
        "#Miro los resultados\n",
        "df_data_jugadores.info()"
      ]
    },
    {
      "cell_type": "markdown",
      "metadata": {
        "id": "t3uGmQY02HTJ"
      },
      "source": [
        "## Separamos los datos"
      ]
    },
    {
      "cell_type": "markdown",
      "metadata": {
        "id": "oXjsEQ0DLnlF"
      },
      "source": [
        "Después de adquirir el conjunto de datos con el que trabajaremos, debemos realizar un último paso: la división de los datos en conjuntos de **entrenamiento y prueba**:\n"
      ]
    },
    {
      "cell_type": "code",
      "execution_count": null,
      "metadata": {
        "id": "V3HuUEdXAioK"
      },
      "outputs": [],
      "source": [
        "#Selecciono a los jugadores\n",
        "df_giannis = crear_df_jugador('Giannis Antetokounmpo',df_data_jugadores)\n",
        "df_embiid = crear_df_jugador('Joel Embiid',df_data_jugadores)\n",
        "df_jokic = crear_df_jugador('Nikola Jokić',df_data_jugadores)\n",
        "df_harden = crear_df_jugador('James Harden',df_data_jugadores)\n",
        "df_lebron = crear_df_jugador('LeBron James',df_data_jugadores)\n",
        "\n",
        "#Selecciono ahora sus nombres\n",
        "nombres_a_eliminar = ['Giannis Antetokounmpo', 'Joel Embiid','Nikola Jokić','LeBron James','James Harden']\n",
        "\n",
        "#Los elimino del dataset original para ahora convertirlo en un train\n",
        "df_data_jugadores_train  = df_data_jugadores[~df_data_jugadores['player'].isin(nombres_a_eliminar)]\n",
        "df_data_jugadores_train  = df_data_jugadores_train[df_data_jugadores_train['season'] < 2022]\n",
        "\n",
        "#Junto todos esos dataframes en el test que evaluaremos al final\n",
        "df_data_jugadores_test  = df_data_jugadores[df_data_jugadores['season'] >= 2022]"
      ]
    },
    {
      "cell_type": "markdown",
      "metadata": {
        "id": "g0TjwBSKNl2e"
      },
      "source": [
        "Como se ha podido observar, consideramos como instancias de entrenamiento a las que se ubicaban entre las temporadas **2000 y 2021**, y como datos de prueba dejamos fuera **las últimas dos temporadas**, esto con el objetivo de predecir las premiaciones más recientes.\n",
        "\n",
        "Además decidimos realizar una separación un tanto particular en nuestro enfoque. Optamos por seleccionar **ciertos jugadores** que han ganado el premio en los años recientes y **apartarlos del conjunto de datos de entrenamiento**. Esta elección se basa en la idea de utilizarlos como un grupo de **\"prueba\"** para evaluar adecuadamente la capacidad de generalización de nuestro modelo."
      ]
    },
    {
      "cell_type": "markdown",
      "metadata": {
        "id": "VrnWjo_cB_Dn"
      },
      "source": [
        "# Analizando los datos"
      ]
    },
    {
      "cell_type": "markdown",
      "metadata": {
        "id": "w2azQq_wh9DQ"
      },
      "source": [
        "Como primer paso del análisis miramos las correlaciones del resto de variables con respecto a la variable objetivo la cual es **'mvp_share'**. Esto nos servirá para tener una idea inicial sobre a cuales features darles importancia o que esperar sobre nuestro modelo."
      ]
    },
    {
      "cell_type": "code",
      "execution_count": null,
      "metadata": {
        "colab": {
          "base_uri": "https://localhost:8080/"
        },
        "id": "jeZnz0y3CDbB",
        "outputId": "ebf45eff-56af-4c65-8e56-3f20fd6417f4"
      },
      "outputs": [
        {
          "name": "stdout",
          "output_type": "stream",
          "text": [
            "mvp_share       1.000000\n",
            "vorp            0.553986\n",
            "ws              0.508459\n",
            "per             0.483577\n",
            "bpm             0.470015\n",
            "ws_48           0.447815\n",
            "ows             0.441783\n",
            "obpm            0.434651\n",
            "pts_per_game    0.351145\n",
            "fg_per_game     0.349332\n",
            "dws             0.343751\n",
            "fta_per_game    0.298962\n",
            "x2p_per_game    0.281425\n",
            "ft_per_game     0.278470\n",
            "usg_percent     0.277086\n",
            "Name: mvp_share, dtype: float64\n"
          ]
        },
        {
          "name": "stderr",
          "output_type": "stream",
          "text": [
            "<ipython-input-17-7cb2835dea26>:1: FutureWarning: The default value of numeric_only in DataFrame.corr is deprecated. In a future version, it will default to False. Select only valid columns or specify the value of numeric_only to silence this warning.\n",
            "  corr_matrix = df_data_jugadores_train.corr()\n"
          ]
        }
      ],
      "source": [
        "corr_matrix = df_data_jugadores_train.corr()\n",
        "print(corr_matrix[\"mvp_share\"].sort_values(ascending=False).head(15))"
      ]
    },
    {
      "cell_type": "markdown",
      "metadata": {
        "id": "RNnLyctNii8K"
      },
      "source": [
        "Podemos observar que entre las características que presentan una mayor correlación con nuestra variable objetivo se encuentran:\n",
        "\n",
        "*   **'vorp' (Value over Replacement Player)**: Es una estadística avanzada que busca cuantificar el valor total que un jugador aporta a su equipo en comparación con un jugador genérico de reemplazo que estaría disponible para jugar en su lugar.\n",
        "\n",
        "*   **'bpm' (Box Plus/Minus)**: Calcula el más/menos de un jugador respecto al rendimiento del equipo por cada 100 posesiones.\n",
        "\n",
        "*   **'per' (Player Efficiency Rating)**: Una fórmula que calcula la **eficencia de un jugador en base a lo que produce por minuto**. El PER toma en cuenta los aciertos en tiros de campo, tiros libres, triples, asistencias, rebotes, tapones y robos, y los errores como tiros fallados, pérdidas de balón y faltas personales. La fórmula agrega estadísticas positivas y resta las negativas a través de un sistema de valores de puntos estadísticos. Este sistema fue **desarrollado por [John Hollinger](https://en.wikipedia.org/wiki/John_Hollinger)**.\n",
        "\n",
        "*   **'ws' (Win Shares)**: Indice que reparte el éxito de un equipo entre cada uno de los individuos de ese equipo, estimando el número de victorias que genera un jugador en base a estadísticas individuales, de equipo y de toda la Liga.\n",
        "\n",
        "*   **'ws_48' (Win Shares per 48 min)**:\n",
        "Es igual a la estadística definida anteriormente, pero esta se basa en 48 minutos porque esa es la duración exacta de un partido de la NBA. Por lo tanto, esta estadística puede medir cuánto contribuye un jugador a un esfuerzo ganador en función de su desempeño por minuto en cada partido.\n",
        "\n",
        "*   **'obpm' (Offensive Box Plus/Minus)**: El Box Plus/Minus ofensivo (OBPM) es una estadística en baloncesto que mide la contribución de un jugador en términos de puntos por encima del promedio de la liga por cada 100 posesiones jugadas, centrándose exclusivamente en su rendimiento ofensivo. Muestra cuánto un jugador mejora la producción ofensiva de su equipo cuando está en la cancha.\n",
        "\n",
        "La alta correlación de estas características con la variable objetivo no es coincidencia, ya que concuerda con lo que mencionamos anteriormente sobre el significado de **ser el jugador más valioso**. Se refiere a un jugador que tiene un impacto positivo significativo en su equipo en comparación con sus compañeros."
      ]
    },
    {
      "cell_type": "markdown",
      "metadata": {
        "id": "ykPuojcol9QG"
      },
      "source": [
        "Ahora con esto en mente, procedemos a ver de forma gráfica estas correlaciones para darnos una idea más clara de lo que está ocurriendo:"
      ]
    },
    {
      "cell_type": "code",
      "execution_count": null,
      "metadata": {
        "colab": {
          "base_uri": "https://localhost:8080/",
          "height": 801
        },
        "id": "VZfBXiAtMoMB",
        "outputId": "9647f25d-1739-4eae-a217-b44eb086006e"
      },
      "outputs": [
        {
          "data": {
            "application/javascript": "\n    async function download(id, filename, size) {\n      if (!google.colab.kernel.accessAllowed) {\n        return;\n      }\n      const div = document.createElement('div');\n      const label = document.createElement('label');\n      label.textContent = `Downloading \"${filename}\": `;\n      div.appendChild(label);\n      const progress = document.createElement('progress');\n      progress.max = size;\n      div.appendChild(progress);\n      document.body.appendChild(div);\n\n      const buffers = [];\n      let downloaded = 0;\n\n      const channel = await google.colab.kernel.comms.open(id);\n      // Send a message to notify the kernel that we're ready.\n      channel.send({})\n\n      for await (const message of channel.messages) {\n        // Send a message to notify the kernel that we're ready.\n        channel.send({})\n        if (message.buffers) {\n          for (const buffer of message.buffers) {\n            buffers.push(buffer);\n            downloaded += buffer.byteLength;\n            progress.value = downloaded;\n          }\n        }\n      }\n      const blob = new Blob(buffers, {type: 'application/binary'});\n      const a = document.createElement('a');\n      a.href = window.URL.createObjectURL(blob);\n      a.download = filename;\n      div.appendChild(a);\n      a.click();\n      div.remove();\n    }\n  ",
            "text/plain": [
              "<IPython.core.display.Javascript object>"
            ]
          },
          "metadata": {},
          "output_type": "display_data"
        },
        {
          "data": {
            "application/javascript": "download(\"download_54be0b28-0c76-4f53-ac55-ae3592eb74a5\", \"scatter.svg\", 457233)",
            "text/plain": [
              "<IPython.core.display.Javascript object>"
            ]
          },
          "metadata": {},
          "output_type": "display_data"
        },
        {
          "data": {
            "image/png": "[encoded data removed]",
            "text/plain": [
              "<Figure size 1400x800 with 6 Axes>"
            ]
          },
          "metadata": {},
          "output_type": "display_data"
        }
      ],
      "source": [
        "fig, axes = plt.subplots(2, 3, figsize=(14, 8))\n",
        "\n",
        "columnas = ['vorp', 'bpm', 'per', 'ws', 'ws_48', 'obpm']\n",
        "titulos = ['Value over Replacement Player', 'Box Plus/Minus', 'Player Efficiency Rating', 'Win Shares', 'Win Shares per 48 min', 'Offensive Box Plus/Minus']\n",
        "\n",
        "for i, col in enumerate(columnas):\n",
        "    sns.scatterplot(x=col, y='mvp_share', data=df_data_jugadores_train, ax=axes[i // 3, i % 3])\n",
        "    axes[i // 3, i % 3].set_title(f'{titulos[i]} vs MVP shares')\n",
        "\n",
        "plt.tight_layout()"
      ]
    },
    {
      "cell_type": "markdown",
      "metadata": {
        "id": "BCHdhTNYE5y5"
      },
      "source": [
        "Podemos notar que en los cinco atributos, la relación con **'mvp_share'** es positiva y ascendente. Este gráfico nos brinda una herramienta valiosa para identificar los **\"destacados\"** entre los jugadores, aquellos que recibieron una considerable cantidad de votos, lo que sugiere que tuvieron temporadas excepcionales."
      ]
    },
    {
      "cell_type": "markdown",
      "metadata": {
        "id": "-VoGt7aLGDuN"
      },
      "source": [
        "Ahora analizaremos como se distribuyen estos datos para detectar la existencia de grupos entre los jugadores con respecto a estos atributos:"
      ]
    },
    {
      "cell_type": "code",
      "execution_count": null,
      "metadata": {
        "colab": {
          "base_uri": "https://localhost:8080/",
          "height": 807
        },
        "id": "y9qDM0AXFwn8",
        "outputId": "1c5842f6-926b-4b1b-bb2e-9f98cf6e09e8"
      },
      "outputs": [
        {
          "data": {
            "image/png": "[encoded data removed]",
            "text/plain": [
              "<Figure size 1400x800 with 6 Axes>"
            ]
          },
          "metadata": {},
          "output_type": "display_data"
        }
      ],
      "source": [
        "fig, axes = plt.subplots(2, 3, figsize=(14, 8))\n",
        "\n",
        "columnas = ['vorp', 'bpm', 'per', 'ws', 'ws_48', 'obpm']\n",
        "titulos = ['Value over Replacement Player', 'Box Plus/Minus', 'Player Efficiency Rating', 'Win Shares', 'Win Shares per 48 min', 'Offensive Box Plus/Minus']\n",
        "\n",
        "for i, col in enumerate(columnas):\n",
        "    axes[i // 3, i % 3].hist(df_data_jugadores_train[col], bins=20, color='skyblue', edgecolor='black')\n",
        "    axes[i // 3, i % 3].set_title(f'{titulos[i]}')\n",
        "\n",
        "plt.tight_layout()"
      ]
    },
    {
      "cell_type": "markdown",
      "metadata": {
        "id": "lbxxp7nQIb3K"
      },
      "source": [
        "Todo sugiere que tenemos una distribución uniforme en las variables de interés. Esto indica que, hasta el momento, nuestros datos no presentan ningún problema aparente."
      ]
    },
    {
      "cell_type": "markdown",
      "metadata": {
        "id": "fTNzlsGqR89w"
      },
      "source": [
        "Luego de un exhaustivo análisis de datos, optamos por seleccionar features **basándonos en la correlación** que presentan con nuestro objetivo. Inicialmente, nos enfocaremos en aquellas con una correlación **superior a 0.25**. Aunque solo se presentan algunas, estas variables parecen ser predictores valiosos, ya que cada una resalta un aspecto específico del jugador. En consecuencia, hemos decidido emplear las **14 features** que cumplen con la correlación que deseamos."
      ]
    },
    {
      "cell_type": "code",
      "execution_count": null,
      "metadata": {
        "id": "2ptmXolISLMw"
      },
      "outputs": [],
      "source": [
        "correlated_features = corr_matrix[\"mvp_share\"].sort_values(ascending=False).index.tolist()[1:15]"
      ]
    },
    {
      "cell_type": "markdown",
      "metadata": {
        "id": "pNOUHnxrv9L1"
      },
      "source": [
        "# Preprocesamiento de datos"
      ]
    },
    {
      "cell_type": "markdown",
      "metadata": {
        "id": "MQQh_LiPtZaa"
      },
      "source": [
        "Hasta este punto, hemos creado un conjunto de datos para el proyecto, analizado los datos y descubierto patrones que pueden resultar valiosos al desarrollar el modelo final. El siguiente paso consiste en preparar estas variables de interés para su uso en el entrenamiento de nuestro modelo."
      ]
    },
    {
      "cell_type": "markdown",
      "metadata": {
        "id": "r933LGsQtxqc"
      },
      "source": [
        "Primero procederemos a separar las variables en **X_train** (que contendrá las  candidatas a variables predictoras) y **y_train** (donde ubicaremos nuestra variable objetivo, **'mvp_share'**)."
      ]
    },
    {
      "cell_type": "code",
      "execution_count": null,
      "metadata": {
        "id": "Z9RdJua5xLJF"
      },
      "outputs": [],
      "source": [
        "X_train = df_data_jugadores_train.loc[:, correlated_features]\n",
        "y_train = df_data_jugadores_train.loc[:, ['mvp_share']]"
      ]
    },
    {
      "cell_type": "markdown",
      "metadata": {
        "id": "dvwTQl4-w6W4"
      },
      "source": [
        "Comencemos por verificar si existen valores faltantes en **X_train**. Dado que ya hemos imputado el valor cero en toda la variable **y_train**, no es necesario hacer esta misma examinación en ella."
      ]
    },
    {
      "cell_type": "code",
      "execution_count": null,
      "metadata": {
        "colab": {
          "base_uri": "https://localhost:8080/"
        },
        "id": "pwzid8jhwxk4",
        "outputId": "f8082950-8ac8-4905-b72c-7deded53841b"
      },
      "outputs": [
        {
          "name": "stdout",
          "output_type": "stream",
          "text": [
            "vorp            0\n",
            "ws              0\n",
            "per             0\n",
            "bpm             0\n",
            "ws_48           0\n",
            "ows             0\n",
            "obpm            0\n",
            "pts_per_game    0\n",
            "fg_per_game     0\n",
            "dws             0\n",
            "fta_per_game    0\n",
            "x2p_per_game    0\n",
            "ft_per_game     0\n",
            "usg_percent     0\n",
            "dtype: int64\n"
          ]
        }
      ],
      "source": [
        "#Guardo la suma de valores faltantes por columna\n",
        "valores_faltantes = X_train.isnull().sum()\n",
        "\n",
        "print(valores_faltantes)"
      ]
    },
    {
      "cell_type": "markdown",
      "metadata": {
        "id": "Uqir6LpIxSnQ"
      },
      "source": [
        "Observamos que en nuestras variables de interés no contamos con valores faltantes, por lo tanto podemos proseguir con la estandarización de los datos:"
      ]
    },
    {
      "cell_type": "code",
      "execution_count": null,
      "metadata": {
        "id": "58YRrYh4T9pV"
      },
      "outputs": [],
      "source": [
        "from sklearn.pipeline import Pipeline\n",
        "from sklearn.preprocessing import StandardScaler\n",
        "\n",
        "#Genero un pipeline\n",
        "pip = Pipeline([\n",
        " ('std_scaler', StandardScaler())\n",
        " ])\n",
        "\n",
        "#Aplico la transformación\n",
        "X_train_prepared = pip.fit_transform(X_train)"
      ]
    },
    {
      "cell_type": "markdown",
      "metadata": {
        "id": "PKG_UCyW4Yha"
      },
      "source": [
        "# Trabajando el modelo"
      ]
    },
    {
      "cell_type": "markdown",
      "metadata": {
        "id": "qh_Ptp-2_94P"
      },
      "source": [
        "Ahora, llegamos a la etapa en la que comenzamos a modelar nuestros datos y explorar qué información relevante pueden proporcionarnos, lo que constituye el núcleo de nuestro proyecto. Nuestro criterio para determinar la idoneidad de un modelo se basa en su capacidad para minimizar el error en las predicciones y así poder ubicar de manera correcta a los jugadores que están en **el podio del premio**."
      ]
    },
    {
      "cell_type": "markdown",
      "metadata": {
        "id": "yElpyfyXX_NB"
      },
      "source": [
        "## Definición de funciones útiles"
      ]
    },
    {
      "cell_type": "markdown",
      "metadata": {
        "id": "blXMW43Y_cE2"
      },
      "source": [
        "Antes de empezar con el proceso de entrenamiento de un modelo, decidimos generar algunas funciones que nos serán útiles para luego simplicar este proceso:"
      ]
    },
    {
      "cell_type": "code",
      "execution_count": null,
      "metadata": {
        "id": "k1VVbXzFYCXa"
      },
      "outputs": [],
      "source": [
        "from sklearn.model_selection import cross_validate, TimeSeriesSplit\n",
        "from sklearn.metrics import make_scorer, mean_squared_error, explained_variance_score, r2_score\n",
        "from sklearn.model_selection import RandomizedSearchCV\n",
        "from sklearn.ensemble import RandomForestRegressor\n",
        "import warnings\n",
        "warnings.filterwarnings(\"ignore\")\n",
        "\n",
        "#Defino una grilla de métricas para regresión\n",
        "regression_scores = {'R^2 score' : 'r2',\n",
        "                     'Explained Variance':'explained_variance',\n",
        "                     'MSE':'neg_mean_squared_error',\n",
        "                     'RMSE' : make_scorer(mean_squared_error, squared=False),\n",
        "                     }\n",
        "\n",
        "#Hago una función para la validación cruzada\n",
        "def cross_validation_scores(model, X, y, scoring, CV):\n",
        "    '''\n",
        "    Métricas de validación cruzada\n",
        "\n",
        "    param_model: modelo\n",
        "    param_X: características\n",
        "    param_y: etiqueta objetivo\n",
        "    param_scoring: una selección de métricas\n",
        "    param_CV: cantidad de divisiones para la validación cruzada\n",
        "    '''\n",
        "\n",
        "    # Instancio el objeto TimeSeriesSplit para dividir en series de tiempo\n",
        "    tscv = TimeSeriesSplit(n_splits=CV)\n",
        "\n",
        "    scores = cross_validate(model, X, y.values.ravel(), scoring=scoring, cv=tscv)\n",
        "\n",
        "    #Obtengo el puntaje promedio y la desviación estandar de cada modelo\n",
        "    return {metric: (round(np.mean(scores), 3)) for metric, scores in scores.items()}\n",
        "\n",
        "def mostrar_podio_MVP(temporada:int, y_pred, df_base:pd.DataFrame, cant_jugadores:int):\n",
        "    '''\n",
        "    Esta función toma las predicciones generadas por el modelo\n",
        "    en cuestión y retorna un dataframe de las mismas junto\n",
        "    con el valor real por cada temporada y jugador.\n",
        "    '''\n",
        "\n",
        "    # Genero un dataframe donde guardo las predicciones y el valor real\n",
        "    df_comp = df_base[['season', 'player', 'mvp_share']]\n",
        "    df_comp['y_pred'] = y_pred.flatten()\n",
        "    df_comp = df_comp.sort_values(by='y_pred', ascending=False)\n",
        "\n",
        "    return df_comp[df_comp['season'] == temporada].head(cant_jugadores)\n"
      ]
    },
    {
      "cell_type": "markdown",
      "metadata": {
        "id": "SrEBjbo8fX67"
      },
      "source": [
        "## Random Forest"
      ]
    },
    {
      "cell_type": "markdown",
      "metadata": {
        "id": "R2Tq7wakGXN_"
      },
      "source": [
        "El modelo que hemos decidido utilizar es el **Random Forest**. Según nuestro criterio, este modelo es adecuado para evitar el **sobreajuste** y tiene la capacidad de generalizar bien con los datos disponibles. Además, es altamente útil para evaluar la **importancia** de cada atributo que utilizamos en el proceso de entrenamiento. Esto, a su vez, nos proporciona una comprensión más profunda de **cómo opera el premio** y los factores que influyen en él."
      ]
    },
    {
      "cell_type": "markdown",
      "metadata": {
        "id": "MejdMF_M6VQi"
      },
      "source": [
        "Emplearemos **RandomizedSearchCV** para encontrar la combinación óptima de hiperparámetros para nuestro modelo. Hemos elegido una grilla de hiperparámetros extensa con el fin de garantizar una búsqueda precisa y obtener una comprensión sólida de nuestros requisitos."
      ]
    },
    {
      "cell_type": "code",
      "execution_count": null,
      "metadata": {
        "colab": {
          "base_uri": "https://localhost:8080/"
        },
        "id": "esoAZO4F5lHI",
        "outputId": "422552e0-295e-48bc-886f-9966a7586e44"
      },
      "outputs": [
        {
          "name": "stdout",
          "output_type": "stream",
          "text": [
            "Fitting 3 folds for each of 100 candidates, totalling 300 fits\n",
            "Mejores hiperparámetros encontrados: {'n_estimators': 134, 'min_samples_split': 10, 'min_samples_leaf': 2, 'max_features': 'sqrt', 'max_depth': 253, 'criterion': 'friedman_mse', 'bootstrap': True}\n"
          ]
        }
      ],
      "source": [
        "#Instancio el modelo\n",
        "forest_reg = RandomForestRegressor()\n",
        "\n",
        "#Preparo la grilla de hipérparametros\n",
        "param_grid = {\n",
        "    'n_estimators': list(range(1, 1000)),\n",
        "    'max_features': ['auto', 'sqrt'],\n",
        "    'max_depth': list(range(1, 500)),\n",
        "    'bootstrap': [True, False],\n",
        "    'criterion': ['friedman_mse', 'absolute_error', 'poisson', 'squared_error'],\n",
        "    'min_samples_leaf': [1, 2, 4],\n",
        "    'min_samples_split': [2, 5, 10]\n",
        "}\n",
        "\n",
        "#Instancio de vuelta otro objeto tscv para mantener el orden con el tiempo\n",
        "tscv = TimeSeriesSplit(n_splits=3)\n",
        "\n",
        "#Hago la búsqueda de hiperparámetros\n",
        "random_search = RandomizedSearchCV(forest_reg, param_distributions=param_grid, n_iter=100, cv=tscv, n_jobs=-1, verbose=2, scoring='neg_mean_squared_error')\n",
        "random_search.fit(X_train_prepared, y_train)\n",
        "\n",
        "#Miro los mejores hipérparametros\n",
        "best_params = random_search.best_params_\n",
        "print(\"Mejores hiperparámetros encontrados:\", best_params)\n"
      ]
    },
    {
      "cell_type": "markdown",
      "metadata": {
        "id": "Rh0rDWM20eo4"
      },
      "source": [
        "Ahora que realizamos este procedimiento, **guardaremos los hiperparámetros** obtenidos en nuestro modelo Random Forest para luego utilizar el mismo:"
      ]
    },
    {
      "cell_type": "code",
      "execution_count": null,
      "metadata": {
        "id": "NB8LuiK18SjC"
      },
      "outputs": [],
      "source": [
        "forest_reg_best = RandomForestRegressor(\n",
        "    random_state=42,\n",
        "    n_estimators=566,\n",
        "    min_samples_split=10,\n",
        "    min_samples_leaf=2,\n",
        "    max_features='auto',\n",
        "    max_depth=254,\n",
        "    criterion='poisson',\n",
        "    bootstrap=True\n",
        ")\n",
        "forest_reg_best.fit(X_train_prepared, y_train)\n",
        "y_train_pred = forest_reg_best.predict(X_train_prepared)"
      ]
    },
    {
      "cell_type": "markdown",
      "metadata": {
        "id": "Y63838Appo3Q"
      },
      "source": [
        "Ahora con este modelo, usaremos las funciones definidas anteriormente para evaluar su desempeño:"
      ]
    },
    {
      "cell_type": "code",
      "execution_count": null,
      "metadata": {
        "colab": {
          "base_uri": "https://localhost:8080/"
        },
        "id": "lwWmiCGSpomh",
        "outputId": "a742f2ff-36e2-4ffc-b9d5-16117c2d5f0e"
      },
      "outputs": [
        {
          "name": "stdout",
          "output_type": "stream",
          "text": [
            "Métricas usando validación cruzada:\n",
            "{'fit_time': 1.151, 'score_time': 0.02, 'test_R^2 score': 0.342, 'test_Explained Variance': 0.346, 'test_MSE': -0.024, 'test_RMSE': 0.154}\n",
            "\n",
            "Métricas en el conjunto de entrenamiento:\n",
            "Coeficiente de determinación (R²): 0.7925\n",
            "Varianza explicada: 0.7925\n",
            "MSE (Error Cuadrático Medio): 0.0081\n",
            "RMSE (Raíz del Error Cuadrático Medio): 0.0899\n"
          ]
        }
      ],
      "source": [
        "#Uso función de validación cruzada\n",
        "print(\"Métricas usando validación cruzada:\")\n",
        "print(cross_validation_scores(forest_reg_best, X_train_prepared, y_train, regression_scores, 2))\n",
        "print()\n",
        "#Ahora evaluo las mismas métricas pero en el dataset de Train completo\n",
        "r2_train = r2_score(y_train, y_train_pred)\n",
        "explained_variance_train = explained_variance_score(y_train, y_train_pred)\n",
        "mse_train = mean_squared_error(y_train, y_train_pred)\n",
        "rmse_train = np.sqrt(mse_train)\n",
        "print(\"Métricas en el conjunto de entrenamiento:\")\n",
        "print(f\"Coeficiente de determinación (R²): {r2_train:.4f}\")\n",
        "print(f\"Varianza explicada: {explained_variance_train:.4f}\")\n",
        "print(f\"MSE (Error Cuadrático Medio): {mse_train:.4f}\")\n",
        "print(f\"RMSE (Raíz del Error Cuadrático Medio): {rmse_train:.4f}\")"
      ]
    },
    {
      "cell_type": "markdown",
      "metadata": {
        "id": "SICRKBlxenj9"
      },
      "source": [
        "Observamos una diferencia notable en el rendimiento del modelo al utilizar la validación cruzada en comparación con la evaluación directa en el conjunto de datos de entrenamiento. Este contraste podría deberse a la variabilidad introducida por la validación cruzada, que refleja cómo el modelo generaliza en diferentes conjuntos de datos de prueba durante cada iteración del proceso de validación cruzada. Por otro lado, la evaluación en el conjunto de entrenamiento se realiza en datos con los que el modelo ya ha sido entrenado, lo que puede llevar a una representación más optimista del rendimiento. La diferencia en el R², la Varianza Explicada y otras métricas puede indicar cómo el modelo se desempeña en datos nuevos frente a datos ya conocidos durante el entrenamiento. Es crucial tener en cuenta esta diferencia al realizar evaluaciones futuras de nuestro modelo, esto ya nos dá una fuerte idea de como se podría comportar a futuro."
      ]
    },
    {
      "cell_type": "markdown",
      "metadata": {
        "id": "yc68HkILC4Tr"
      },
      "source": [
        "Ahora procedemos a realizar un análisis gráfico del modelo, representando gráficamente los valores reales de la variable objetivo **'mvp_share'** frente a los valores predichos por nuestro modelo:"
      ]
    },
    {
      "cell_type": "code",
      "execution_count": null,
      "metadata": {
        "colab": {
          "base_uri": "https://localhost:8080/",
          "height": 269
        },
        "id": "gNtlvk5U-uty",
        "outputId": "83f89077-6fb3-4136-c897-9141cdd2c77e"
      },
      "outputs": [
        {
          "data": {
            "text/plain": [
              "Text(0.5, 1.0, 'Comparación: Valores de datos de entrenamiento vs Predicción del modelo')"
            ]
          },
          "execution_count": 28,
          "metadata": {},
          "output_type": "execute_result"
        },
        {
          "data": {
            "image/png": "[encoded data removed]",
            "text/plain": [
              "<Figure size 1000x800 with 1 Axes>"
            ]
          },
          "metadata": {},
          "output_type": "display_data"
        }
      ],
      "source": [
        "sns.set(style=\"whitegrid\")\n",
        "plt.figure(figsize=(10, 8))\n",
        "sns.regplot(x=y_train_pred, y=y_train, scatter_kws={'color': '#1f77b4'}, line_kws={'color': 'black', 'linewidth': 2})\n",
        "plt.xlabel('y_train (Valores Reales)')\n",
        "plt.ylabel('y_train_pred (Predicciones)')\n",
        "plt.title('Comparación: Valores de datos de entrenamiento vs Predicción del modelo', fontsize=14)"
      ]
    },
    {
      "cell_type": "markdown",
      "metadata": {
        "id": "aQYV63tnhRr4"
      },
      "source": [
        "Gráficamente, evidenciamos que nuestro modelo se ajusta de **manera precisa** a los datos de entrenamiento, como habíamos observado al analizar las métricas. Además, **el ajuste no es excesivamente pronunciado**, indicando que el modelo no sobreajusta nuestros datos. Esta observación es satisfactoria, ya que sugiere que estamos frente a un modelo aceptable."
      ]
    },
    {
      "cell_type": "markdown",
      "metadata": {
        "id": "UotSMoak4NT2"
      },
      "source": [
        "Como conclusión, emplearemos otra de las funciones previamente definidas para visualizar cómo posiciona nuestro modelo a los jugadores en la votación. Esta métrica es crucial, ya que nuestro objetivo principal era desarrollar un modelo que minimizara el error al posicionar correctamente a los jugadores. Una vez logrado este objetivo, podemos realizar un análisis más preciso del premio. A continuación, presentamos algunas temporadas anteriores para evaluar el rendimiento de nuestro modelo:"
      ]
    },
    {
      "cell_type": "code",
      "execution_count": null,
      "metadata": {
        "colab": {
          "base_uri": "https://localhost:8080/",
          "height": 313
        },
        "id": "zcjAQn1E4ND-",
        "outputId": "1f070d7d-bc76-474c-b8f2-342a9a0acdb3"
      },
      "outputs": [
        {
          "data": {
            "text/html": [
              "\n",
              "  <div id=\"df-954a6e3a-2cc6-4b55-a310-11d848679852\" class=\"colab-df-container\">\n",
              "    <div>\n",
              "<style scoped>\n",
              "    .dataframe tbody tr th:only-of-type {\n",
              "        vertical-align: middle;\n",
              "    }\n",
              "\n",
              "    .dataframe tbody tr th {\n",
              "        vertical-align: top;\n",
              "    }\n",
              "\n",
              "    .dataframe thead th {\n",
              "        text-align: right;\n",
              "    }\n",
              "</style>\n",
              "<table border=\"1\" class=\"dataframe\">\n",
              "  <thead>\n",
              "    <tr style=\"text-align: right;\">\n",
              "      <th></th>\n",
              "      <th>season</th>\n",
              "      <th>player</th>\n",
              "      <th>mvp_share</th>\n",
              "      <th>y_pred</th>\n",
              "    </tr>\n",
              "  </thead>\n",
              "  <tbody>\n",
              "    <tr>\n",
              "      <th>7948</th>\n",
              "      <td>2011</td>\n",
              "      <td>Derrick Rose</td>\n",
              "      <td>0.977</td>\n",
              "      <td>0.521975</td>\n",
              "    </tr>\n",
              "    <tr>\n",
              "      <th>7962</th>\n",
              "      <td>2011</td>\n",
              "      <td>Dwight Howard</td>\n",
              "      <td>0.531</td>\n",
              "      <td>0.373768</td>\n",
              "    </tr>\n",
              "    <tr>\n",
              "      <th>7963</th>\n",
              "      <td>2011</td>\n",
              "      <td>Dwyane Wade</td>\n",
              "      <td>0.020</td>\n",
              "      <td>0.279559</td>\n",
              "    </tr>\n",
              "    <tr>\n",
              "      <th>8138</th>\n",
              "      <td>2011</td>\n",
              "      <td>Kobe Bryant</td>\n",
              "      <td>0.354</td>\n",
              "      <td>0.193065</td>\n",
              "    </tr>\n",
              "    <tr>\n",
              "      <th>8129</th>\n",
              "      <td>2011</td>\n",
              "      <td>Kevin Durant</td>\n",
              "      <td>0.157</td>\n",
              "      <td>0.131341</td>\n",
              "    </tr>\n",
              "  </tbody>\n",
              "</table>\n",
              "</div>\n",
              "    <div class=\"colab-df-buttons\">\n",
              "\n",
              "  <div class=\"colab-df-container\">\n",
              "    <button class=\"colab-df-convert\" onclick=\"convertToInteractive('df-954a6e3a-2cc6-4b55-a310-11d848679852')\"\n",
              "            title=\"Convert this dataframe to an interactive table.\"\n",
              "            style=\"display:none;\">\n",
              "\n",
              "  <svg xmlns=\"http://www.w3.org/2000/svg\" height=\"24px\" viewBox=\"0 -960 960 960\">\n",
              "    <path d=\"M120-120v-720h720v720H120Zm60-500h600v-160H180v160Zm220 220h160v-160H400v160Zm0 220h160v-160H400v160ZM180-400h160v-160H180v160Zm440 0h160v-160H620v160ZM180-180h160v-160H180v160Zm440 0h160v-160H620v160Z\"/>\n",
              "  </svg>\n",
              "    </button>\n",
              "\n",
              "  <style>\n",
              "    .colab-df-container {\n",
              "      display:flex;\n",
              "      gap: 12px;\n",
              "    }\n",
              "\n",
              "    .colab-df-convert {\n",
              "      background-color: #E8F0FE;\n",
              "      border: none;\n",
              "      border-radius: 50%;\n",
              "      cursor: pointer;\n",
              "      display: none;\n",
              "      fill: #1967D2;\n",
              "      height: 32px;\n",
              "      padding: 0 0 0 0;\n",
              "      width: 32px;\n",
              "    }\n",
              "\n",
              "    .colab-df-convert:hover {\n",
              "      background-color: #E2EBFA;\n",
              "      box-shadow: 0px 1px 2px rgba(60, 64, 67, 0.3), 0px 1px 3px 1px rgba(60, 64, 67, 0.15);\n",
              "      fill: #174EA6;\n",
              "    }\n",
              "\n",
              "    .colab-df-buttons div {\n",
              "      margin-bottom: 4px;\n",
              "    }\n",
              "\n",
              "    [theme=dark] .colab-df-convert {\n",
              "      background-color: #3B4455;\n",
              "      fill: #D2E3FC;\n",
              "    }\n",
              "\n",
              "    [theme=dark] .colab-df-convert:hover {\n",
              "      background-color: #434B5C;\n",
              "      box-shadow: 0px 1px 3px 1px rgba(0, 0, 0, 0.15);\n",
              "      filter: drop-shadow(0px 1px 2px rgba(0, 0, 0, 0.3));\n",
              "      fill: #FFFFFF;\n",
              "    }\n",
              "  </style>\n",
              "\n",
              "    <script>\n",
              "      const buttonEl =\n",
              "        document.querySelector('#df-954a6e3a-2cc6-4b55-a310-11d848679852 button.colab-df-convert');\n",
              "      buttonEl.style.display =\n",
              "        google.colab.kernel.accessAllowed ? 'block' : 'none';\n",
              "\n",
              "      async function convertToInteractive(key) {\n",
              "        const element = document.querySelector('#df-954a6e3a-2cc6-4b55-a310-11d848679852');\n",
              "        const dataTable =\n",
              "          await google.colab.kernel.invokeFunction('convertToInteractive',\n",
              "                                                    [key], {});\n",
              "        if (!dataTable) return;\n",
              "\n",
              "        const docLinkHtml = 'Like what you see? Visit the ' +\n",
              "          '<a target=\"_blank\" href=https://colab.research.google.com/notebooks/data_table.ipynb>data table notebook</a>'\n",
              "          + ' to learn more about interactive tables.';\n",
              "        element.innerHTML = '';\n",
              "        dataTable['output_type'] = 'display_data';\n",
              "        await google.colab.output.renderOutput(dataTable, element);\n",
              "        const docLink = document.createElement('div');\n",
              "        docLink.innerHTML = docLinkHtml;\n",
              "        element.appendChild(docLink);\n",
              "      }\n",
              "    </script>\n",
              "  </div>\n",
              "\n",
              "\n",
              "<div id=\"df-2d56639a-12f5-4f65-95ed-e558145f2b39\">\n",
              "  <button class=\"colab-df-quickchart\" onclick=\"quickchart('df-2d56639a-12f5-4f65-95ed-e558145f2b39')\"\n",
              "            title=\"Suggest charts\"\n",
              "            style=\"display:none;\">\n",
              "\n",
              "<svg xmlns=\"http://www.w3.org/2000/svg\" height=\"24px\"viewBox=\"0 0 24 24\"\n",
              "     width=\"24px\">\n",
              "    <g>\n",
              "        <path d=\"M19 3H5c-1.1 0-2 .9-2 2v14c0 1.1.9 2 2 2h14c1.1 0 2-.9 2-2V5c0-1.1-.9-2-2-2zM9 17H7v-7h2v7zm4 0h-2V7h2v10zm4 0h-2v-4h2v4z\"/>\n",
              "    </g>\n",
              "</svg>\n",
              "  </button>\n",
              "\n",
              "<style>\n",
              "  .colab-df-quickchart {\n",
              "      --bg-color: #E8F0FE;\n",
              "      --fill-color: #1967D2;\n",
              "      --hover-bg-color: #E2EBFA;\n",
              "      --hover-fill-color: #174EA6;\n",
              "      --disabled-fill-color: #AAA;\n",
              "      --disabled-bg-color: #DDD;\n",
              "  }\n",
              "\n",
              "  [theme=dark] .colab-df-quickchart {\n",
              "      --bg-color: #3B4455;\n",
              "      --fill-color: #D2E3FC;\n",
              "      --hover-bg-color: #434B5C;\n",
              "      --hover-fill-color: #FFFFFF;\n",
              "      --disabled-bg-color: #3B4455;\n",
              "      --disabled-fill-color: #666;\n",
              "  }\n",
              "\n",
              "  .colab-df-quickchart {\n",
              "    background-color: var(--bg-color);\n",
              "    border: none;\n",
              "    border-radius: 50%;\n",
              "    cursor: pointer;\n",
              "    display: none;\n",
              "    fill: var(--fill-color);\n",
              "    height: 32px;\n",
              "    padding: 0;\n",
              "    width: 32px;\n",
              "  }\n",
              "\n",
              "  .colab-df-quickchart:hover {\n",
              "    background-color: var(--hover-bg-color);\n",
              "    box-shadow: 0 1px 2px rgba(60, 64, 67, 0.3), 0 1px 3px 1px rgba(60, 64, 67, 0.15);\n",
              "    fill: var(--button-hover-fill-color);\n",
              "  }\n",
              "\n",
              "  .colab-df-quickchart-complete:disabled,\n",
              "  .colab-df-quickchart-complete:disabled:hover {\n",
              "    background-color: var(--disabled-bg-color);\n",
              "    fill: var(--disabled-fill-color);\n",
              "    box-shadow: none;\n",
              "  }\n",
              "\n",
              "  .colab-df-spinner {\n",
              "    border: 2px solid var(--fill-color);\n",
              "    border-color: transparent;\n",
              "    border-bottom-color: var(--fill-color);\n",
              "    animation:\n",
              "      spin 1s steps(1) infinite;\n",
              "  }\n",
              "\n",
              "  @keyframes spin {\n",
              "    0% {\n",
              "      border-color: transparent;\n",
              "      border-bottom-color: var(--fill-color);\n",
              "      border-left-color: var(--fill-color);\n",
              "    }\n",
              "    20% {\n",
              "      border-color: transparent;\n",
              "      border-left-color: var(--fill-color);\n",
              "      border-top-color: var(--fill-color);\n",
              "    }\n",
              "    30% {\n",
              "      border-color: transparent;\n",
              "      border-left-color: var(--fill-color);\n",
              "      border-top-color: var(--fill-color);\n",
              "      border-right-color: var(--fill-color);\n",
              "    }\n",
              "    40% {\n",
              "      border-color: transparent;\n",
              "      border-right-color: var(--fill-color);\n",
              "      border-top-color: var(--fill-color);\n",
              "    }\n",
              "    60% {\n",
              "      border-color: transparent;\n",
              "      border-right-color: var(--fill-color);\n",
              "    }\n",
              "    80% {\n",
              "      border-color: transparent;\n",
              "      border-right-color: var(--fill-color);\n",
              "      border-bottom-color: var(--fill-color);\n",
              "    }\n",
              "    90% {\n",
              "      border-color: transparent;\n",
              "      border-bottom-color: var(--fill-color);\n",
              "    }\n",
              "  }\n",
              "</style>\n",
              "\n",
              "  <script>\n",
              "    async function quickchart(key) {\n",
              "      const quickchartButtonEl =\n",
              "        document.querySelector('#' + key + ' button');\n",
              "      quickchartButtonEl.disabled = true;  // To prevent multiple clicks.\n",
              "      quickchartButtonEl.classList.add('colab-df-spinner');\n",
              "      try {\n",
              "        const charts = await google.colab.kernel.invokeFunction(\n",
              "            'suggestCharts', [key], {});\n",
              "      } catch (error) {\n",
              "        console.error('Error during call to suggestCharts:', error);\n",
              "      }\n",
              "      quickchartButtonEl.classList.remove('colab-df-spinner');\n",
              "      quickchartButtonEl.classList.add('colab-df-quickchart-complete');\n",
              "    }\n",
              "    (() => {\n",
              "      let quickchartButtonEl =\n",
              "        document.querySelector('#df-2d56639a-12f5-4f65-95ed-e558145f2b39 button');\n",
              "      quickchartButtonEl.style.display =\n",
              "        google.colab.kernel.accessAllowed ? 'block' : 'none';\n",
              "    })();\n",
              "  </script>\n",
              "</div>\n",
              "    </div>\n",
              "  </div>\n"
            ],
            "text/plain": [
              "      season         player  mvp_share    y_pred\n",
              "7948    2011   Derrick Rose      0.977  0.521975\n",
              "7962    2011  Dwight Howard      0.531  0.373768\n",
              "7963    2011    Dwyane Wade      0.020  0.279559\n",
              "8138    2011    Kobe Bryant      0.354  0.193065\n",
              "8129    2011   Kevin Durant      0.157  0.131341"
            ]
          },
          "execution_count": 29,
          "metadata": {},
          "output_type": "execute_result"
        }
      ],
      "source": [
        "mostrar_podio_MVP(temporada = 2011, y_pred = y_train_pred, df_base = df_data_jugadores_train, cant_jugadores= 5)"
      ]
    },
    {
      "cell_type": "code",
      "execution_count": null,
      "metadata": {
        "colab": {
          "base_uri": "https://localhost:8080/",
          "height": 313
        },
        "id": "BBB5qyGBj_y5",
        "outputId": "9b72ad36-a295-45d3-f210-b7393681fb9e"
      },
      "outputs": [
        {
          "data": {
            "text/html": [
              "\n",
              "  <div id=\"df-4885b196-660c-48df-810e-8ac6b7796b54\" class=\"colab-df-container\">\n",
              "    <div>\n",
              "<style scoped>\n",
              "    .dataframe tbody tr th:only-of-type {\n",
              "        vertical-align: middle;\n",
              "    }\n",
              "\n",
              "    .dataframe tbody tr th {\n",
              "        vertical-align: top;\n",
              "    }\n",
              "\n",
              "    .dataframe thead th {\n",
              "        text-align: right;\n",
              "    }\n",
              "</style>\n",
              "<table border=\"1\" class=\"dataframe\">\n",
              "  <thead>\n",
              "    <tr style=\"text-align: right;\">\n",
              "      <th></th>\n",
              "      <th>season</th>\n",
              "      <th>player</th>\n",
              "      <th>mvp_share</th>\n",
              "      <th>y_pred</th>\n",
              "    </tr>\n",
              "  </thead>\n",
              "  <tbody>\n",
              "    <tr>\n",
              "      <th>6387</th>\n",
              "      <td>2014</td>\n",
              "      <td>Kevin Durant</td>\n",
              "      <td>0.986</td>\n",
              "      <td>0.765787</td>\n",
              "    </tr>\n",
              "    <tr>\n",
              "      <th>6106</th>\n",
              "      <td>2014</td>\n",
              "      <td>Blake Griffin</td>\n",
              "      <td>0.347</td>\n",
              "      <td>0.241442</td>\n",
              "    </tr>\n",
              "    <tr>\n",
              "      <th>6389</th>\n",
              "      <td>2014</td>\n",
              "      <td>Kevin Love</td>\n",
              "      <td>0.020</td>\n",
              "      <td>0.171865</td>\n",
              "    </tr>\n",
              "    <tr>\n",
              "      <th>6338</th>\n",
              "      <td>2014</td>\n",
              "      <td>Joakim Noah</td>\n",
              "      <td>0.258</td>\n",
              "      <td>0.141262</td>\n",
              "    </tr>\n",
              "    <tr>\n",
              "      <th>6591</th>\n",
              "      <td>2014</td>\n",
              "      <td>Stephen Curry</td>\n",
              "      <td>0.053</td>\n",
              "      <td>0.109995</td>\n",
              "    </tr>\n",
              "  </tbody>\n",
              "</table>\n",
              "</div>\n",
              "    <div class=\"colab-df-buttons\">\n",
              "\n",
              "  <div class=\"colab-df-container\">\n",
              "    <button class=\"colab-df-convert\" onclick=\"convertToInteractive('df-4885b196-660c-48df-810e-8ac6b7796b54')\"\n",
              "            title=\"Convert this dataframe to an interactive table.\"\n",
              "            style=\"display:none;\">\n",
              "\n",
              "  <svg xmlns=\"http://www.w3.org/2000/svg\" height=\"24px\" viewBox=\"0 -960 960 960\">\n",
              "    <path d=\"M120-120v-720h720v720H120Zm60-500h600v-160H180v160Zm220 220h160v-160H400v160Zm0 220h160v-160H400v160ZM180-400h160v-160H180v160Zm440 0h160v-160H620v160ZM180-180h160v-160H180v160Zm440 0h160v-160H620v160Z\"/>\n",
              "  </svg>\n",
              "    </button>\n",
              "\n",
              "  <style>\n",
              "    .colab-df-container {\n",
              "      display:flex;\n",
              "      gap: 12px;\n",
              "    }\n",
              "\n",
              "    .colab-df-convert {\n",
              "      background-color: #E8F0FE;\n",
              "      border: none;\n",
              "      border-radius: 50%;\n",
              "      cursor: pointer;\n",
              "      display: none;\n",
              "      fill: #1967D2;\n",
              "      height: 32px;\n",
              "      padding: 0 0 0 0;\n",
              "      width: 32px;\n",
              "    }\n",
              "\n",
              "    .colab-df-convert:hover {\n",
              "      background-color: #E2EBFA;\n",
              "      box-shadow: 0px 1px 2px rgba(60, 64, 67, 0.3), 0px 1px 3px 1px rgba(60, 64, 67, 0.15);\n",
              "      fill: #174EA6;\n",
              "    }\n",
              "\n",
              "    .colab-df-buttons div {\n",
              "      margin-bottom: 4px;\n",
              "    }\n",
              "\n",
              "    [theme=dark] .colab-df-convert {\n",
              "      background-color: #3B4455;\n",
              "      fill: #D2E3FC;\n",
              "    }\n",
              "\n",
              "    [theme=dark] .colab-df-convert:hover {\n",
              "      background-color: #434B5C;\n",
              "      box-shadow: 0px 1px 3px 1px rgba(0, 0, 0, 0.15);\n",
              "      filter: drop-shadow(0px 1px 2px rgba(0, 0, 0, 0.3));\n",
              "      fill: #FFFFFF;\n",
              "    }\n",
              "  </style>\n",
              "\n",
              "    <script>\n",
              "      const buttonEl =\n",
              "        document.querySelector('#df-4885b196-660c-48df-810e-8ac6b7796b54 button.colab-df-convert');\n",
              "      buttonEl.style.display =\n",
              "        google.colab.kernel.accessAllowed ? 'block' : 'none';\n",
              "\n",
              "      async function convertToInteractive(key) {\n",
              "        const element = document.querySelector('#df-4885b196-660c-48df-810e-8ac6b7796b54');\n",
              "        const dataTable =\n",
              "          await google.colab.kernel.invokeFunction('convertToInteractive',\n",
              "                                                    [key], {});\n",
              "        if (!dataTable) return;\n",
              "\n",
              "        const docLinkHtml = 'Like what you see? Visit the ' +\n",
              "          '<a target=\"_blank\" href=https://colab.research.google.com/notebooks/data_table.ipynb>data table notebook</a>'\n",
              "          + ' to learn more about interactive tables.';\n",
              "        element.innerHTML = '';\n",
              "        dataTable['output_type'] = 'display_data';\n",
              "        await google.colab.output.renderOutput(dataTable, element);\n",
              "        const docLink = document.createElement('div');\n",
              "        docLink.innerHTML = docLinkHtml;\n",
              "        element.appendChild(docLink);\n",
              "      }\n",
              "    </script>\n",
              "  </div>\n",
              "\n",
              "\n",
              "<div id=\"df-91882a76-593d-48b3-aa48-c4ccf2b4b836\">\n",
              "  <button class=\"colab-df-quickchart\" onclick=\"quickchart('df-91882a76-593d-48b3-aa48-c4ccf2b4b836')\"\n",
              "            title=\"Suggest charts\"\n",
              "            style=\"display:none;\">\n",
              "\n",
              "<svg xmlns=\"http://www.w3.org/2000/svg\" height=\"24px\"viewBox=\"0 0 24 24\"\n",
              "     width=\"24px\">\n",
              "    <g>\n",
              "        <path d=\"M19 3H5c-1.1 0-2 .9-2 2v14c0 1.1.9 2 2 2h14c1.1 0 2-.9 2-2V5c0-1.1-.9-2-2-2zM9 17H7v-7h2v7zm4 0h-2V7h2v10zm4 0h-2v-4h2v4z\"/>\n",
              "    </g>\n",
              "</svg>\n",
              "  </button>\n",
              "\n",
              "<style>\n",
              "  .colab-df-quickchart {\n",
              "      --bg-color: #E8F0FE;\n",
              "      --fill-color: #1967D2;\n",
              "      --hover-bg-color: #E2EBFA;\n",
              "      --hover-fill-color: #174EA6;\n",
              "      --disabled-fill-color: #AAA;\n",
              "      --disabled-bg-color: #DDD;\n",
              "  }\n",
              "\n",
              "  [theme=dark] .colab-df-quickchart {\n",
              "      --bg-color: #3B4455;\n",
              "      --fill-color: #D2E3FC;\n",
              "      --hover-bg-color: #434B5C;\n",
              "      --hover-fill-color: #FFFFFF;\n",
              "      --disabled-bg-color: #3B4455;\n",
              "      --disabled-fill-color: #666;\n",
              "  }\n",
              "\n",
              "  .colab-df-quickchart {\n",
              "    background-color: var(--bg-color);\n",
              "    border: none;\n",
              "    border-radius: 50%;\n",
              "    cursor: pointer;\n",
              "    display: none;\n",
              "    fill: var(--fill-color);\n",
              "    height: 32px;\n",
              "    padding: 0;\n",
              "    width: 32px;\n",
              "  }\n",
              "\n",
              "  .colab-df-quickchart:hover {\n",
              "    background-color: var(--hover-bg-color);\n",
              "    box-shadow: 0 1px 2px rgba(60, 64, 67, 0.3), 0 1px 3px 1px rgba(60, 64, 67, 0.15);\n",
              "    fill: var(--button-hover-fill-color);\n",
              "  }\n",
              "\n",
              "  .colab-df-quickchart-complete:disabled,\n",
              "  .colab-df-quickchart-complete:disabled:hover {\n",
              "    background-color: var(--disabled-bg-color);\n",
              "    fill: var(--disabled-fill-color);\n",
              "    box-shadow: none;\n",
              "  }\n",
              "\n",
              "  .colab-df-spinner {\n",
              "    border: 2px solid var(--fill-color);\n",
              "    border-color: transparent;\n",
              "    border-bottom-color: var(--fill-color);\n",
              "    animation:\n",
              "      spin 1s steps(1) infinite;\n",
              "  }\n",
              "\n",
              "  @keyframes spin {\n",
              "    0% {\n",
              "      border-color: transparent;\n",
              "      border-bottom-color: var(--fill-color);\n",
              "      border-left-color: var(--fill-color);\n",
              "    }\n",
              "    20% {\n",
              "      border-color: transparent;\n",
              "      border-left-color: var(--fill-color);\n",
              "      border-top-color: var(--fill-color);\n",
              "    }\n",
              "    30% {\n",
              "      border-color: transparent;\n",
              "      border-left-color: var(--fill-color);\n",
              "      border-top-color: var(--fill-color);\n",
              "      border-right-color: var(--fill-color);\n",
              "    }\n",
              "    40% {\n",
              "      border-color: transparent;\n",
              "      border-right-color: var(--fill-color);\n",
              "      border-top-color: var(--fill-color);\n",
              "    }\n",
              "    60% {\n",
              "      border-color: transparent;\n",
              "      border-right-color: var(--fill-color);\n",
              "    }\n",
              "    80% {\n",
              "      border-color: transparent;\n",
              "      border-right-color: var(--fill-color);\n",
              "      border-bottom-color: var(--fill-color);\n",
              "    }\n",
              "    90% {\n",
              "      border-color: transparent;\n",
              "      border-bottom-color: var(--fill-color);\n",
              "    }\n",
              "  }\n",
              "</style>\n",
              "\n",
              "  <script>\n",
              "    async function quickchart(key) {\n",
              "      const quickchartButtonEl =\n",
              "        document.querySelector('#' + key + ' button');\n",
              "      quickchartButtonEl.disabled = true;  // To prevent multiple clicks.\n",
              "      quickchartButtonEl.classList.add('colab-df-spinner');\n",
              "      try {\n",
              "        const charts = await google.colab.kernel.invokeFunction(\n",
              "            'suggestCharts', [key], {});\n",
              "      } catch (error) {\n",
              "        console.error('Error during call to suggestCharts:', error);\n",
              "      }\n",
              "      quickchartButtonEl.classList.remove('colab-df-spinner');\n",
              "      quickchartButtonEl.classList.add('colab-df-quickchart-complete');\n",
              "    }\n",
              "    (() => {\n",
              "      let quickchartButtonEl =\n",
              "        document.querySelector('#df-91882a76-593d-48b3-aa48-c4ccf2b4b836 button');\n",
              "      quickchartButtonEl.style.display =\n",
              "        google.colab.kernel.accessAllowed ? 'block' : 'none';\n",
              "    })();\n",
              "  </script>\n",
              "</div>\n",
              "    </div>\n",
              "  </div>\n"
            ],
            "text/plain": [
              "      season         player  mvp_share    y_pred\n",
              "6387    2014   Kevin Durant      0.986  0.765787\n",
              "6106    2014  Blake Griffin      0.347  0.241442\n",
              "6389    2014     Kevin Love      0.020  0.171865\n",
              "6338    2014    Joakim Noah      0.258  0.141262\n",
              "6591    2014  Stephen Curry      0.053  0.109995"
            ]
          },
          "execution_count": 30,
          "metadata": {},
          "output_type": "execute_result"
        }
      ],
      "source": [
        "mostrar_podio_MVP(temporada = 2014, y_pred = y_train_pred, df_base = df_data_jugadores_train, cant_jugadores= 5)"
      ]
    },
    {
      "cell_type": "code",
      "execution_count": null,
      "metadata": {
        "colab": {
          "base_uri": "https://localhost:8080/",
          "height": 296
        },
        "id": "SgQ0lHvwkDCK",
        "outputId": "cd79f2bc-6cd7-4bfe-fed4-88699253450d"
      },
      "outputs": [
        {
          "data": {
            "text/html": [
              "\n",
              "  <div id=\"df-a2765caa-564b-4b02-a9d4-be415b953510\" class=\"colab-df-container\">\n",
              "    <div>\n",
              "<style scoped>\n",
              "    .dataframe tbody tr th:only-of-type {\n",
              "        vertical-align: middle;\n",
              "    }\n",
              "\n",
              "    .dataframe tbody tr th {\n",
              "        vertical-align: top;\n",
              "    }\n",
              "\n",
              "    .dataframe thead th {\n",
              "        text-align: right;\n",
              "    }\n",
              "</style>\n",
              "<table border=\"1\" class=\"dataframe\">\n",
              "  <thead>\n",
              "    <tr style=\"text-align: right;\">\n",
              "      <th></th>\n",
              "      <th>season</th>\n",
              "      <th>player</th>\n",
              "      <th>mvp_share</th>\n",
              "      <th>y_pred</th>\n",
              "    </tr>\n",
              "  </thead>\n",
              "  <tbody>\n",
              "    <tr>\n",
              "      <th>5328</th>\n",
              "      <td>2016</td>\n",
              "      <td>Stephen Curry</td>\n",
              "      <td>1.000</td>\n",
              "      <td>0.773776</td>\n",
              "    </tr>\n",
              "    <tr>\n",
              "      <th>5297</th>\n",
              "      <td>2016</td>\n",
              "      <td>Russell Westbrook</td>\n",
              "      <td>0.371</td>\n",
              "      <td>0.331645</td>\n",
              "    </tr>\n",
              "    <tr>\n",
              "      <th>5128</th>\n",
              "      <td>2016</td>\n",
              "      <td>Kawhi Leonard</td>\n",
              "      <td>0.484</td>\n",
              "      <td>0.326973</td>\n",
              "    </tr>\n",
              "    <tr>\n",
              "      <th>5138</th>\n",
              "      <td>2016</td>\n",
              "      <td>Kevin Durant</td>\n",
              "      <td>0.112</td>\n",
              "      <td>0.278010</td>\n",
              "    </tr>\n",
              "    <tr>\n",
              "      <th>4912</th>\n",
              "      <td>2016</td>\n",
              "      <td>Chris Paul</td>\n",
              "      <td>0.082</td>\n",
              "      <td>0.124049</td>\n",
              "    </tr>\n",
              "  </tbody>\n",
              "</table>\n",
              "</div>\n",
              "    <div class=\"colab-df-buttons\">\n",
              "\n",
              "  <div class=\"colab-df-container\">\n",
              "    <button class=\"colab-df-convert\" onclick=\"convertToInteractive('df-a2765caa-564b-4b02-a9d4-be415b953510')\"\n",
              "            title=\"Convert this dataframe to an interactive table.\"\n",
              "            style=\"display:none;\">\n",
              "\n",
              "  <svg xmlns=\"http://www.w3.org/2000/svg\" height=\"24px\" viewBox=\"0 -960 960 960\">\n",
              "    <path d=\"M120-120v-720h720v720H120Zm60-500h600v-160H180v160Zm220 220h160v-160H400v160Zm0 220h160v-160H400v160ZM180-400h160v-160H180v160Zm440 0h160v-160H620v160ZM180-180h160v-160H180v160Zm440 0h160v-160H620v160Z\"/>\n",
              "  </svg>\n",
              "    </button>\n",
              "\n",
              "  <style>\n",
              "    .colab-df-container {\n",
              "      display:flex;\n",
              "      gap: 12px;\n",
              "    }\n",
              "\n",
              "    .colab-df-convert {\n",
              "      background-color: #E8F0FE;\n",
              "      border: none;\n",
              "      border-radius: 50%;\n",
              "      cursor: pointer;\n",
              "      display: none;\n",
              "      fill: #1967D2;\n",
              "      height: 32px;\n",
              "      padding: 0 0 0 0;\n",
              "      width: 32px;\n",
              "    }\n",
              "\n",
              "    .colab-df-convert:hover {\n",
              "      background-color: #E2EBFA;\n",
              "      box-shadow: 0px 1px 2px rgba(60, 64, 67, 0.3), 0px 1px 3px 1px rgba(60, 64, 67, 0.15);\n",
              "      fill: #174EA6;\n",
              "    }\n",
              "\n",
              "    .colab-df-buttons div {\n",
              "      margin-bottom: 4px;\n",
              "    }\n",
              "\n",
              "    [theme=dark] .colab-df-convert {\n",
              "      background-color: #3B4455;\n",
              "      fill: #D2E3FC;\n",
              "    }\n",
              "\n",
              "    [theme=dark] .colab-df-convert:hover {\n",
              "      background-color: #434B5C;\n",
              "      box-shadow: 0px 1px 3px 1px rgba(0, 0, 0, 0.15);\n",
              "      filter: drop-shadow(0px 1px 2px rgba(0, 0, 0, 0.3));\n",
              "      fill: #FFFFFF;\n",
              "    }\n",
              "  </style>\n",
              "\n",
              "    <script>\n",
              "      const buttonEl =\n",
              "        document.querySelector('#df-a2765caa-564b-4b02-a9d4-be415b953510 button.colab-df-convert');\n",
              "      buttonEl.style.display =\n",
              "        google.colab.kernel.accessAllowed ? 'block' : 'none';\n",
              "\n",
              "      async function convertToInteractive(key) {\n",
              "        const element = document.querySelector('#df-a2765caa-564b-4b02-a9d4-be415b953510');\n",
              "        const dataTable =\n",
              "          await google.colab.kernel.invokeFunction('convertToInteractive',\n",
              "                                                    [key], {});\n",
              "        if (!dataTable) return;\n",
              "\n",
              "        const docLinkHtml = 'Like what you see? Visit the ' +\n",
              "          '<a target=\"_blank\" href=https://colab.research.google.com/notebooks/data_table.ipynb>data table notebook</a>'\n",
              "          + ' to learn more about interactive tables.';\n",
              "        element.innerHTML = '';\n",
              "        dataTable['output_type'] = 'display_data';\n",
              "        await google.colab.output.renderOutput(dataTable, element);\n",
              "        const docLink = document.createElement('div');\n",
              "        docLink.innerHTML = docLinkHtml;\n",
              "        element.appendChild(docLink);\n",
              "      }\n",
              "    </script>\n",
              "  </div>\n",
              "\n",
              "\n",
              "<div id=\"df-e67ef82d-646a-4691-a231-be5ca833a54c\">\n",
              "  <button class=\"colab-df-quickchart\" onclick=\"quickchart('df-e67ef82d-646a-4691-a231-be5ca833a54c')\"\n",
              "            title=\"Suggest charts\"\n",
              "            style=\"display:none;\">\n",
              "\n",
              "<svg xmlns=\"http://www.w3.org/2000/svg\" height=\"24px\"viewBox=\"0 0 24 24\"\n",
              "     width=\"24px\">\n",
              "    <g>\n",
              "        <path d=\"M19 3H5c-1.1 0-2 .9-2 2v14c0 1.1.9 2 2 2h14c1.1 0 2-.9 2-2V5c0-1.1-.9-2-2-2zM9 17H7v-7h2v7zm4 0h-2V7h2v10zm4 0h-2v-4h2v4z\"/>\n",
              "    </g>\n",
              "</svg>\n",
              "  </button>\n",
              "\n",
              "<style>\n",
              "  .colab-df-quickchart {\n",
              "      --bg-color: #E8F0FE;\n",
              "      --fill-color: #1967D2;\n",
              "      --hover-bg-color: #E2EBFA;\n",
              "      --hover-fill-color: #174EA6;\n",
              "      --disabled-fill-color: #AAA;\n",
              "      --disabled-bg-color: #DDD;\n",
              "  }\n",
              "\n",
              "  [theme=dark] .colab-df-quickchart {\n",
              "      --bg-color: #3B4455;\n",
              "      --fill-color: #D2E3FC;\n",
              "      --hover-bg-color: #434B5C;\n",
              "      --hover-fill-color: #FFFFFF;\n",
              "      --disabled-bg-color: #3B4455;\n",
              "      --disabled-fill-color: #666;\n",
              "  }\n",
              "\n",
              "  .colab-df-quickchart {\n",
              "    background-color: var(--bg-color);\n",
              "    border: none;\n",
              "    border-radius: 50%;\n",
              "    cursor: pointer;\n",
              "    display: none;\n",
              "    fill: var(--fill-color);\n",
              "    height: 32px;\n",
              "    padding: 0;\n",
              "    width: 32px;\n",
              "  }\n",
              "\n",
              "  .colab-df-quickchart:hover {\n",
              "    background-color: var(--hover-bg-color);\n",
              "    box-shadow: 0 1px 2px rgba(60, 64, 67, 0.3), 0 1px 3px 1px rgba(60, 64, 67, 0.15);\n",
              "    fill: var(--button-hover-fill-color);\n",
              "  }\n",
              "\n",
              "  .colab-df-quickchart-complete:disabled,\n",
              "  .colab-df-quickchart-complete:disabled:hover {\n",
              "    background-color: var(--disabled-bg-color);\n",
              "    fill: var(--disabled-fill-color);\n",
              "    box-shadow: none;\n",
              "  }\n",
              "\n",
              "  .colab-df-spinner {\n",
              "    border: 2px solid var(--fill-color);\n",
              "    border-color: transparent;\n",
              "    border-bottom-color: var(--fill-color);\n",
              "    animation:\n",
              "      spin 1s steps(1) infinite;\n",
              "  }\n",
              "\n",
              "  @keyframes spin {\n",
              "    0% {\n",
              "      border-color: transparent;\n",
              "      border-bottom-color: var(--fill-color);\n",
              "      border-left-color: var(--fill-color);\n",
              "    }\n",
              "    20% {\n",
              "      border-color: transparent;\n",
              "      border-left-color: var(--fill-color);\n",
              "      border-top-color: var(--fill-color);\n",
              "    }\n",
              "    30% {\n",
              "      border-color: transparent;\n",
              "      border-left-color: var(--fill-color);\n",
              "      border-top-color: var(--fill-color);\n",
              "      border-right-color: var(--fill-color);\n",
              "    }\n",
              "    40% {\n",
              "      border-color: transparent;\n",
              "      border-right-color: var(--fill-color);\n",
              "      border-top-color: var(--fill-color);\n",
              "    }\n",
              "    60% {\n",
              "      border-color: transparent;\n",
              "      border-right-color: var(--fill-color);\n",
              "    }\n",
              "    80% {\n",
              "      border-color: transparent;\n",
              "      border-right-color: var(--fill-color);\n",
              "      border-bottom-color: var(--fill-color);\n",
              "    }\n",
              "    90% {\n",
              "      border-color: transparent;\n",
              "      border-bottom-color: var(--fill-color);\n",
              "    }\n",
              "  }\n",
              "</style>\n",
              "\n",
              "  <script>\n",
              "    async function quickchart(key) {\n",
              "      const quickchartButtonEl =\n",
              "        document.querySelector('#' + key + ' button');\n",
              "      quickchartButtonEl.disabled = true;  // To prevent multiple clicks.\n",
              "      quickchartButtonEl.classList.add('colab-df-spinner');\n",
              "      try {\n",
              "        const charts = await google.colab.kernel.invokeFunction(\n",
              "            'suggestCharts', [key], {});\n",
              "      } catch (error) {\n",
              "        console.error('Error during call to suggestCharts:', error);\n",
              "      }\n",
              "      quickchartButtonEl.classList.remove('colab-df-spinner');\n",
              "      quickchartButtonEl.classList.add('colab-df-quickchart-complete');\n",
              "    }\n",
              "    (() => {\n",
              "      let quickchartButtonEl =\n",
              "        document.querySelector('#df-e67ef82d-646a-4691-a231-be5ca833a54c button');\n",
              "      quickchartButtonEl.style.display =\n",
              "        google.colab.kernel.accessAllowed ? 'block' : 'none';\n",
              "    })();\n",
              "  </script>\n",
              "</div>\n",
              "    </div>\n",
              "  </div>\n"
            ],
            "text/plain": [
              "      season             player  mvp_share    y_pred\n",
              "5328    2016      Stephen Curry      1.000  0.773776\n",
              "5297    2016  Russell Westbrook      0.371  0.331645\n",
              "5128    2016      Kawhi Leonard      0.484  0.326973\n",
              "5138    2016       Kevin Durant      0.112  0.278010\n",
              "4912    2016         Chris Paul      0.082  0.124049"
            ]
          },
          "execution_count": 31,
          "metadata": {},
          "output_type": "execute_result"
        }
      ],
      "source": [
        "mostrar_podio_MVP(temporada = 2016, y_pred = y_train_pred, df_base = df_data_jugadores_train, cant_jugadores= 5)"
      ]
    },
    {
      "cell_type": "code",
      "execution_count": null,
      "metadata": {
        "colab": {
          "base_uri": "https://localhost:8080/",
          "height": 313
        },
        "id": "qyOmocdqlmio",
        "outputId": "83241ab9-0f4b-42eb-9f57-d70426e4aa49"
      },
      "outputs": [
        {
          "data": {
            "text/html": [
              "\n",
              "  <div id=\"df-9b2757ba-4d99-4f1a-bb22-0a4c0c8d13b7\" class=\"colab-df-container\">\n",
              "    <div>\n",
              "<style scoped>\n",
              "    .dataframe tbody tr th:only-of-type {\n",
              "        vertical-align: middle;\n",
              "    }\n",
              "\n",
              "    .dataframe tbody tr th {\n",
              "        vertical-align: top;\n",
              "    }\n",
              "\n",
              "    .dataframe thead th {\n",
              "        text-align: right;\n",
              "    }\n",
              "</style>\n",
              "<table border=\"1\" class=\"dataframe\">\n",
              "  <thead>\n",
              "    <tr style=\"text-align: right;\">\n",
              "      <th></th>\n",
              "      <th>season</th>\n",
              "      <th>player</th>\n",
              "      <th>mvp_share</th>\n",
              "      <th>y_pred</th>\n",
              "    </tr>\n",
              "  </thead>\n",
              "  <tbody>\n",
              "    <tr>\n",
              "      <th>4710</th>\n",
              "      <td>2017</td>\n",
              "      <td>Russell Westbrook</td>\n",
              "      <td>0.879</td>\n",
              "      <td>0.626087</td>\n",
              "    </tr>\n",
              "    <tr>\n",
              "      <th>4536</th>\n",
              "      <td>2017</td>\n",
              "      <td>Kawhi Leonard</td>\n",
              "      <td>0.495</td>\n",
              "      <td>0.417489</td>\n",
              "    </tr>\n",
              "    <tr>\n",
              "      <th>4439</th>\n",
              "      <td>2017</td>\n",
              "      <td>Isaiah Thomas</td>\n",
              "      <td>0.080</td>\n",
              "      <td>0.205262</td>\n",
              "    </tr>\n",
              "    <tr>\n",
              "      <th>4252</th>\n",
              "      <td>2017</td>\n",
              "      <td>Anthony Davis</td>\n",
              "      <td>0.002</td>\n",
              "      <td>0.179863</td>\n",
              "    </tr>\n",
              "    <tr>\n",
              "      <th>4736</th>\n",
              "      <td>2017</td>\n",
              "      <td>Stephen Curry</td>\n",
              "      <td>0.051</td>\n",
              "      <td>0.126535</td>\n",
              "    </tr>\n",
              "  </tbody>\n",
              "</table>\n",
              "</div>\n",
              "    <div class=\"colab-df-buttons\">\n",
              "\n",
              "  <div class=\"colab-df-container\">\n",
              "    <button class=\"colab-df-convert\" onclick=\"convertToInteractive('df-9b2757ba-4d99-4f1a-bb22-0a4c0c8d13b7')\"\n",
              "            title=\"Convert this dataframe to an interactive table.\"\n",
              "            style=\"display:none;\">\n",
              "\n",
              "  <svg xmlns=\"http://www.w3.org/2000/svg\" height=\"24px\" viewBox=\"0 -960 960 960\">\n",
              "    <path d=\"M120-120v-720h720v720H120Zm60-500h600v-160H180v160Zm220 220h160v-160H400v160Zm0 220h160v-160H400v160ZM180-400h160v-160H180v160Zm440 0h160v-160H620v160ZM180-180h160v-160H180v160Zm440 0h160v-160H620v160Z\"/>\n",
              "  </svg>\n",
              "    </button>\n",
              "\n",
              "  <style>\n",
              "    .colab-df-container {\n",
              "      display:flex;\n",
              "      gap: 12px;\n",
              "    }\n",
              "\n",
              "    .colab-df-convert {\n",
              "      background-color: #E8F0FE;\n",
              "      border: none;\n",
              "      border-radius: 50%;\n",
              "      cursor: pointer;\n",
              "      display: none;\n",
              "      fill: #1967D2;\n",
              "      height: 32px;\n",
              "      padding: 0 0 0 0;\n",
              "      width: 32px;\n",
              "    }\n",
              "\n",
              "    .colab-df-convert:hover {\n",
              "      background-color: #E2EBFA;\n",
              "      box-shadow: 0px 1px 2px rgba(60, 64, 67, 0.3), 0px 1px 3px 1px rgba(60, 64, 67, 0.15);\n",
              "      fill: #174EA6;\n",
              "    }\n",
              "\n",
              "    .colab-df-buttons div {\n",
              "      margin-bottom: 4px;\n",
              "    }\n",
              "\n",
              "    [theme=dark] .colab-df-convert {\n",
              "      background-color: #3B4455;\n",
              "      fill: #D2E3FC;\n",
              "    }\n",
              "\n",
              "    [theme=dark] .colab-df-convert:hover {\n",
              "      background-color: #434B5C;\n",
              "      box-shadow: 0px 1px 3px 1px rgba(0, 0, 0, 0.15);\n",
              "      filter: drop-shadow(0px 1px 2px rgba(0, 0, 0, 0.3));\n",
              "      fill: #FFFFFF;\n",
              "    }\n",
              "  </style>\n",
              "\n",
              "    <script>\n",
              "      const buttonEl =\n",
              "        document.querySelector('#df-9b2757ba-4d99-4f1a-bb22-0a4c0c8d13b7 button.colab-df-convert');\n",
              "      buttonEl.style.display =\n",
              "        google.colab.kernel.accessAllowed ? 'block' : 'none';\n",
              "\n",
              "      async function convertToInteractive(key) {\n",
              "        const element = document.querySelector('#df-9b2757ba-4d99-4f1a-bb22-0a4c0c8d13b7');\n",
              "        const dataTable =\n",
              "          await google.colab.kernel.invokeFunction('convertToInteractive',\n",
              "                                                    [key], {});\n",
              "        if (!dataTable) return;\n",
              "\n",
              "        const docLinkHtml = 'Like what you see? Visit the ' +\n",
              "          '<a target=\"_blank\" href=https://colab.research.google.com/notebooks/data_table.ipynb>data table notebook</a>'\n",
              "          + ' to learn more about interactive tables.';\n",
              "        element.innerHTML = '';\n",
              "        dataTable['output_type'] = 'display_data';\n",
              "        await google.colab.output.renderOutput(dataTable, element);\n",
              "        const docLink = document.createElement('div');\n",
              "        docLink.innerHTML = docLinkHtml;\n",
              "        element.appendChild(docLink);\n",
              "      }\n",
              "    </script>\n",
              "  </div>\n",
              "\n",
              "\n",
              "<div id=\"df-36bbd7f5-6243-4887-af79-ed58c4c88679\">\n",
              "  <button class=\"colab-df-quickchart\" onclick=\"quickchart('df-36bbd7f5-6243-4887-af79-ed58c4c88679')\"\n",
              "            title=\"Suggest charts\"\n",
              "            style=\"display:none;\">\n",
              "\n",
              "<svg xmlns=\"http://www.w3.org/2000/svg\" height=\"24px\"viewBox=\"0 0 24 24\"\n",
              "     width=\"24px\">\n",
              "    <g>\n",
              "        <path d=\"M19 3H5c-1.1 0-2 .9-2 2v14c0 1.1.9 2 2 2h14c1.1 0 2-.9 2-2V5c0-1.1-.9-2-2-2zM9 17H7v-7h2v7zm4 0h-2V7h2v10zm4 0h-2v-4h2v4z\"/>\n",
              "    </g>\n",
              "</svg>\n",
              "  </button>\n",
              "\n",
              "<style>\n",
              "  .colab-df-quickchart {\n",
              "      --bg-color: #E8F0FE;\n",
              "      --fill-color: #1967D2;\n",
              "      --hover-bg-color: #E2EBFA;\n",
              "      --hover-fill-color: #174EA6;\n",
              "      --disabled-fill-color: #AAA;\n",
              "      --disabled-bg-color: #DDD;\n",
              "  }\n",
              "\n",
              "  [theme=dark] .colab-df-quickchart {\n",
              "      --bg-color: #3B4455;\n",
              "      --fill-color: #D2E3FC;\n",
              "      --hover-bg-color: #434B5C;\n",
              "      --hover-fill-color: #FFFFFF;\n",
              "      --disabled-bg-color: #3B4455;\n",
              "      --disabled-fill-color: #666;\n",
              "  }\n",
              "\n",
              "  .colab-df-quickchart {\n",
              "    background-color: var(--bg-color);\n",
              "    border: none;\n",
              "    border-radius: 50%;\n",
              "    cursor: pointer;\n",
              "    display: none;\n",
              "    fill: var(--fill-color);\n",
              "    height: 32px;\n",
              "    padding: 0;\n",
              "    width: 32px;\n",
              "  }\n",
              "\n",
              "  .colab-df-quickchart:hover {\n",
              "    background-color: var(--hover-bg-color);\n",
              "    box-shadow: 0 1px 2px rgba(60, 64, 67, 0.3), 0 1px 3px 1px rgba(60, 64, 67, 0.15);\n",
              "    fill: var(--button-hover-fill-color);\n",
              "  }\n",
              "\n",
              "  .colab-df-quickchart-complete:disabled,\n",
              "  .colab-df-quickchart-complete:disabled:hover {\n",
              "    background-color: var(--disabled-bg-color);\n",
              "    fill: var(--disabled-fill-color);\n",
              "    box-shadow: none;\n",
              "  }\n",
              "\n",
              "  .colab-df-spinner {\n",
              "    border: 2px solid var(--fill-color);\n",
              "    border-color: transparent;\n",
              "    border-bottom-color: var(--fill-color);\n",
              "    animation:\n",
              "      spin 1s steps(1) infinite;\n",
              "  }\n",
              "\n",
              "  @keyframes spin {\n",
              "    0% {\n",
              "      border-color: transparent;\n",
              "      border-bottom-color: var(--fill-color);\n",
              "      border-left-color: var(--fill-color);\n",
              "    }\n",
              "    20% {\n",
              "      border-color: transparent;\n",
              "      border-left-color: var(--fill-color);\n",
              "      border-top-color: var(--fill-color);\n",
              "    }\n",
              "    30% {\n",
              "      border-color: transparent;\n",
              "      border-left-color: var(--fill-color);\n",
              "      border-top-color: var(--fill-color);\n",
              "      border-right-color: var(--fill-color);\n",
              "    }\n",
              "    40% {\n",
              "      border-color: transparent;\n",
              "      border-right-color: var(--fill-color);\n",
              "      border-top-color: var(--fill-color);\n",
              "    }\n",
              "    60% {\n",
              "      border-color: transparent;\n",
              "      border-right-color: var(--fill-color);\n",
              "    }\n",
              "    80% {\n",
              "      border-color: transparent;\n",
              "      border-right-color: var(--fill-color);\n",
              "      border-bottom-color: var(--fill-color);\n",
              "    }\n",
              "    90% {\n",
              "      border-color: transparent;\n",
              "      border-bottom-color: var(--fill-color);\n",
              "    }\n",
              "  }\n",
              "</style>\n",
              "\n",
              "  <script>\n",
              "    async function quickchart(key) {\n",
              "      const quickchartButtonEl =\n",
              "        document.querySelector('#' + key + ' button');\n",
              "      quickchartButtonEl.disabled = true;  // To prevent multiple clicks.\n",
              "      quickchartButtonEl.classList.add('colab-df-spinner');\n",
              "      try {\n",
              "        const charts = await google.colab.kernel.invokeFunction(\n",
              "            'suggestCharts', [key], {});\n",
              "      } catch (error) {\n",
              "        console.error('Error during call to suggestCharts:', error);\n",
              "      }\n",
              "      quickchartButtonEl.classList.remove('colab-df-spinner');\n",
              "      quickchartButtonEl.classList.add('colab-df-quickchart-complete');\n",
              "    }\n",
              "    (() => {\n",
              "      let quickchartButtonEl =\n",
              "        document.querySelector('#df-36bbd7f5-6243-4887-af79-ed58c4c88679 button');\n",
              "      quickchartButtonEl.style.display =\n",
              "        google.colab.kernel.accessAllowed ? 'block' : 'none';\n",
              "    })();\n",
              "  </script>\n",
              "</div>\n",
              "    </div>\n",
              "  </div>\n"
            ],
            "text/plain": [
              "      season             player  mvp_share    y_pred\n",
              "4710    2017  Russell Westbrook      0.879  0.626087\n",
              "4536    2017      Kawhi Leonard      0.495  0.417489\n",
              "4439    2017      Isaiah Thomas      0.080  0.205262\n",
              "4252    2017      Anthony Davis      0.002  0.179863\n",
              "4736    2017      Stephen Curry      0.051  0.126535"
            ]
          },
          "execution_count": 32,
          "metadata": {},
          "output_type": "execute_result"
        }
      ],
      "source": [
        "mostrar_podio_MVP(temporada = 2017, y_pred = y_train_pred, df_base = df_data_jugadores_train, cant_jugadores= 5)"
      ]
    },
    {
      "cell_type": "markdown",
      "metadata": {
        "id": "6TjaqmxUlscn"
      },
      "source": [
        "Podemos notar que, aunque existe una diferencia entre los valores de **'mvp_share'** y **'y_pred'**, nuestro modelo **logró ordenar de manera efectiva** a los jugadores, identificando correctamente a los ganadores de los años seleccionados. Sin embargo, es crucial recordar que estamos utilizando **datos de entrenamiento** y la verdadera prueba se llevará a cabo en los datos reservados para pruebas. A continuación, proporcionamos una lista de los últimos ganadores del premio para que puedan verificar la precisión de nuestro modelo:"
      ]
    },
    {
      "cell_type": "markdown",
      "metadata": {
        "id": "VR8ZvbadlVNH"
      },
      "source": [
        "![Captura de pantalla 2023-11-14 082612.png](data:image/png;base64,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)"
      ]
    },
    {
      "cell_type": "markdown",
      "metadata": {
        "id": "FaJjTH1JmWJa"
      },
      "source": [
        "Ahora que contamos con un modelo que **consideramos aceptable** y ha demostrado un buen rendimiento en los datos de entrenamiento, tanto en métricas como en su capacidad para **posicionar correctamente a los jugadores**, avanzamos hacia la **fase final**. En esta etapa, pondremos a prueba el mismo modelo con los datos de prueba y posteriormente extraeremos nuestras conclusiones al respecto."
      ]
    },
    {
      "cell_type": "markdown",
      "metadata": {
        "id": "6CEMsQv2Audr"
      },
      "source": [
        "# Prueba final en los conjuntos de datos de prueba"
      ]
    },
    {
      "cell_type": "markdown",
      "metadata": {
        "id": "7WC_Ng9kCO5x"
      },
      "source": [
        "Luego de seleccionar el modelo que consideramos **óptimo** para los objetivos de nuestro proyecto, nos embarcamos en la última fase: **evaluar su rendimiento con datos de prueba**. Esta etapa implica poner a prueba nuestro modelo utilizando los conjuntos de datos reservados para cada jugador desde el inicio del proyecto con este propósito específico."
      ]
    },
    {
      "cell_type": "markdown",
      "metadata": {
        "id": "nAAk30oDnu0v"
      },
      "source": [
        "Empezamos por generar las predicciones para todo el conjunto de test:"
      ]
    },
    {
      "cell_type": "code",
      "execution_count": null,
      "metadata": {
        "id": "Y_3AA3L5SVI6"
      },
      "outputs": [],
      "source": [
        "#Guardo y_test para evaluaciones futuras\n",
        "y_test = df_data_jugadores_test.loc[:, ['mvp_share']]\n",
        "\n",
        "#Preproceso las variables X de test\n",
        "X_test = df_data_jugadores_test.loc[:, correlated_features]\n",
        "X_test_prepared = pip.transform(X_test)\n",
        "\n",
        "#Tomo el modelo y hago las predicciones en test\n",
        "y_test_pred = forest_reg_best.predict(X_test_prepared)"
      ]
    },
    {
      "cell_type": "markdown",
      "metadata": {
        "id": "03l4mhUuv5pY"
      },
      "source": [
        "Ahora, al igual que hicimos con los datos de entrenamiento, vamos a evaluar las métricas de este modelo para el dataset de prueba:"
      ]
    },
    {
      "cell_type": "code",
      "execution_count": null,
      "metadata": {
        "colab": {
          "base_uri": "https://localhost:8080/"
        },
        "id": "k1m-d8gewD2g",
        "outputId": "2d630555-f64f-4885-b5b2-8c555bff93a7"
      },
      "outputs": [
        {
          "name": "stdout",
          "output_type": "stream",
          "text": [
            "Métricas en el conjunto de entrenamiento:\n",
            "Coeficiente de determinación (R²): 0.6666\n",
            "Varianza explicada: 0.6684\n",
            "MSE (Error Cuadrático Medio): 0.0221\n",
            "RMSE (Raíz del Error Cuadrático Medio): 0.1487\n"
          ]
        }
      ],
      "source": [
        "r2_test = r2_score(y_test, y_test_pred)\n",
        "explained_variance_test = explained_variance_score(y_test, y_test_pred)\n",
        "mse_test = mean_squared_error(y_test, y_test_pred)\n",
        "rmse_test = np.sqrt(mse_test)\n",
        "print(\"Métricas en el conjunto de entrenamiento:\")\n",
        "print(f\"Coeficiente de determinación (R²): {r2_test:.4f}\")\n",
        "print(f\"Varianza explicada: {explained_variance_test:.4f}\")\n",
        "print(f\"MSE (Error Cuadrático Medio): {mse_test:.4f}\")\n",
        "print(f\"RMSE (Raíz del Error Cuadrático Medio): {rmse_test:.4f}\")"
      ]
    },
    {
      "cell_type": "markdown",
      "metadata": {
        "id": "eX5jI4cvw2_k"
      },
      "source": [
        "De estas métricas, podemos apreciar que, aunque no logró un rendimiento tan cercano al obtenido con los datos de entrenamiento (lo cual es común), aún mantenemos **métricas bastante razonables**. Esto indica que nuestro modelo no ha caído en un **caso de subajuste** y sugiere que puede alcanzar un rendimiento aceptable al evaluarlo con otras métricas."
      ]
    },
    {
      "cell_type": "markdown",
      "metadata": {
        "id": "a_vH1yKUx03_"
      },
      "source": [
        "Ahora procedemos a ver gráficamente como se comparan las predicciones de nuestro modelo respecto del valor real que toma la variable **'mvp_share'**:"
      ]
    },
    {
      "cell_type": "code",
      "execution_count": null,
      "metadata": {
        "colab": {
          "base_uri": "https://localhost:8080/",
          "height": 753
        },
        "id": "ZNDI-ikoyBh3",
        "outputId": "0e063559-c4a3-4dd3-e357-c445e428a6cb"
      },
      "outputs": [
        {
          "data": {
            "text/plain": [
              "Text(0.5, 1.0, 'Comparación: Valores de datos de prueba vs Predicción del modelo')"
            ]
          },
          "execution_count": 35,
          "metadata": {},
          "output_type": "execute_result"
        },
        {
          "data": {
            "image/png": "[encoded data removed]",
            "text/plain": [
              "<Figure size 1000x800 with 1 Axes>"
            ]
          },
          "metadata": {},
          "output_type": "display_data"
        }
      ],
      "source": [
        "sns.set(style=\"whitegrid\")\n",
        "plt.figure(figsize=(10, 8))\n",
        "sns.regplot(x=y_test_pred, y=y_test, scatter_kws={'color': '#ff7f0e'}, line_kws={'color': 'blue', 'linewidth': 2})\n",
        "plt.xlabel('y_test (Valores Reales)', fontsize=14)\n",
        "plt.ylabel('y_test_pred (Predicciones)', fontsize=14)\n",
        "plt.title('Comparación: Valores de datos de prueba vs Predicción del modelo', fontsize=18)"
      ]
    },
    {
      "cell_type": "markdown",
      "metadata": {
        "id": "p1JoqMXo0W14"
      },
      "source": [
        "De este gráfico, podemos observar que las predicciones generadas por nuestro modelo están algo más dispersas en comparación con la línea azul de regresión. Además, notamos que, para valores altos de **'y_test'**, la variabilidad de los datos aumenta, lo cual podría conducir a algunas sorpresas al momento de presentar los podios predichos por nuestro modelo. A pesar de esto, hay que resaltar que nuestro modelo ha logrado mantener la tendencia general de los datos."
      ]
    },
    {
      "cell_type": "markdown",
      "metadata": {
        "id": "95jKCruT2Lv-"
      },
      "source": [
        "Ahora como evaluación final, vamos a ver que tan bien nuestro modelo logra pocisionar a los jugadores reservados para la prueba para así luego sacar nuestras conclusiones sobre lo obtenido:"
      ]
    },
    {
      "cell_type": "code",
      "execution_count": null,
      "metadata": {
        "colab": {
          "base_uri": "https://localhost:8080/",
          "height": 206
        },
        "id": "JJnonkx9u3tc",
        "outputId": "7c1f0a10-ae63-474a-a07f-d1e81c38589b"
      },
      "outputs": [
        {
          "data": {
            "text/html": [
              "\n",
              "  <div id=\"df-34d873c4-33ec-4346-9861-231e27e71319\" class=\"colab-df-container\">\n",
              "    <div>\n",
              "<style scoped>\n",
              "    .dataframe tbody tr th:only-of-type {\n",
              "        vertical-align: middle;\n",
              "    }\n",
              "\n",
              "    .dataframe tbody tr th {\n",
              "        vertical-align: top;\n",
              "    }\n",
              "\n",
              "    .dataframe thead th {\n",
              "        text-align: right;\n",
              "    }\n",
              "</style>\n",
              "<table border=\"1\" class=\"dataframe\">\n",
              "  <thead>\n",
              "    <tr style=\"text-align: right;\">\n",
              "      <th></th>\n",
              "      <th>season</th>\n",
              "      <th>player</th>\n",
              "      <th>mvp_share</th>\n",
              "      <th>y_pred</th>\n",
              "    </tr>\n",
              "  </thead>\n",
              "  <tbody>\n",
              "    <tr>\n",
              "      <th>1279</th>\n",
              "      <td>2022</td>\n",
              "      <td>Nikola Jokić</td>\n",
              "      <td>0.875</td>\n",
              "      <td>0.623029</td>\n",
              "    </tr>\n",
              "    <tr>\n",
              "      <th>950</th>\n",
              "      <td>2022</td>\n",
              "      <td>Giannis Antetokounmpo</td>\n",
              "      <td>0.595</td>\n",
              "      <td>0.420878</td>\n",
              "    </tr>\n",
              "    <tr>\n",
              "      <th>1065</th>\n",
              "      <td>2022</td>\n",
              "      <td>Joel Embiid</td>\n",
              "      <td>0.706</td>\n",
              "      <td>0.415259</td>\n",
              "    </tr>\n",
              "    <tr>\n",
              "      <th>1190</th>\n",
              "      <td>2022</td>\n",
              "      <td>Luka Dončić</td>\n",
              "      <td>0.146</td>\n",
              "      <td>0.180019</td>\n",
              "    </tr>\n",
              "    <tr>\n",
              "      <th>1182</th>\n",
              "      <td>2022</td>\n",
              "      <td>LeBron James</td>\n",
              "      <td>0.001</td>\n",
              "      <td>0.159342</td>\n",
              "    </tr>\n",
              "  </tbody>\n",
              "</table>\n",
              "</div>\n",
              "    <div class=\"colab-df-buttons\">\n",
              "\n",
              "  <div class=\"colab-df-container\">\n",
              "    <button class=\"colab-df-convert\" onclick=\"convertToInteractive('df-34d873c4-33ec-4346-9861-231e27e71319')\"\n",
              "            title=\"Convert this dataframe to an interactive table.\"\n",
              "            style=\"display:none;\">\n",
              "\n",
              "  <svg xmlns=\"http://www.w3.org/2000/svg\" height=\"24px\" viewBox=\"0 -960 960 960\">\n",
              "    <path d=\"M120-120v-720h720v720H120Zm60-500h600v-160H180v160Zm220 220h160v-160H400v160Zm0 220h160v-160H400v160ZM180-400h160v-160H180v160Zm440 0h160v-160H620v160ZM180-180h160v-160H180v160Zm440 0h160v-160H620v160Z\"/>\n",
              "  </svg>\n",
              "    </button>\n",
              "\n",
              "  <style>\n",
              "    .colab-df-container {\n",
              "      display:flex;\n",
              "      gap: 12px;\n",
              "    }\n",
              "\n",
              "    .colab-df-convert {\n",
              "      background-color: #E8F0FE;\n",
              "      border: none;\n",
              "      border-radius: 50%;\n",
              "      cursor: pointer;\n",
              "      display: none;\n",
              "      fill: #1967D2;\n",
              "      height: 32px;\n",
              "      padding: 0 0 0 0;\n",
              "      width: 32px;\n",
              "    }\n",
              "\n",
              "    .colab-df-convert:hover {\n",
              "      background-color: #E2EBFA;\n",
              "      box-shadow: 0px 1px 2px rgba(60, 64, 67, 0.3), 0px 1px 3px 1px rgba(60, 64, 67, 0.15);\n",
              "      fill: #174EA6;\n",
              "    }\n",
              "\n",
              "    .colab-df-buttons div {\n",
              "      margin-bottom: 4px;\n",
              "    }\n",
              "\n",
              "    [theme=dark] .colab-df-convert {\n",
              "      background-color: #3B4455;\n",
              "      fill: #D2E3FC;\n",
              "    }\n",
              "\n",
              "    [theme=dark] .colab-df-convert:hover {\n",
              "      background-color: #434B5C;\n",
              "      box-shadow: 0px 1px 3px 1px rgba(0, 0, 0, 0.15);\n",
              "      filter: drop-shadow(0px 1px 2px rgba(0, 0, 0, 0.3));\n",
              "      fill: #FFFFFF;\n",
              "    }\n",
              "  </style>\n",
              "\n",
              "    <script>\n",
              "      const buttonEl =\n",
              "        document.querySelector('#df-34d873c4-33ec-4346-9861-231e27e71319 button.colab-df-convert');\n",
              "      buttonEl.style.display =\n",
              "        google.colab.kernel.accessAllowed ? 'block' : 'none';\n",
              "\n",
              "      async function convertToInteractive(key) {\n",
              "        const element = document.querySelector('#df-34d873c4-33ec-4346-9861-231e27e71319');\n",
              "        const dataTable =\n",
              "          await google.colab.kernel.invokeFunction('convertToInteractive',\n",
              "                                                    [key], {});\n",
              "        if (!dataTable) return;\n",
              "\n",
              "        const docLinkHtml = 'Like what you see? Visit the ' +\n",
              "          '<a target=\"_blank\" href=https://colab.research.google.com/notebooks/data_table.ipynb>data table notebook</a>'\n",
              "          + ' to learn more about interactive tables.';\n",
              "        element.innerHTML = '';\n",
              "        dataTable['output_type'] = 'display_data';\n",
              "        await google.colab.output.renderOutput(dataTable, element);\n",
              "        const docLink = document.createElement('div');\n",
              "        docLink.innerHTML = docLinkHtml;\n",
              "        element.appendChild(docLink);\n",
              "      }\n",
              "    </script>\n",
              "  </div>\n",
              "\n",
              "\n",
              "<div id=\"df-b599f834-c9dc-437b-a1bf-43a4ec0d703b\">\n",
              "  <button class=\"colab-df-quickchart\" onclick=\"quickchart('df-b599f834-c9dc-437b-a1bf-43a4ec0d703b')\"\n",
              "            title=\"Suggest charts\"\n",
              "            style=\"display:none;\">\n",
              "\n",
              "<svg xmlns=\"http://www.w3.org/2000/svg\" height=\"24px\"viewBox=\"0 0 24 24\"\n",
              "     width=\"24px\">\n",
              "    <g>\n",
              "        <path d=\"M19 3H5c-1.1 0-2 .9-2 2v14c0 1.1.9 2 2 2h14c1.1 0 2-.9 2-2V5c0-1.1-.9-2-2-2zM9 17H7v-7h2v7zm4 0h-2V7h2v10zm4 0h-2v-4h2v4z\"/>\n",
              "    </g>\n",
              "</svg>\n",
              "  </button>\n",
              "\n",
              "<style>\n",
              "  .colab-df-quickchart {\n",
              "      --bg-color: #E8F0FE;\n",
              "      --fill-color: #1967D2;\n",
              "      --hover-bg-color: #E2EBFA;\n",
              "      --hover-fill-color: #174EA6;\n",
              "      --disabled-fill-color: #AAA;\n",
              "      --disabled-bg-color: #DDD;\n",
              "  }\n",
              "\n",
              "  [theme=dark] .colab-df-quickchart {\n",
              "      --bg-color: #3B4455;\n",
              "      --fill-color: #D2E3FC;\n",
              "      --hover-bg-color: #434B5C;\n",
              "      --hover-fill-color: #FFFFFF;\n",
              "      --disabled-bg-color: #3B4455;\n",
              "      --disabled-fill-color: #666;\n",
              "  }\n",
              "\n",
              "  .colab-df-quickchart {\n",
              "    background-color: var(--bg-color);\n",
              "    border: none;\n",
              "    border-radius: 50%;\n",
              "    cursor: pointer;\n",
              "    display: none;\n",
              "    fill: var(--fill-color);\n",
              "    height: 32px;\n",
              "    padding: 0;\n",
              "    width: 32px;\n",
              "  }\n",
              "\n",
              "  .colab-df-quickchart:hover {\n",
              "    background-color: var(--hover-bg-color);\n",
              "    box-shadow: 0 1px 2px rgba(60, 64, 67, 0.3), 0 1px 3px 1px rgba(60, 64, 67, 0.15);\n",
              "    fill: var(--button-hover-fill-color);\n",
              "  }\n",
              "\n",
              "  .colab-df-quickchart-complete:disabled,\n",
              "  .colab-df-quickchart-complete:disabled:hover {\n",
              "    background-color: var(--disabled-bg-color);\n",
              "    fill: var(--disabled-fill-color);\n",
              "    box-shadow: none;\n",
              "  }\n",
              "\n",
              "  .colab-df-spinner {\n",
              "    border: 2px solid var(--fill-color);\n",
              "    border-color: transparent;\n",
              "    border-bottom-color: var(--fill-color);\n",
              "    animation:\n",
              "      spin 1s steps(1) infinite;\n",
              "  }\n",
              "\n",
              "  @keyframes spin {\n",
              "    0% {\n",
              "      border-color: transparent;\n",
              "      border-bottom-color: var(--fill-color);\n",
              "      border-left-color: var(--fill-color);\n",
              "    }\n",
              "    20% {\n",
              "      border-color: transparent;\n",
              "      border-left-color: var(--fill-color);\n",
              "      border-top-color: var(--fill-color);\n",
              "    }\n",
              "    30% {\n",
              "      border-color: transparent;\n",
              "      border-left-color: var(--fill-color);\n",
              "      border-top-color: var(--fill-color);\n",
              "      border-right-color: var(--fill-color);\n",
              "    }\n",
              "    40% {\n",
              "      border-color: transparent;\n",
              "      border-right-color: var(--fill-color);\n",
              "      border-top-color: var(--fill-color);\n",
              "    }\n",
              "    60% {\n",
              "      border-color: transparent;\n",
              "      border-right-color: var(--fill-color);\n",
              "    }\n",
              "    80% {\n",
              "      border-color: transparent;\n",
              "      border-right-color: var(--fill-color);\n",
              "      border-bottom-color: var(--fill-color);\n",
              "    }\n",
              "    90% {\n",
              "      border-color: transparent;\n",
              "      border-bottom-color: var(--fill-color);\n",
              "    }\n",
              "  }\n",
              "</style>\n",
              "\n",
              "  <script>\n",
              "    async function quickchart(key) {\n",
              "      const quickchartButtonEl =\n",
              "        document.querySelector('#' + key + ' button');\n",
              "      quickchartButtonEl.disabled = true;  // To prevent multiple clicks.\n",
              "      quickchartButtonEl.classList.add('colab-df-spinner');\n",
              "      try {\n",
              "        const charts = await google.colab.kernel.invokeFunction(\n",
              "            'suggestCharts', [key], {});\n",
              "      } catch (error) {\n",
              "        console.error('Error during call to suggestCharts:', error);\n",
              "      }\n",
              "      quickchartButtonEl.classList.remove('colab-df-spinner');\n",
              "      quickchartButtonEl.classList.add('colab-df-quickchart-complete');\n",
              "    }\n",
              "    (() => {\n",
              "      let quickchartButtonEl =\n",
              "        document.querySelector('#df-b599f834-c9dc-437b-a1bf-43a4ec0d703b button');\n",
              "      quickchartButtonEl.style.display =\n",
              "        google.colab.kernel.accessAllowed ? 'block' : 'none';\n",
              "    })();\n",
              "  </script>\n",
              "</div>\n",
              "    </div>\n",
              "  </div>\n"
            ],
            "text/plain": [
              "      season                 player  mvp_share    y_pred\n",
              "1279    2022           Nikola Jokić      0.875  0.623029\n",
              "950     2022  Giannis Antetokounmpo      0.595  0.420878\n",
              "1065    2022            Joel Embiid      0.706  0.415259\n",
              "1190    2022            Luka Dončić      0.146  0.180019\n",
              "1182    2022           LeBron James      0.001  0.159342"
            ]
          },
          "execution_count": 36,
          "metadata": {},
          "output_type": "execute_result"
        }
      ],
      "source": [
        "mostrar_podio_MVP(temporada = 2022, y_pred = y_test_pred, df_base = df_data_jugadores_test, cant_jugadores = 5)"
      ]
    },
    {
      "cell_type": "code",
      "execution_count": null,
      "metadata": {
        "colab": {
          "base_uri": "https://localhost:8080/",
          "height": 206
        },
        "id": "Y-SUWflJ22WZ",
        "outputId": "4b93401b-31d6-454a-eafe-178075ec66b4"
      },
      "outputs": [
        {
          "data": {
            "text/html": [
              "\n",
              "  <div id=\"df-292daa33-8fae-46f9-9e80-4634aceb6f39\" class=\"colab-df-container\">\n",
              "    <div>\n",
              "<style scoped>\n",
              "    .dataframe tbody tr th:only-of-type {\n",
              "        vertical-align: middle;\n",
              "    }\n",
              "\n",
              "    .dataframe tbody tr th {\n",
              "        vertical-align: top;\n",
              "    }\n",
              "\n",
              "    .dataframe thead th {\n",
              "        text-align: right;\n",
              "    }\n",
              "</style>\n",
              "<table border=\"1\" class=\"dataframe\">\n",
              "  <thead>\n",
              "    <tr style=\"text-align: right;\">\n",
              "      <th></th>\n",
              "      <th>season</th>\n",
              "      <th>player</th>\n",
              "      <th>mvp_share</th>\n",
              "      <th>y_pred</th>\n",
              "    </tr>\n",
              "  </thead>\n",
              "  <tbody>\n",
              "    <tr>\n",
              "      <th>306</th>\n",
              "      <td>2023</td>\n",
              "      <td>Joel Embiid</td>\n",
              "      <td>0.915</td>\n",
              "      <td>0.432154</td>\n",
              "    </tr>\n",
              "    <tr>\n",
              "      <th>506</th>\n",
              "      <td>2023</td>\n",
              "      <td>Nikola Jokić</td>\n",
              "      <td>0.674</td>\n",
              "      <td>0.361984</td>\n",
              "    </tr>\n",
              "    <tr>\n",
              "      <th>422</th>\n",
              "      <td>2023</td>\n",
              "      <td>Luka Dončić</td>\n",
              "      <td>0.010</td>\n",
              "      <td>0.283334</td>\n",
              "    </tr>\n",
              "    <tr>\n",
              "      <th>207</th>\n",
              "      <td>2023</td>\n",
              "      <td>Giannis Antetokounmpo</td>\n",
              "      <td>0.606</td>\n",
              "      <td>0.224493</td>\n",
              "    </tr>\n",
              "    <tr>\n",
              "      <th>588</th>\n",
              "      <td>2023</td>\n",
              "      <td>Shai Gilgeous-Alexander</td>\n",
              "      <td>0.046</td>\n",
              "      <td>0.211966</td>\n",
              "    </tr>\n",
              "  </tbody>\n",
              "</table>\n",
              "</div>\n",
              "    <div class=\"colab-df-buttons\">\n",
              "\n",
              "  <div class=\"colab-df-container\">\n",
              "    <button class=\"colab-df-convert\" onclick=\"convertToInteractive('df-292daa33-8fae-46f9-9e80-4634aceb6f39')\"\n",
              "            title=\"Convert this dataframe to an interactive table.\"\n",
              "            style=\"display:none;\">\n",
              "\n",
              "  <svg xmlns=\"http://www.w3.org/2000/svg\" height=\"24px\" viewBox=\"0 -960 960 960\">\n",
              "    <path d=\"M120-120v-720h720v720H120Zm60-500h600v-160H180v160Zm220 220h160v-160H400v160Zm0 220h160v-160H400v160ZM180-400h160v-160H180v160Zm440 0h160v-160H620v160ZM180-180h160v-160H180v160Zm440 0h160v-160H620v160Z\"/>\n",
              "  </svg>\n",
              "    </button>\n",
              "\n",
              "  <style>\n",
              "    .colab-df-container {\n",
              "      display:flex;\n",
              "      gap: 12px;\n",
              "    }\n",
              "\n",
              "    .colab-df-convert {\n",
              "      background-color: #E8F0FE;\n",
              "      border: none;\n",
              "      border-radius: 50%;\n",
              "      cursor: pointer;\n",
              "      display: none;\n",
              "      fill: #1967D2;\n",
              "      height: 32px;\n",
              "      padding: 0 0 0 0;\n",
              "      width: 32px;\n",
              "    }\n",
              "\n",
              "    .colab-df-convert:hover {\n",
              "      background-color: #E2EBFA;\n",
              "      box-shadow: 0px 1px 2px rgba(60, 64, 67, 0.3), 0px 1px 3px 1px rgba(60, 64, 67, 0.15);\n",
              "      fill: #174EA6;\n",
              "    }\n",
              "\n",
              "    .colab-df-buttons div {\n",
              "      margin-bottom: 4px;\n",
              "    }\n",
              "\n",
              "    [theme=dark] .colab-df-convert {\n",
              "      background-color: #3B4455;\n",
              "      fill: #D2E3FC;\n",
              "    }\n",
              "\n",
              "    [theme=dark] .colab-df-convert:hover {\n",
              "      background-color: #434B5C;\n",
              "      box-shadow: 0px 1px 3px 1px rgba(0, 0, 0, 0.15);\n",
              "      filter: drop-shadow(0px 1px 2px rgba(0, 0, 0, 0.3));\n",
              "      fill: #FFFFFF;\n",
              "    }\n",
              "  </style>\n",
              "\n",
              "    <script>\n",
              "      const buttonEl =\n",
              "        document.querySelector('#df-292daa33-8fae-46f9-9e80-4634aceb6f39 button.colab-df-convert');\n",
              "      buttonEl.style.display =\n",
              "        google.colab.kernel.accessAllowed ? 'block' : 'none';\n",
              "\n",
              "      async function convertToInteractive(key) {\n",
              "        const element = document.querySelector('#df-292daa33-8fae-46f9-9e80-4634aceb6f39');\n",
              "        const dataTable =\n",
              "          await google.colab.kernel.invokeFunction('convertToInteractive',\n",
              "                                                    [key], {});\n",
              "        if (!dataTable) return;\n",
              "\n",
              "        const docLinkHtml = 'Like what you see? Visit the ' +\n",
              "          '<a target=\"_blank\" href=https://colab.research.google.com/notebooks/data_table.ipynb>data table notebook</a>'\n",
              "          + ' to learn more about interactive tables.';\n",
              "        element.innerHTML = '';\n",
              "        dataTable['output_type'] = 'display_data';\n",
              "        await google.colab.output.renderOutput(dataTable, element);\n",
              "        const docLink = document.createElement('div');\n",
              "        docLink.innerHTML = docLinkHtml;\n",
              "        element.appendChild(docLink);\n",
              "      }\n",
              "    </script>\n",
              "  </div>\n",
              "\n",
              "\n",
              "<div id=\"df-d9a9b5c8-e246-4937-b112-d66888418c6d\">\n",
              "  <button class=\"colab-df-quickchart\" onclick=\"quickchart('df-d9a9b5c8-e246-4937-b112-d66888418c6d')\"\n",
              "            title=\"Suggest charts\"\n",
              "            style=\"display:none;\">\n",
              "\n",
              "<svg xmlns=\"http://www.w3.org/2000/svg\" height=\"24px\"viewBox=\"0 0 24 24\"\n",
              "     width=\"24px\">\n",
              "    <g>\n",
              "        <path d=\"M19 3H5c-1.1 0-2 .9-2 2v14c0 1.1.9 2 2 2h14c1.1 0 2-.9 2-2V5c0-1.1-.9-2-2-2zM9 17H7v-7h2v7zm4 0h-2V7h2v10zm4 0h-2v-4h2v4z\"/>\n",
              "    </g>\n",
              "</svg>\n",
              "  </button>\n",
              "\n",
              "<style>\n",
              "  .colab-df-quickchart {\n",
              "      --bg-color: #E8F0FE;\n",
              "      --fill-color: #1967D2;\n",
              "      --hover-bg-color: #E2EBFA;\n",
              "      --hover-fill-color: #174EA6;\n",
              "      --disabled-fill-color: #AAA;\n",
              "      --disabled-bg-color: #DDD;\n",
              "  }\n",
              "\n",
              "  [theme=dark] .colab-df-quickchart {\n",
              "      --bg-color: #3B4455;\n",
              "      --fill-color: #D2E3FC;\n",
              "      --hover-bg-color: #434B5C;\n",
              "      --hover-fill-color: #FFFFFF;\n",
              "      --disabled-bg-color: #3B4455;\n",
              "      --disabled-fill-color: #666;\n",
              "  }\n",
              "\n",
              "  .colab-df-quickchart {\n",
              "    background-color: var(--bg-color);\n",
              "    border: none;\n",
              "    border-radius: 50%;\n",
              "    cursor: pointer;\n",
              "    display: none;\n",
              "    fill: var(--fill-color);\n",
              "    height: 32px;\n",
              "    padding: 0;\n",
              "    width: 32px;\n",
              "  }\n",
              "\n",
              "  .colab-df-quickchart:hover {\n",
              "    background-color: var(--hover-bg-color);\n",
              "    box-shadow: 0 1px 2px rgba(60, 64, 67, 0.3), 0 1px 3px 1px rgba(60, 64, 67, 0.15);\n",
              "    fill: var(--button-hover-fill-color);\n",
              "  }\n",
              "\n",
              "  .colab-df-quickchart-complete:disabled,\n",
              "  .colab-df-quickchart-complete:disabled:hover {\n",
              "    background-color: var(--disabled-bg-color);\n",
              "    fill: var(--disabled-fill-color);\n",
              "    box-shadow: none;\n",
              "  }\n",
              "\n",
              "  .colab-df-spinner {\n",
              "    border: 2px solid var(--fill-color);\n",
              "    border-color: transparent;\n",
              "    border-bottom-color: var(--fill-color);\n",
              "    animation:\n",
              "      spin 1s steps(1) infinite;\n",
              "  }\n",
              "\n",
              "  @keyframes spin {\n",
              "    0% {\n",
              "      border-color: transparent;\n",
              "      border-bottom-color: var(--fill-color);\n",
              "      border-left-color: var(--fill-color);\n",
              "    }\n",
              "    20% {\n",
              "      border-color: transparent;\n",
              "      border-left-color: var(--fill-color);\n",
              "      border-top-color: var(--fill-color);\n",
              "    }\n",
              "    30% {\n",
              "      border-color: transparent;\n",
              "      border-left-color: var(--fill-color);\n",
              "      border-top-color: var(--fill-color);\n",
              "      border-right-color: var(--fill-color);\n",
              "    }\n",
              "    40% {\n",
              "      border-color: transparent;\n",
              "      border-right-color: var(--fill-color);\n",
              "      border-top-color: var(--fill-color);\n",
              "    }\n",
              "    60% {\n",
              "      border-color: transparent;\n",
              "      border-right-color: var(--fill-color);\n",
              "    }\n",
              "    80% {\n",
              "      border-color: transparent;\n",
              "      border-right-color: var(--fill-color);\n",
              "      border-bottom-color: var(--fill-color);\n",
              "    }\n",
              "    90% {\n",
              "      border-color: transparent;\n",
              "      border-bottom-color: var(--fill-color);\n",
              "    }\n",
              "  }\n",
              "</style>\n",
              "\n",
              "  <script>\n",
              "    async function quickchart(key) {\n",
              "      const quickchartButtonEl =\n",
              "        document.querySelector('#' + key + ' button');\n",
              "      quickchartButtonEl.disabled = true;  // To prevent multiple clicks.\n",
              "      quickchartButtonEl.classList.add('colab-df-spinner');\n",
              "      try {\n",
              "        const charts = await google.colab.kernel.invokeFunction(\n",
              "            'suggestCharts', [key], {});\n",
              "      } catch (error) {\n",
              "        console.error('Error during call to suggestCharts:', error);\n",
              "      }\n",
              "      quickchartButtonEl.classList.remove('colab-df-spinner');\n",
              "      quickchartButtonEl.classList.add('colab-df-quickchart-complete');\n",
              "    }\n",
              "    (() => {\n",
              "      let quickchartButtonEl =\n",
              "        document.querySelector('#df-d9a9b5c8-e246-4937-b112-d66888418c6d button');\n",
              "      quickchartButtonEl.style.display =\n",
              "        google.colab.kernel.accessAllowed ? 'block' : 'none';\n",
              "    })();\n",
              "  </script>\n",
              "</div>\n",
              "    </div>\n",
              "  </div>\n"
            ],
            "text/plain": [
              "     season                   player  mvp_share    y_pred\n",
              "306    2023              Joel Embiid      0.915  0.432154\n",
              "506    2023             Nikola Jokić      0.674  0.361984\n",
              "422    2023              Luka Dončić      0.010  0.283334\n",
              "207    2023    Giannis Antetokounmpo      0.606  0.224493\n",
              "588    2023  Shai Gilgeous-Alexander      0.046  0.211966"
            ]
          },
          "execution_count": 37,
          "metadata": {},
          "output_type": "execute_result"
        }
      ],
      "source": [
        "mostrar_podio_MVP(temporada = 2023, y_pred = y_test_pred, df_base = df_data_jugadores_test, cant_jugadores = 5)"
      ]
    },
    {
      "cell_type": "markdown",
      "metadata": {
        "id": "TqsTR5en5Kti"
      },
      "source": [
        "Lo primero que destaca es la persistencia de diferencias entre el valor de **'mvp_share'** predicho por el modelo y el valor real, más notablemente en casos recientes, como con **Joel Embiid en 2023**, donde la diferencia es de 0**.915 (valor real) a 0.425585 (predicho por el modelo)**. Esta disparidad coincide con las observaciones del gráfico anterior, donde notamos un aumento significativo en la variabilidad de las predicciones para valores altos de **'mvp_share'**.\n",
        "\n",
        "A pesar de esto, nos complace observar que nuestro modelo **identificó correctamente al ganador** en cada uno de los años seleccionados, cumpliendo así con el **objetivo fundamental** para el cual fue desarrollado. A continuación, presentamos nuevamente una representación visual con los últimos ganadores del premio para que puedan corroborar esta información:"
      ]
    },
    {
      "cell_type": "markdown",
      "metadata": {
        "id": "t062rHn67LQK"
      },
      "source": [
        "![recorte_podio.png](data:image/png;base64,iVBORw0KGgoAAAANSUhEUgAAAqcAAACfCAYAAADEU3DtAAAAAXNSR0IArs4c6QAAAARnQU1BAACxjwv8YQUAAAAJcEhZcwAADsMAAA7DAcdvqGQAAEZHSURBVHhe7d0JWBRX2jf8/wwiqAHcgLAp7qJReCHBJeCIGjUuY4jGZYwYFzJJZB6NJjPiNW7ku8DvdYl5HjAZcUWjQkyQcYkaEZNmopLAQ0sEVBCULbIoNBFZZOY9p+r0xtrg1sj9u66SrjpV3dVVfU7dZ6nyd/9hQAghhBBCiBH4vfhLCCGEEELIM0fBKSGEEEIIMRoUnBJCCCGEEKPxWMacdgs8K14RQgghhBAC3AuZKF61DLWcEkIIIYQQo0HBKSGEEEIIMRoUnBJCCCGEEKNBwSkhhBBCCDEaFJwSQgghhBCjQcEpIYQQQggxGhScEkIIIYQQo0HBKSGEEEIIMRoUnBJCCCGEEKNBwenTNutV6X9MuLfuZbwnFpFn7z1/H/m8fDhULCGEtGVvvu0t5+m/DsOrYhkhpG148sHpqy8jmxcQjUyXZ4n1SDvUC8fX8d+BD47T1YOQdkKd7+tMj7nCfueh/LfyQTVuyy8JIW3Ekw9Oa/6NsppaVPJJLALEPJuqRAFCCCGknVFfG/hU+W9UicWPw7+OKNAt8Czs/ucacsQyQkjb8Lv/MOJ1q/ECwBC86zSkrylQmIdun14VSzlzvDn1Jaz36I5enfh8LcoKC7Fxbwr2lvJ5XtMeDC/cxZ7rZpjp2gVWfPGDBzgXewO33V3wJ3tT9i6slnyvGBt3JuELabuhuBzigIHlxfj8dicsGtqlgXWA8VNfxjbNZwNl9+7iUPTPWHNDnpf3+98491UWMGEAJnQzwfXEsxiROABfvWGPV2zM5P1h6m7r5DkMRyfbYSB/75oHiGelpFdfNvPgLgKDfsYX6IZ1i4bgT05dYCs+n3+v+MRUTD9ZIs8/t8R57VSD+BNxmP4vIOzDifiTDTuON9PhHC63d9RbNmAQjvvaw6sb+y1x/MImv8KNpFiMUTZ/XqRzPoKdc/4WD+7j3L0OmGBvpv/brPs5dc8LH6Lh0QUp8Yn4qe9wLGa/Qd39JoQ0pH6+19cDwf5DsIiVk7y8LsvPwUnYszJelLtHDSwnRP7U5mnDrgfN5ntCiMF4r0hrGMWYU6epbgjz4sFhDW7fvIuUcsDKxg7BCwbBSawj6dQdi1lginsPUCbNd8KEaTwoYOVPYZUUoJh364nVb/XiqVoWPfH+0I5666yfN0B6b6dJnjgofTYrpMof4E4N++xu3fH+vJfxXldpa8EMXm/IgalG1n22D2YwK7+P64X3cfuB2NZXPcbJGbunicAUNbhT2UEOTPXcww10gG2HKuk9rt9jO8C+l5fXEOzqI1YhOrphl29v6cJRdjsHK08X4jZMYG76b9y+fhufX2arNHde+gzDNn7O+bWnpgp32CVKCkx1dR2Aswvkz+Hr3C6vFedlOI6/yi9pWgNGuEmBqezf4i8hpDVenTUY74vAtLK8CrB2kgLTx6aJ60FL8j0h5MkxguDUHKsHWso15JuZcA3/GWN25COFp9izQFMvQATuXP8Fzv9XAecLpaK1rBY/nY6D66ffY+NNFtgxVi9YSH+12DoX5HU8L6ukJea9euB9/tlDuorPToddsAKD113HT/xtWCC8aIJ+YWSOapyMvii1FPPaO5CPt4LPsu3+hRGf/guusXfloNncDMP430k2GCbFLA9wck8cBgfHYdbV+h1Xh/d+j27rvpfeY8T/zUQ8C6bAA1YWdJO6LGArnZYapFxJw97vkxF/j8+zA115A4cL+Oumz8urr3aFVH2pKcWn277H4KB/4fN8dhHS4TTBBq/wc8dbuNm5cQ2OxcbbfB1TeHn206s08cD4p/grGM5+F87huWIpIaRpLC9NGo+CIDH9xYUt68YC0y5SauXtLHgGfw/nbbeQIhftj0lj14OW5XtCyJNjBMGpDXqJWLKygxV2zR2GXZM7wUwqjDqil97N0zW4cT1ffvmbenxSJW58L73AF/eq5Rf1sHXOyK9ylJVicLwJrHQ++849dVdsNm5IwQ5g281GfiGU5dzC2wnlYo6xc8Suv/wB2UFiQP+07ppuZImFPNQA5ffxjehOjs26LwdKGhZYNHck0teNFzcG8O4ukUQaUI7b0ikwxTD3oVg3yR1e3fh8LcqK+F+mmfMyrFMH+UVRGYKkrrxKrClQDwyQTe3WUX5R/gBfyK+wvUisY9EJU+VXsnvFWHLyVxrXRkhLmfJeDzF14JcjC1iJNoHbRTfkPFV6DSmiTH48GrsetDDfE0KeGKPo1lez7WWHma586omBUoujMeuGXQuGYKa9GcwqS/H1hVQsiS+tE3g279W5btjmagnbDg/xkzILKw/fwk9Syylp2D0sO5IlHSMrewd8OLYnej2sQoryGpZIlZTHc15apObfFJgS0mJ8zOlZqSdKmvTuQyCEtGdGEJwWipYwVlO+mqgtqKSpocHyrWGOYVPl6riTq7no0q3BHZ3P7mWtHXM0QGqJ462phfKLBqm7l2txQ5mApWdy8ZPp7/VbTstr5KEHFl0wZYC0BOP7iJu5hGEWciteZdGvmHjkBvbe/j3MqeUUZuwgyOdjEIaJ86G2aJojXunEu+Z+kH8nQd9jzJFcESA2f15SHohHRHSzEOOKzRFsJ5prhJPqVvhuXbBOrLPOWqxT/gAn5VeEkMeqHGWiodLKQj2uSVsm19VUOdG4xq4HlO8JMRZGEJxWYlOCPCaw11A3pH/4Ki7zaY3PY3wgugmGeb2K7HU+uDLCUlpSWVCIIJ3PNu/VBwlrvJG+so885qimFCfP6Xf16qtGpRTjmGCAK99nbyjEe2ucKRRjpTph5mIfKP/qg6ND9W+8KXwo30Bjbv2i9L2V/+Ukj1dtpw4VyM3G5va9ofirN7JX9hbjdrWuswtIJTvur4wdI4ZC8Ikd30W92IWq+fPyr3+Vyl15nbojZOUfoFzzKt6vc8NFzrkceeyvaVd8KNb5sBdfhwXFqZnUUkrII6sz5vSv7liEe/ic38HI2A58Cdl/ZWXiOlEm6zCknGhcY9cDyveEGAuj6NbP+dfPWBJfjOusULC16YKBfGKV1Tul98Uaj+oB4q9Xw6yTXHqVFRZgzeFs6bX82XelO7rNLTrBlq3CHzv0+YEEMR6xMb9i5ffFuM2CT3MLvs8dcPtyKr7WGxuVjSUnCqTvxQviXi88xLnTbF5Kk30TnYVz92pZspn0va3u5WClUi5426N/HUnFnnz57gerbp1g9hs7F0r5pgVJ115Y0dccvC2j7J76bnz5hoVeA3sjpI8B5yUrBSv5Oecfw457rw73sYfN63X9l97G9MO3EM+fnsDXsWAXKP5ImfhkTDzTVKWFEGIw3TGn5r8Hr7rzMuDzmw+kXierbrxMLEZKnSKx2XKiSY1fDyjfE2IcnupzTp8+8Vw73MehwH9hmVhKjMQAN6QvtoEtqnDu8Pd464pY3oQ3F/0Buwea4fbVn+B6UB1xWmDXX0dhZrcaxEfHYXqCWEwIeQ6on4sKzXNOW4euB4Q8bbxnszWM6oYo0k54ukPJu/GkwJQpL8c3BgSm3E/l8njRXn2H4Cv+ZIe5bjj+4cssMGULy8twiAJTQgghpE2j4JQ8A7+HFe/GY68qy0ux56skHJYTmpVzNF3q8ivr0AUTpCc72EiPkrqTX4CVOwx/H0IIIYQYp+e8W58QQgghhDwL1K1PCCGEEELaPApOCSGEEEKI0aDglBBCCCGEGA0KTgkhhBBCiNGg4JQQQgghhBiNx3K3PiGEEEIIIY8DtZwSQgghhBCjQcEpIYQQQggxGhScEkIIIYQQo0HBKSGEEEIIMRoUnBJCCCGEEKNBwSkhhBBCCDEaFJwSQgghhBCjQcEpIYQQQggxGhScEkIIIYQQo0HBKXmO/IJQv3DEFInZJ86AzyvNwI+3ysTMfeSkpaOwWsw2oPB8OBz2/iLmCGmPChGzcStC08Rsg/Tz0iPnm7RIOGz8jn2yIQzZP10t/z6EtHftNDh9iMIrJ7D6b9vh5rcVDku2Y37Yd8i4L5K5UiXCN2rTVxxUQh1iNL+9Ae9f1/0MnN65B9OXsPXZNiP+sgfhV+6KRPF+f9+OEfz96qW3VS0t5B9N4l752OlPkUgU6U9CYVIcPoi+Jn47OYjZcg6nC6QZQtopOd/r5sMxf4tAVJq2hG3e85aXWvt96h9LzaQXbN9HhiISK/6iTn+y5R4hj6pdBqeViVGYvuUaDhTUwqmnGUaZ1uLC5SuYtSVOZOYMhK89hw2ZtbAU6V+dPYe3D2ZIqc1t3/z715WDqKAYLIm/hxxTtn5PE6DsHjZsOcQCt0qWrsLVM/z9IL8fS68S6eHyLhEDTXpnAfIiVulMc+Ah0p4Em3H+SF7hCStpbjACdgfAr7c0Q0i7FhiozoPLcHS+GWJCDiEqXyQ263nLS639PjaYsV63PJOnsxNNMHbkYJbKVeLq3r2Ydd4K/p8sF+s82XKPkEfVLoNTc48Z2PHOcHz/+Soc3xaAo1u9sYAtL8rMwtX7PLhMQBivxA9+RU7f9AreYrNJcYlSbbO57ZtLr88Jsz96BZ9+sADJX7D1t63Al1PN2PIqxCTmsr/d4fPBUqR+voKlyem7vfh2Vbh427COqLai8tZ3WK9pcf4c689nsaJVx/0sxIR9LrcgL9mO9/VatB8F76KPRJz0+XLrwoi/HUJcURkyzh/CfNGiPT/sB1aV0FeWqb9NzC3tSdbvbqw7DOAhchTa954efIJVTrqINELaC3PYDJ+BZSMqcDpdW56pytIRoem9qlsWND2kpjAxEitWanuu3o9M1ytHytJO4P335Hw3hufzsi4YJdJkd5F4MBxjNPm+iZ4vPiRgrxI5l/Tzct2yvkXfpzoDUZs/1/akSWWRSGtO6Q84EGeDZV5O8nz+BQTHd8eOjyZjaNcO8rI65HJX/iy398L1e+XE9+PHbDHfnyVf4ypfnv+Dtqxu5DsT0lrttFu/CzzGvYb+6jjA1AQ8FISpFWzYsqKCu+DlwCSP/nKLV9f+8OnF/tYUIVOq2Te9ffPpDbAeg9kj5XouZybW62/fXX7RxQpWHeWXvItGVcH/mmBUL+02bR4rVDcEZWPoB4uQzGv3u6fBXfENPjijbk65i7gd3+B0/2m4LKUvwoKKOJZeN1xsrVx8uA9Y+v/zloXl+NK9DG+v3oXQGm/s3s2XzcaM4p8Qdkk3HFZh2xn1Nqtw9gNLxASxILdUJDehMu1rLI4ywcr/lrc97t8FX+2jPn/SfplBGzyFfalE/+UBclnw36NhFnUa/zSwZdWy12is2bRClCMzMCrpJHaphw8VfYcPtxRg8jq5FfGHde7IOHENup1QVw8ewoYaTxyX8v1ybOqfjVn7EvUryrriz2FrmbqcWIoNdtmYv+MHvYpzi75PR2uMmv0n8fmsXPEFPtxh2JjYnMtXkejjjtHiGlKYnoOrXsM18/WIctd9uXw8krd6omhHpH4rdvqPWH/GEhs/58dzJoby3r7PkmA231/+PuwYfeXvjX6NfQYhLUQ3RLFAL/HLi9jFXo319WSZjmXmoiopBabqgpL9NeV/q1BYr5mu/vb6mktvACs8g6PZPpjaYcEIEZwyOZe+RvjeSKz+Wzg+TDHD0ndmYEF/kfgcyIm/gtNeozC7t9wJzluUZ/gPhSo6Qa6pFyXiQMFQrJkkWgRY1WH0OGcUnrlarzWzMWf2HZBq+Zqpzk0US2e/xj6V64D+3n0wqsYRC9jnmUvLnDDW2xIH0vQ/TbsN26PeE7DU/R6ikpobD1yJpPO5cPL1gYe6QLf2wQIfEzFDSHtxn5Vt3yAkqRtmu2vLu0ksb4xWt/R1ccUk9wok3Tasn8Tc2gk2msp8HwwdDCQVyKFdzuVrSGLlzAx79XsPxuxp3aQGCdkviIvrjsD5rmI4Tgc4eQ3CZL5dozcs6ZYTVvCYz94/5Rou6lRSW/Z9rOCkKQfZXD9ruGfebb6cq/4FMdGA/zj2hYWcWyq429fidNjnGPPedoyo0+NUmMQCc9/JOsfDFTO8qlgZpvNpBV1YWTwGTppjytTwfx5KL/kxMre2Et+fkEfXzoPT+6zGfAhL4qrgONgdm6apQwxDNbd9w+lXI0Mxa6V6OiEHXmqliQgOuoJ/wgyBH83Qq+0WpmVjQ1yuNJbVrDNQlq+CSqQ9D3ilwL13nZZge0eMrShCBr9yFN/FmeKrGKkbXAZlIrW4zKAWBa7emNNFL4kUzhJOPcVLztQElj2txLitxtTZhhXPTr3NcPFWc3ukQlEx4G6n/+7W9tT0QNqHkBCRh5eEY7XCEoGb/ODTVSQydfMGbyAorBANB80ou/UDQoO15eyGeJHANFTOWFnp5LuiAiTVFOCtpTrlzPs/4QArz4saiyV7dddUUCUd7eDeS4UMnY6Qln2fQvwYGYHF6utEyFUkiZSmlF1OwK5hnvijvVggnDlxFWaz/fHDFytwebcfZpdpe5x48HoxKkr7Xdk08WwtLup+2X52GKpXNDnhj8sHo3DHLozZGImYtPzGW5UJaYV2HJzKgeOsKBWc3F/B0TU+msLFxlrqhNfBaodSLdEMNprKbOPbyxpPr2QF0sVi9XRfm6l5YLr2AsIqOmND4CIEuOgHKh6LREC1axE+HfZQuklr/sF0kdpO9BuO/9UNLqVpzpMb3G8lhmS0kLWm1Z0Q0hDNDVG7V+DLj6dhtPVjyjMZx/B20DU4vfOeGKMfgA3SGP2WcMQ/65Uz/phhLZKbVYuqClZ2SD1uLXUXcZsPIKTCFZ+K/T8aOBTuIrVxOSwIVWHZJI96LZiTfCfAR3N8u8NnnB0uXErXVOrr3yjKJr2Ke33mvSdj+xfLcHR2d+R8eRgj/34CV+lRWOQxaafBqU7gOGIsDq4YoxdYOvWzBi+DzlzJlgPH0gzE3WZ/TbvDUWola3r75tI1QaY0icBKE5ha4tN1fvDXDFhlqsv0b/rp2J0FyXJBk1pQ+JhuCHr2nHpbIqlui2N+Li50tkZ/fkKsrDD2dhEyjKoAVCGnWLyUVCLnVhU8pB1uiiWs2W8po1i/+7/KwJYhQkjDClkZoddtz0pIlU4e5Y0POfn6+a6yola8Yqy6o7/pXXF/gYHqdrnfz0JSsSX624n5FsnH1RRLLJ2mHlbAlN1vtku/MlGBYAzG5DpDvfq7dKv3faXGls5mUsXbxr4zktJyWtnyaQ4bl9cQ8P8twqbO1xCXKRYT8ojaZXBaeF4OHKUxRpkXsUTddcKmCD4q3sUDy3ipkKTARL589U/4is26+3hidMfmt2/2/euqTkcoD0xZlGltWoWoz/Zq1p+1/QcUliXgQ7+tmL5yD9bzMad/3475J+UgZoH3S9oCrI2zcR+EyfEXEaF5aH0OYsKvwlI9VtfeE0sHFyAkPEHbjV99Fxn5zzY8PxD9HXJEwFx2JQYhSXb447Dmzoo53Efa4ULUd0hU3+FalIADZyg4JeRRWPIu+vRscYPTQ5Ynz2GXTgeTk3t/2MQpEJMvxkvez0DUiQKpQULS0QMzfGoRHH5a5w59FhzmN9V1nYtdZ9QBXhkSo67g9AhXjNLv/DKQFWx6qpCUKcq1alYORmc3M4SrEGfYd5g9e2ydhhL2bsM84HNZgSh1ucq/b3Su5trhNGIoJiddxLZL2oaBytIs5DR5U2cZq4Tf1R6P+zlIum0Gy85inpBH1C6DUz7GRj34PUnTvS5PKqn7vj/8P5mADYNNUMWX15jgjxMn4ODbcpW0ue2bf/86yljGFuVGkV6XP5vKWLBi1QeTh/FBpvewi485vV0Lm17WCPloATaN1N5A0OZ1HYNNn7hCtW+veNzKCSR5v4kdk9QDqLrD5+PZWGmqxCz1I1ZWRWJXpuEjb+vdEPWoD6Pu3A875gO71srvN/HLWixdpz9WuDH8kWNHfWux7b/kbedHlWH2O87aiyQhpMXMPcbiYK8czOf5e0koVqcNxSb/biKVsZ+MHcu743TQZ1K+G7NFiaHzh+s9Smro2wvwpUch1ou86fbeXmw9fxeNVh37DcJsUwWWSOXSLmyrGISj79TvXjeME/74wSAU7tslffaItQpYvjMZS5sK/DJ+RGhBP8zwaOATu7hizTp39n6iXP2v73CVlasb1NcOqdz1hOWZQ5rHQr21RYGr0hNhGqPC1ahITBTlsNuqH1E1fwY9w5k8Nr/7DyNeE/KU8f/d5AByZq9CgItYRAghbQl/DmhUd/zv+teauXmSEGKodn63Pnk2RHdafhJibltjKH+GLCGEEEIIQ8EpefoyYuT/4WltFtw/mAafVo3LIoQQQsjziLr1CSGEEEKI0aCWU0IIIYQQYjQoOCWEEEIIIUaDglNCCCGEEGI0KDglhBBCCCFGg4JTQgghhBBiNB7L3frl5eXiFSGEEEIIIYCFhYV41TLUckoIIYQQQowGBaeEEEIIIcRoUHBKCCGEEEKMBgWnhBBCCCHEaFBwSgghhBBCjAYFp4QQQgghxGhQcEoIIYQQQowGBaeEEEIIIcRoUHBKCCGEEEKMBgWnpG1QZSMhV/0/kV3DzmWHcLJEnmux68cxeLMCRWL2yWp6X1W5qbipEjOEEEIIaa/B6UMUpcZifdBueC3bicHLd2PpHgVuVohkTpWK/Zu16YFHU6GNIQzYXlKKhIh98jqHr4lljajIxrmISMxZztZl649fHYn9qaUikWkuvU0qxsnN7PuwQDFPLNHiQd1xJIu5IuWPWHkyU+ccPCMlCizT2a9Hw34fh+Ox/zr997+kPRH5npeLYvL66ADWH0tGXr0y1MhJ5cFOLDt/RyzQwSvBzZX7T1He2X3YeV3MEGLk2mVwWqU8gblhmYi8UwuH7h3haVqL+MQ0+IX9KFrTsrE/OB4h2bWwEOnRcfHwP5otpTa/PVORg+jNUfC7XM2K4ubkI3rLWQRcLkOeKXu/7iZAeRlCwo6xwqTKgPS2zASuJWnYqmigcNdh7f0nxP/ZDZZi/vnQFRM+fhcbX27d/z1MSFu2cvm7SA+Tp9h1YzHhQQrmBLGKX1sLUDt1RHFMbOt7cp6Kcty8Xi1eE2L82mVwauY6EVvnuuDU5ncR+ck7iAjyxBy2vDg7B+msYKxSJiOcN2YNcJXT17nCl80qFSlSi1lz26MiFVuDvkVgdkdMce7IFjTHHr7LXBGy6E3Eb2Hv98kShL/Gt6vGqSsFBqS3ZZ3g5+eCqqOxONdE4V6kONR4K0RFBqtM7MP6n9UBbimSj2pbmV/ffArJTTS5VmUpsD54N8aLVpyley430JLbOFXqKQSuVrcAHWq6RVtvX+UWJN3WjKrcy9ip02K/7HyOSCHk+WVm6QTveTMROqQQAUdSoKlys0r+yT0H5LzJ8sNKvR4suXcl4dfLCBa9WLr5Tyoz9ui8F1eTguBlkTgn3oTn3ZUfyXl3fNAxnMzVRsZ8+2WKfORd+hp+vCzZrNP4oMu2HwJnACF7GkmX1M/r9ZfxcusQXv9oN/xW78bra/fBj01L9yTL31kci9c/YsvZOnNE+rKzcqNJ48cqH+dCjyH4BhC5R94m+BI/RuVIO6YtJ6XW60tNNxIQ8rS00279znDz9kbfzmLW1ARm/G8HC/Rky4rvlEqtneOHO8stdZbO8HJgfx+WIOtXvqDp7dHZGeNdeyAkcDYCRxoSnDI9RsD35Z5ihhXW4r372naVXzSX3mb9hrwO3ljDCvcNTRbujbmDk2HnofR+HRtftpWWpB09hhDVIIR+JrfKRE6tRUgTLTJmPQZiYcBCxEqtOPOwEEoEK5pv75ZknYF/RDWmfLxY+qz4IDdURXyNrakNfVj9fdWjYhfZzWnA1NmI5/vy2TyEjLQRiYQ873i56oieyhzclOZLodjzLWKdx8t587PZmFtxESvP50upsgIEHqnGwsAlUp6JX2ELxT8uIKEGsHbtB9/ETCjZa7Wq1ExEDHCGJy/YpbxbC78g0Xr7blec2nxW2lYtLy4WobkvyWXJx6NhLZbryWaB3rjxCMQvCDG03GhA3vnjCFANQeSWJYjYtAS7fDriZh8PhC3mPUZVSDjyLaK7j8W3vIFiyzwEDqhFR5+JCJvozLZu6ljZY0LA6whwBOYs5o0b72DNyK6oUsbC/4Y9tolyMj5kOlYNb6BcIuQZoBuiUMFqq4mIYK+8prrBhf0tKhHdHyzolLG/pvxvNYrqtcDV314qZOfNhK+jOnptoRIFtp5k+9DBBnM9Ggg+m0tvgxzGjcWqB78g9OeWjKNlx/7wt4hw/ANCvEWhWpOC6LiO8JvhprmQWA6ZiFVDChCd2sjYTktb9LXsIGYsMHjAC4jNNaSPjl0w4m6h51QvePcQ23cegoXzeiD8fEqd8bEN7GsdeZfSEDtyFN4dou7m7wzLzlK1h5D2wbIzHB6W4ibPfiUpOHJnIFaNs5fTWN70ZMFrcdx1vZ6NOVO84SCVz4zjS/C1LUFaLnttOQjjBxTiXKq67bQKysRCzPEaIjU6JF+6Bdd5E+GmLqZf9MBcvfWB9Bp7+M8aZMBwIltMXTAQqqOxUNS7Rhim6M4DuA5w1HyWg6MFiq8Xiu9azq5LgOcQJ2mOlw0OfToh/kah3DJs4LGqqxi14hVj2pUffkKMQjsPTitw8+wxBMRXw2HAS9g4UZ2xDdW67dOOyV0r8hSLNLFcokrB1s1pOIWOWLlsIjzrFhbNpbdZ9vB9dyDyDpwxsHCvRTo/9ok2CJw3SG655lSlrDC2gEMPMS8xQx8WcEbe0G1x0VGSiiOhBzTnZFXMbyKhOfIFw9VW26LNmTn2wPi0QtH6wzWyr3XwSpEr25aQ9s6MB5slpYi9e10z3EaattxC+l2W7+TVmBfq5HXekFCLKqn1sys8vawQkXhdDuAqknGS5cGprrzyV4w8FsBG7Nyvfe9lh+HPCuM8lU4ldogj+oqXzXpxLDZOrUZgxOVW3bhpbdsJyhsF8r4yebnl6NmnB+TSxQLW7HsmZKvLsArkZbFg1raHXJ4YdKz0mbmORYRtDvyWyzej3VQ9FCmEPHvtODiVA0s/Fog4DHdFxIrR4D33nHWPul3xrHYpFXYdYa2pQje+fXOqHlQj4a56qtAURlLgGXwR4Q86IXDFbLw7sE7k2Vx6W8cK91XeDxB4tM44sQY9QILKCauG5CLkcIYB6zdCdRnrgxKgGveG1N3Fp60zXhCJj8tj2ldCnncqFnR16AoHdTnr7AIF76bWm6bDTSQ3x9J1CPxE174qNRuxHv3gqm5lZXRvylJPYd76lc2WcJjoDf9cJUKVjYwhaoLDuInYoErAeD6mdPVurLxii/AF6ptAzeA5dxw8FScwfjVPP4zQhy9h2xvqllSmxceKBe9+CxD7yVhMwDVsWHsQ639u/bAEQh6ndhqc6gSWHqMQ/ucReoGlg7NcW41NzZUDCVU24nnfCC80pVp609s3x21eA4WHJvB8ASEfz8TCPo0Fpo2kPydcZo2F//WL2Kp8IJY05gX4zfKG71wveCbyxzGJi0EPG7h2KEeeXq98FbJu/IY5Axpo2f61EJGO/eCr6UrnY46b+2y1nnBwBJR39Av0qtwSxLrY6LS4NLKvdfBKkdKg4QSEPI8qpGEy8B4oD4+ytIAXyw9ZOmNAW8x0ICZ48K76YigvlcHXY6DouRAtkbmN9Ka0mjMW/rk3lHvOsgqpWNSoalTrrpP7C8JV/RDJx5RuWoLIFePholPMq1KViOgzCqc2yem7Futcdx7lWPGb0d6Yg4gVdlDGpbVi3D8hj1+7DE6LFHJgKYUUWYkI0HSx78ORLLZs4DD481jlSgLe4MuDlIhms67ebvBkte5mt2+pmgzs5IFnOQt3TKsR/Y8ozfv5/eMyippLF2/zfHDG3MWOUB5IxCmxpEmdhyDg3R6I3RMrbngaBG/vaoTHJGuOiyr1LLam2ukFoBqsUPdkhbr0lAWm6lcFIi7pjMNqhtvI3iiOiYeiRHSJVaRi/+ES+I8bVn+cWr191efALpyelxJ0nntawYLsRsbJEvLceMjy3TWpXAvMcsSGKf3lxS+6YeGAQmw9oM3LqCnFzV9bkifM4Ophg1OXvse5G3YY76oeVGMGT5/eKI+5gGjNf+7B9yOflbditrX6jMWGkaUIPlIoFnByMHzqkvoO+ofIO69AqG5w2t0R4yv0u+Zf3xyLNFFWWPaxYZXbi3DVSdc8WaTZY2UGy06sIp2rvRu/qiQfeTXqrny2P1klKGblYWPDjgh5mtplcJqXKwJLRqnpXpcnlVQwsdrvGi8EDjBBNV9eY4IpPl4In8XvijRk+xZSFUApypBivS5/Nqmqm09/zpgNHI8NHiZIF/PN4esHupZoHkHjMmsmQhwzESgekTLnpAkC103X3vig60VPBPpUIDhQXnfZqY4IWNYbg0Vys/pMQvi7XXEubI+0vde6ZJj5zcSqIQ23bNfdVz09RiPkY2fkHYkSj5I6jPWJLblBjJC2Y9tn6iBrD94IS0ZaH08c+WSKTj7tCu+AaQjokCo/yomtO37tcezPbklwyvKcqwv8Ukug9HbR7+LmeXeZPZL3HJb3Y/l++LN8mfeowSkL71xmeWFKB91KrtwtP/fORUwReXu/KcvvI0UysnEk5CLgN0/bq7Z9NjbaZiPwVDa7BiRjfUgO+/4LddJfx9QSJXb+zI9Hc8eKVcJnucDyVIyUFniplAWnKQhdK5db/BzoDyMg5Nn63X8Y8brVystbVlgQ0mbx/xEmqBwBn00RT2YghJBHdP0UvGIsEP2xt97jqvizVr1zPaBwTJT+ps8bJFJkyYd3ItzxzUcaJ0vIk2Rh0UCPpQHa+d36hBiKd389RJ4yB8oh9i0aY0wIIU16sQcLPnOQ8KvOHfOqVESf/A3+Q5xh7dgDg5XX9YYDyUOQOmHCAApMyfOHWk4JMUDa0Z3wjQMcbO0QsmK6/BBvQgh5TPj/VhUSkQvFQxNY1NTC0rYHfN/4A+YO4cFnBW4qziI4phBZHUz4A0Dg0McGfrPGYoJj61qmCHkaWttySsEpIYQQQgh57KhbnxBCCCGEtHkUnBJCCCGEEKNBwSkhhBBCCDEaFJwSQgghhBCjQcEpIYQQQggxGo/lbn1CCCGEEEIeB2o5JYQQQgghRoOCU0IIIYQQYjQoOCWEEEIIIUaDglNCCCGEEGI0KDglhBBCCCFGg4JTQgghhBBiNCg4JYQQQgghRoOCU0IIIYQQYjQoOCWEEEIIIUaDglPSNpRm4MdbZWLmF4T6hSOmSMy2VFokHDZ+h0Ix+2Q1va9lt5TIKBUzhBBCCGmvwelDFF45gdV/2w43v61wWLId88O+Q8Z9kcyVKhG+UZu+4qAS6tDo0bdvwP0MnN65B9OXsPXZNiP+sgfhV+6KRK3KW6exQlrnEYIzo1GImI3su7BAMUcs0eJBXSQSxVxhUhw+iL7W9DF8Goq+w2Kd/Xo0d3Fx3znsSn/m34qQp0jke142isntvc+xOjIBObplaFsglQdbsfhMvligg1eC9/4iZp69nBOhCE0TM4QYuXYZnFYmRmH6lms4UFALp55mGGVaiwuXr2DWljjRmpaB8LXnsCGzFpYi/auz5/D2wQwp9VG3ry8HUUExWBJ/DzmmbP2eJkDZPWzYcogVJpViHbYo8RDeWnsVX9WIBc8FE7gXX0Hw+QYKdx024/yRvMITVmL++dAdk9evwqaRz9e3IsQQgYGrkBchT5c2TcakikRMX80qfm0tQO1shqKok0beWFCGjLQq8ZoQ49cug1NzjxnY8c5wfP/5KhzfFoCjW72xgC0vyszCVVYwViYmIIw3Zg1+RU7f9AreYrNJcYlSi9mjbl+fE2Z/9Ao+/WABkr9g629bgS+nmrHlVYhJzGV/HyLnTDj+8FkBcvpZYpK0zfOiC5b6D0fVlydxuonCvfB8eOOtEPfTEf73UKy+pA5w7yLxoLYVeszGr5HYRNd5ZcZ3WP337RghWnHmh/3QQEtu48qufI0Vf1G3AIU32OKtobevcguSbmtG5a0fEKrT4r74TJZIIeT5Zd61D3wW+WH3sAIs2ZcITZX8fhZiwj6X8ybLD+/r9UDJvSs/5v+A9aIXSzf/SWVGmM57cdWJWO+3B6dFecDz7vvvyXl3xN8OIeaWNjLm2y8+n4McRQRm8bJko7rxoQ67QdgwG1i/o5F0Sf28Xn8ZL7fCMea97Zj1l+0YszIUs9g0PyxB/s7iWIx5jy1n60wX6YtPiEaPRo9VDk5vPoT16cCBHfI26xX8GJXhaqS2nJRarxVNNxIQ8rS00279LvAY9xr6dxGzpibgoSBMrWDDlhUV3AWPkyZ59Jdb6rr2h08v9remCJlS3n3U7RtgPQazR9qIGcBMvHd/++7s3w5wcnfGDK+x+H79KLjLSc8JFXJMX8NGVrivbrJwb0w+YracRNK4N7FppL205OrBQ9hQ9hJ275ZbZY77PsSGJlpkzHsOxdKPAnBZasVZiqX4CevPG7gnGcfwdngVZqxbLn1W8lZPVIVHIPhKQx9Wf1/1lP6ADUFXAN9FSOb7stsfn3rZiURCnne8XHWGdVI2MqX5u4jb8Q1O958m583di7CgIg4fnNGtOubiw31VWPrJCinPJAfa4cJnp/FjNWDjPghvXb6GJPZarTLlGnYN7o9RXdmMlHcfYulWuZy4vLw7YoJipG3Vcs6cwNZb7nJZst4H2hJaRyYL9CZNxUYkGV5uNCDnTCSWlLni+BcrcPR/VuDLSWbI6DcKu5fxHqNK/LjvG0T1nIwfeAPGF/7YMPghzCbNwJ5p/dnWTR0rJ0z+eCZWsWvQgg9440cANnp3R2XiScxPd8IOUU4m//ccBLo3UC4R8gzQDVG4j8QvL2IXezXW1xND2d/CItH9YdpB/suCQ5jyv1Uo1FbbhUfdvgFF3yE4mr2HqR0WjODBKWPNArh3PZ6zbm0tp0mTsaYiCdsuNdHqWA879nu/wa5ek/DpOFGoVici6qwZls721FxIrIbPQOCwXHyV0sjB72qP/l3V58oKQ10sceaWIRcZdsE4kwlr3wnwsRbbd3HF0ndsEHYmUaeFh2tgX+vIib+C06wCEjBcfZa7wKqLuXhNSDtg1QVONXeRwWv3RYk4UDAUayY5yWksb45mwWvhmat6PRsLfF+DU0cx09sds+0KcfU2e931JUweXIAzKeq200okXSrAgnGuUjmaqMiE+zsz4KFuZLAfhQV66wOpNU4IePslA8pde8zwHwrVlycQ18obHAvzK+Du4qz5LKdelihKL2DhN6dCUTEwangfaY6XDU79u+BCWoHcMmzgsaqrCLXiFdOxOz/8hBiFdh6c3kfGiUNYElcFx8Hu2DRNnbEN1brtr0bKXSvydAJXxXJJaSKCg67gnzBD4EczMLrdFBZOmL18KHLCjxlYuD/EVX7sL9thw6KXoAnhyu6ywtgSjtZiXmKO/izgPJDWSDFdpETE5s815+SDKJVIaI58wXC3029PMe9ljUkpBdCOMG5kX+vglRr33g22zRDSrpjxynzxXZwpvoqRvJtaPQVlIrW4TKeHxRJOPcVLCW8IqEWVNC6/O0aN64Zdl67KAdz9BPyT5cE/uvPwrxC5LIDd9VmY9r39duHtFFZJLNPJ/8OcwdslDWI/GZt8q/Bh+A91KqaGsbHvjCRWRqlD45zbKlj3s4FclFnCmn3Pi5nqMuw+cjLus7LHWi5PDDpW+sw9JuMruyzMWiLfjJZR+lCkEPLstePgVA4sZ7FAxMn9FRxd48PCI5mNtdRJr4NlWqmwM4ONpgrd+u0rK6pwsVg93dcURlJguvYCwio6Y0PgIgS4tLNqLCvc1/hU4MMv64wTa1AFLpY5Y82wbGzYm27A+o0o/QGrVyugmvQnqbuLTztmW4rEx+Ux7Sshz7syFnSZdocT73bn+g3H//Juar1pDjxEcnOs3F2xVHTtl6Vk4PSIQXBXt7Iyujdlqac941pfQXSa9hqW3f4J21pxV5fTpBnYVKbASD6m9C/b8UGiHb70V98Eao7R70zFqPNRGPEXnh6ObTXu2DFH3ZLKtPhYdcfod9/H5a2TMQm/YPWqL7D6UuuHJRDyOLXT4FQnsBwxFgdXjNEElpxTP2uptnrmSrYcSJRmII53E7FC01GqpT/a9h6LGig8NIGpJT5d5wd/zYDW9mXo25OxLP0CQhIrxJLGWGLp/Ncw+50JGHX5HHaliYuBtR3cTVXI1bu5qhIZaSoscGmgZbugAAd6DcJsTVc6UJRv6IXFBo69gKQC/QK98nYRzgyz02lxaWRf6+CVmiSDhhMQ8jy6Lw2Tgc9QaXgUrKwwluWlDJ0xoC3WcSgmjeBd9YVIUtzD7JFDRc+FaIm83VSnd2v0h//yfkjaEYMfm20+rUKV7jq3khBWNhjH+ZjS/1mB42umYajOZaAsJQG7+o3F9/8jp3+5TOe68yjHit+MNmcxjgY6IvGMshXj/gl5/NplcFp4Xg4spfgl8yKWaLrYQxHB+2JdPLCMxypJCkzky1f/hK/YrLuPJ0azWvejbl9PdTpCeWDKCipr0ypEfbZX836ztv/QzgqL/ljwgTOSwn9EjFjSpC6uWLncGmd2nBA3PL0EH58qhEYlaI5b2ZUYhKQ44q1h2gBUgxXqo1ihzp+ywFXmf4fweJ1xWM3w8O6HoqhziCsSXWL3ldi1rxDLJjUwPrjevupzGjEUo+IVCE9TX7HuI6eoNR2EhLQlD1m++wVR2/fiw0xnbPIdLC+298TSwQUICdfmZVTfRUZ+S/KEOdxH2iFGcRpn0h0xyUM9qMYcoyf1gyrqNKI0/7kH348cFD5KMMz1n4xNXnexfl+BWMDJwXCMQn0HPX8Cy3fYqvtVejpjUoV+1/yYjSc0ZZNVPztWub2AfjrpmieLNHuszGDZmV2SbmvvyK0sykFOtborn+1PZhGKWHlYt9+PkGehXQanObdEYMkkabrX5Ukldb+z2u8nE7BhsAmq+PIaE/xx4gQcfFtuC3vU7espy0GSKEOK9Lr82VTW/p5NZ+4yFZtGdECqmG+Oucs0bHAv0jyCZujbC7C9dzo+FI9ImR7dARs2zdHe+KDL3hsbJ97H+v+S110SbYZVH/XDEJHcrP5v4ODy7jiz5TNpe7dVCTDz98Oa4Q23fNfdVz3WPvh0XX/k7tsrHiUVjtWXW3KDGCFtR0iInOcc/D7DxC0JuNrfG8e3zdTJp93h8/FsrDRVyo9yYuuOWBWJXZmGjgmXmXsMx9KUIiT6uOp3cfO8+5ETknbskvdjSSjeZvkyRyrDH4U5hs6fgBmmupVcuVt+QUEc/iDy9i5Tlt+9RDIyELH2AuC/VNurtmsRNtllYEV0BlCagNVrszF50zKd9Dcxo/gnhF3iF4/mjhWrhM8fDsvow1LaCsVddm1KxNZVcrnFz4H+MAJCnq3f/YcRrwkhzeH/I8xqFVbtnil3PRJCyKNK+xpuUZY4u/41vcdV8Wet/p9bo/C/vS9Kf/MWvSRSZIl7tyKs94JHGidLiDFq53frE2Io3v31EDlJ2Uga5gRHeSEhhDw6O2uMvZ2Ni/nqbnamVImoaBWWDe8Pm17WGJJ0VW84EB+CtCu+MyYPpsCUPH+o5ZQQA1w9uBUTzwKOdo74NHAORqvvJiaEkMeA/29V68OzcaHGBJY1tbBiAetbsyfDbzgPPu8j43wM1kcVIMPUhD8ABE797LB0/mRM7k0d8eT5Q8EpIYQQQggxGtStTwghhBBCjAYFp4QQQgghxGhQcEoIIYQQQowGBaeEEEIIIcRoUHBKCCGEEEKMxmO5W7+8vFy8IoQQQgghBLCwsBCvWoZaTgkhhBBCiNGg4JQQQgghhBgNCk4JIYQQQojRoOCUEEIIIYQYDQpOCSGEEEKI0aDglBBCCCGEGA0KTgkhhBBCiNGg4JQQQgghhBgNCk4JIYQQQojRoOCUtAEVyLuegaIaMfs0qLKRkPu8/89nxTi5eSd2XhezhBgrvfx4DTuXHcLJEnnuqbp+HIM3K1AkZtu05+m7kOdOOw1OH6IoNRbrg3bDa9lODF6+G0v3KHCzQiRzqlTs36xNDzyaCpVI0ipFQsQ+eZ3D18QymSr1FAJXs+XS9gew/mxGA9vrqMjGuYhIzFkubzN+dST2p5aKRK4CNxXHsFSkvx50DCdzdXe4LStGwrGvsUx9vPj3WxuJ4Es5Ij0fJ8PiEXtHzD4FRcofsfJkZtPnrEkZ2P/RTgRe0j2HhspH9NrjSBZzhmnNNoQ8C3KlaPCySJxrMIOx33IQT9f+nh89P7ZBPHgU5aF6mhP8NY7oXRcIeT61y+C0SnkCc8MyEXmnFg7dO8LTtBbxiWnwC/tR1CKzsT84HiHZtbAQ6dFx8fA/mi2lSipyEL05Cn6Xq1lRq6/q+in4h+Ui+oEJvFx6YIrpA0TGnIf/4QxUiXX0scJ4y1kEXC5Dnin7vO4mQHkZQsKOYed1eQvVz8fhd6QQ8TCR0qvvFGLV5uNQtPXSuuIadq7+Bjsf9MOqNQuRHvYumxYi8s/D4G2r/j95++Pdz97BXEcx+xRYe/8J8X92g6WYb6kq5S+IsH0BqrPJyBPLDMZ+W8l3xWtDtWYbQp6ZTvAd8BuilXVLT+bX6zhpaQVfMcs9an5ss5xdoJDKRLlcDJ1oguiwM40E9YQ8P9plcGrmOhFb57rg1OZ3EfnJO4gI8sQctrw4OwfpFTywSEY470Ea4Cqnr3OVCkqlIkWuyVekYmvQtwjM7ogpzh35Ej03E3OhZH99583EroCZ2LZlHAI7se3jE5HQYGOnPXyXuSJk0ZuI38I+75MlCH+Nv281Tl0pYH/zEXuqjAXBJghcsURKD/VhAezDMhxpqHBvM0qh2PM9Yl8eh13z3NDX0kwsN4Ol4xB49+kq5ut24xUjISISfh/JrQleHx3CkSztgS1SHMKy89lIO6ZtidZvGefvdxwJv15GsGg95++h21LN30PbGl6u915eHx3A+ktNNeNWQZlYiPETR2MCMnEuSyyW8FYj9l1yM3Bk+26MZ+/HW9aDFTlyxeXXH7F+yy+IRQFC1u6D39qvNRWQqlwF21/td9bsb7PbqHsAdD6nQXeg+Mc+LD2qrUTp9gDUPUYNd6/qLzP0XCh0vtv4oGNQlJTr9RQs3XNZJ8iXt0ku4edPbLM6Uu83wDW97+TZeoA+w/uhPO6XepW3tPhMOHg5o4+Y5/Tzo1aV8hgGb1Y3KnByj4Xf2Xwxz2SdwRtrL8ifU5ON6NAD2h4q6bcmrcU0NMyl6aEvVey9l/L8pnmPUiQfPYTXG/ytM6wSeXLPAZHvd2Nlgz1yjTGD9csuGI8y3PxVXtLQcam/jO3Tsa81eWn8alb26WcVif53eYi8Syz/iTJW6j081ljjCiGPXzvt1u8MN29v9O0sZk1NWLZnOligJ1tWfKeUFUnA+OHOck3d0hleDuzvwxJk8UKhszPGu/ZASOBsBI6sH5yqM7BFJxaRyq/Qszv/W4a0XGlBfT1GwPflnmKGFUNi3/rasgCtpgRpUixkA1dRYrsMsZH+xt4oaLsFRsU1nEuzgv/E/mKBoSzQZ+JYhG+RWxTiV9ji3PZYvS7t2JgLUAycgsjP+DrzsBBpCL6kc8FigVzgkWosDFyCePEein9cQEID41qrlLHwv2GPbdJ7sXVDpmPVcFuR2gBVMqKVNpgwhP1ufDohOjFDJKj9hpB/XEffxQsRy1tEQoYBRy/gFP9tvTgaG5cNhCvsEMgrRp/MhDf/EapYILY5B67vLpb3IcgNxXuOI9qAbVwWz5a+Y/pn4+F66VusPN9QYF2B5MPfItRyFMJm9ZfzA7tY+UdUY8rH2s+sivgaW1MbuLI1waBzcRhYuI6nL0b48HL4Bx1GeI0nwqRtpmFqiRI7f9YdA1yAVQf4+ePp7yLarzOit+v0JDymfSdPkONAVumvU3mrScEpRQ9MdayWKvjNMRtghznZhchS59usTER3YmWyMlMTsBblsmjL1Rm8CIdpD3i+8Yb4LbLfzRQgkAWQrRp3WaJA4PYS+K5g+a2HvCjt6DGE1LiJ91+Mjc458DuSIspoXhn/FrHO4+V8/9lszK24yPKjbl5oykNW4bqOWIve8B4oFhmA71PADRtsFOXlqTVj4aq+9qnV/S6/xmP9URMEBMnbpH82DyvH2cvlAiFPAd0QxS/KRxMRwV55TXWDC/tbVFItpfCgVcb+mvK/1SiSLn4suJ03E76OdXO4rO8AK/AwM2JPFNZHnEJwcAxWtaRvlxUUW0+yfehgg7keLDhVldbvGu4g/paUtt1xWOyiEdvdFi4t7qszg/WLttqC0tERng/LkadpvWAc+8F3iHpYgAW8R9ohPjVH71jNmeINB+m8Mo4vwdeWVQIaqTwUo1a8Yky7wrLhUy/J+/k6FCNd4Mne29q1H1wUv9QLel0nesLTUpzEzm6Y4vEAyU3cgFXELrZZU8di6ovqbYZgyshqRF9p/MKWdykNsSM92O9UfRzsMXXBQJSfSmbhob48xTGsyu2HbfMGieNahYS4W+g51YtdrLSfuXBeD4SfT2nZb86Ac+E3g50L6VUH9B3pxM4nCzo0F0N7eI18AZE39L+r7vmzHDIRq1zLWKWAt44+xn0nT5A9xk98Qa/yVpWaiVMi7xikcz94OmvzbR6rrPed6Ibxd/KlXjDe65Gu/A2eLIiVWcBBkx/Y76ZPD7hmN1C+NodVrHduzsTgZW9gqghMeYu+QtEVq2YNEcMPOsBhZD+MT8yEkuf/khQcuTMQq9jvWmYBT29HFMddb/zzs9PgzVsupWkPAs5bIHDNJOk6ZRAW7EfHdUTgYm1eMbO00A8yG/wu/GonT7LOsG6q0CPkMWvnwWkFbp5ltcr4ajgMeAkbJ6oLjUdj+fIUhL/2AvrgASIv5+Lmi67YOoKnmMCMFRBpx3jXq3qK1Q8UVCnYujkNp9ARK5dNhOdzXR7USi3UuqQuKU1h3NgNPuW4eek4AjXHMB6RIkXD0QbW4qWExygPqkULBvcCHHQKYrkCUouqBlpOzVzHIsI2B378xrZjybipeihSGpLPAqNq+I8cJM9aDsL4PoU4qdQPPF1tta3kEva7KH7QeBt4Xu5vSIg5oXNsdsI3rhYJJU0EtKyS5eqo9yWBF+3g9aAEN3UC+bzE41h5BFjJL2BiGT/GRbzBqc5+mrH3G59WiJti3iAtPResUmjR3UJ/m3rqnj8zODh3QkIu/0U9xn0nT5TlEGedylspFHEl8FPnHYP0RN8+QEIW7w1geU9hAu8BbnD1KIPiBv+F5SPthhVbpg7HxM2X6rJj+3WDWmj11JQiOux7RLuOwrsDdQrokkIoHxbCb4U2jw7+WMnKpgq5UaOkFLF3r8td+uppyy2k32W/V/kd6qs75nQqELG2BU8qkBo2WEBepxjQaOy7vOiJDVMqsD5wN1ZGKJBc0njZRMiT0I6DUzkw9Yv5DQ7DXRGxYrTmwmzdo25XfS3LxPxvR1Z7lBY0wwIub/wJ34quo12LnVB9gy9/AX1tgSp2YU64q54qtBdpHpgGX0T4g04IXDFbW1hYdtUJGgR1fNSja9u9SeDFHphy947emCx+44NUEAfxsVUNSzv6NfwUXREgdWHzyUsaM/zkdIWn3wLEfjIWE3ANG9YexPqfGxnrm5WC/XdrEbJFfQGKQgA795HxLRlb1rDxc98UFymdaV5LLuQNi83qCD8fts97dMfuPWOWJiy3tdDDWvQ0FS2lpG2wdIOvayEUqawULElBtKofJugONjWAy3AbKFOzoSrJxDk4wfNFedjTKbYMWdk45WiPwVJRyoLf0G+w9YELQtRlxwo+HKaF8kqQN3IgvC9d1NywqmWHI3XzaNiftC2SesGmepoON5HcNDNY9hkLP4/fEJlo6FCAZjT6XTqj77g5+HbLNPj1KUV40H4sPZatU6Ek5Mlqp8GpTmDqMQrhfx6hF/w5OPeQuuVjU3PlzKjKRjzvd+nAgsTGaqBNULGMv/Uuq+O7OEtjfdzmNVAwaQLTFxDy8Uws7KNTizW140OmmBKki+6rtNRC6a8X21e9Lpq2xHIIpgwow5Emby6qqxg3s6p1uoGZilZ0y7WGpRO835jDLmh2UMalNRDIie7kmdN0zi+bto+Cf9Z1xIqbGFrD2rYTlC0cX+zg+AKUfLydrl8LEN+pB/rq/I79Zk3C1FkTEYhfEKJQn4uebHtAeUc/CK/iQzFcbNBXzNdTU//pFU/Gb0jX+9mU4+b1apZP+Bdr5b6TZ8AMrh42iI5LRrKSBT9eA+tXxJvTxxlT0gqRcCMfeWJsqdmQfphyiQWr/Pffx0m0wt9BWtoL8Juo7nZnVBXNlB3VqK5bq3TuhwDvsVj15x44tecsktWVa8uu6NuhVL4voSGWFvBi+6MZH/sIVCpth3td1Q900qSGjTpDnnQ19l3UTG3h5j0dYZ+4wvq7lHrDgQh5UtplcFqkkANT6dKVlYgATffwPhzhg/MHDoM/H5Z0JQFv8OVBSkSzWVdvNwPHQmUgOvQ49h8+Jt0t7HmgBMUdXkDgvBENt3LWZGAnD0zL2WXVtBrR/4jS7I/fPy6zIKgnvH34ONZqbNi8my3fjYC4WhYsW2Hhy49nKMKz0RUTFrjALCYGgceuIa9G3Rz8EFUPdMZ46rGANYs/ElLVz0AtR0LMdcQ/wQazqhJ20dPZt7wsdj7rjtviaq7jXKIV5tY9J6bDMMW7GvvjdR5F1pROHdm51r+gOLw8EOOViQjVabGtUuUgT33hbGAbPt51/KVEHNGMZc3HyQPXYTFFHlutzxZTF7OlR2M1XYZuI3ujOCYeihLx3StS2W+6BP7jhonfMTsXtr/hlFLdilMujd8+9ZQaL6NPKth5kV+rUi8g9IYNpoqxrc3vOzEWZq4vwT/3F2w41bF+3jGEVHkvRbTiAXw9pFo8W+YM7wElbNlvmDJcLOO/1+6/QZkl8kMNyw8nc9mvVk0uW05dUvdysLx+XoHQRro8zIaMxwbXEoTEXJMrjVI+r8XWAxd0eoNY8PvrHTn9RTcsHFDI0pO1FduaUtz8tfGhOfoeQpV1ARGJHTXf09KyM3omXtfeff8r219+v4Ka6UD4elUj/PCPmrxSpboDVZ0Aud53YevcVGmrwqrcQqRZdKa8Q56adhmc8vF76ku8UtO9Lk9ypnXGwjVeCBxggmq+vMYEU3y8ED5LXcg1pxZFaQUIiS+UnnXqO8IVp0J0unbqUhVAPSSxWK/Ln02ihmz58nREzLWBl2ktW84CN1sbbP14unxXdlvWwxvb1nnBNTcBKz/aI7rC9+CNf2TD0kPd4qHLDJ4zXNH3yrfSul4fHcfNkROxYYBIfgKqSlIQula7byuv2CJ8Qf1nLqoSU3HKY0iD58TFqx96XrpmWMtDZze8O9MEofwxScvFg8otR2BjoBss4mLkx0KxyS80AWnqi1Kj2wyB6nCUeJRULJQjX8e2cY08aYCdi1WzgJAw8didPpMQ/m5XnAuTv7vXumSY+c3EqiHqVn35EWgO8fJYWH4ulK5jEfhUnkf7AgJ8gP0h8rHwPVoLv491xmg3u+/EePSH50ggfUjDead5PeHmWovY3B6ap5nwQHOwqwli82zgpllmjymL+6H4yGHpNzE+JAGW8/4AP/VDVXjZMncc5t65iCksffDyw9hvOhohbN8a1hluM0axSuP32KqUM6LLrJkIZ0FecKD8u/T6KAqh8aWix6MrvAOmIaBDKvzUj3Vaexz7s5sITuvcEDXnQAk8//wGForvxB+LGO5VjvXi85aeAvwXO7IjomYGl3lvYMOLOax8ldeZEpwg36Clp853qcjG/u0HNWXNHJa/Alb8gXodyFPzu/8w4nWrlZcbWvMjhJBHxZ9zmgiHoCYqfIQQQp45Cwvt0zFaop3frU8IIYQQQowJBaeEEEIIIcRoULc+IYQQQgh57KhbnxBCCCGEtHkUnBJCCCGEEKNBwSkhhBBCCDEaFJwSQgghhBCjQcEpIYQQQggxGo/lbn1CCCGEEEIeB2o5JYQQQgghRoOCU0IIIYQQYjQoOCWEEEIIIUaDglNCCCGEEGIkgP8HpuFnDhKKTcsAAAAASUVORK5CYII=)"
      ]
    },
    {
      "cell_type": "markdown",
      "metadata": {
        "id": "7SvTUD2fDVro"
      },
      "source": [
        "##Entendiendo el modelo"
      ]
    },
    {
      "cell_type": "markdown",
      "metadata": {
        "id": "2-x0C1aD7bPa"
      },
      "source": [
        "Para concluir, también deseamos abordar algunos **casos particulares** que se presentaron en los posicionamientos generados por el modelo, los cuales se mostraron anteriormente. Estos casos involucran a jugadores que fueron incluidos entre los cinco principales votados cuando, en realidad, no estuvieron allí, y a jugadores que no fueron incluidos pero que sí estaban presentes (en 2022 y 2023). Específicamente, estos jugadores son:\n",
        "\n",
        "*   **LeBron James** - **Devin Booker** (2022)\n",
        "*   **Luka Dončić** - **Jayson Tatum** (2023)"
      ]
    },
    {
      "cell_type": "markdown",
      "metadata": {
        "id": "bSArVTlB-_cY"
      },
      "source": [
        "En el caso de **LeBron James**, tenemos que según nuestro modelo en la temporada 2022 este mismo ocupaba la quinta posición del podio, cosa que realmente no fue así (se puede verificar su posición real [aquí](https://es.wikipedia.org/wiki/Anexo:Votaci%C3%B3n_del_MVP_de_la_NBA_2021-22)). A continuación mostramos una imagen del podio real para ganar el premio:"
      ]
    },
    {
      "cell_type": "markdown",
      "metadata": {
        "id": "wLUtIKGg_h0S"
      },
      "source": [
        "![podio_2022.png](data:image/png;base64,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)"
      ]
    },
    {
      "cell_type": "markdown",
      "metadata": {
        "id": "NDUKAApa_nza"
      },
      "source": [
        "Observamos que en la posición que solía ocupar **LeBron James**, se encuentra **Luka Dončić**, a quien nuestro modelo colocó en la cuarta posición. También observamos el caso de **Devin Booker**, quien **no estaba** en el podio predicho por nuestro modelo. Esto sugiere que, aunque nuestro modelo identifica correctamente al ganador del premio, enfrenta desafíos al posicionar jugadores en **lugares inferiores**."
      ]
    },
    {
      "cell_type": "markdown",
      "metadata": {
        "id": "w05sMhk1ihHj"
      },
      "source": [
        "Si observamos donde quedó **Devin Booker** según nuestro modelo para esta temporada, nos daremos cuenta que obtuvo una posición bastante baja:"
      ]
    },
    {
      "cell_type": "code",
      "execution_count": null,
      "metadata": {
        "colab": {
          "base_uri": "https://localhost:8080/",
          "height": 394
        },
        "id": "xqDxhQ2Bi4XG",
        "outputId": "2cfea417-4763-4ba4-8271-48e9caae32d3"
      },
      "outputs": [
        {
          "data": {
            "text/html": [
              "\n",
              "  <div id=\"df-4f0ee69d-8876-4273-b816-d7bb5fbfdac0\" class=\"colab-df-container\">\n",
              "    <div>\n",
              "<style scoped>\n",
              "    .dataframe tbody tr th:only-of-type {\n",
              "        vertical-align: middle;\n",
              "    }\n",
              "\n",
              "    .dataframe tbody tr th {\n",
              "        vertical-align: top;\n",
              "    }\n",
              "\n",
              "    .dataframe thead th {\n",
              "        text-align: right;\n",
              "    }\n",
              "</style>\n",
              "<table border=\"1\" class=\"dataframe\">\n",
              "  <thead>\n",
              "    <tr style=\"text-align: right;\">\n",
              "      <th></th>\n",
              "      <th>season</th>\n",
              "      <th>player</th>\n",
              "      <th>mvp_share</th>\n",
              "      <th>y_pred</th>\n",
              "    </tr>\n",
              "  </thead>\n",
              "  <tbody>\n",
              "    <tr>\n",
              "      <th>1279</th>\n",
              "      <td>2022</td>\n",
              "      <td>Nikola Jokić</td>\n",
              "      <td>0.875</td>\n",
              "      <td>0.623029</td>\n",
              "    </tr>\n",
              "    <tr>\n",
              "      <th>950</th>\n",
              "      <td>2022</td>\n",
              "      <td>Giannis Antetokounmpo</td>\n",
              "      <td>0.595</td>\n",
              "      <td>0.420878</td>\n",
              "    </tr>\n",
              "    <tr>\n",
              "      <th>1065</th>\n",
              "      <td>2022</td>\n",
              "      <td>Joel Embiid</td>\n",
              "      <td>0.706</td>\n",
              "      <td>0.415259</td>\n",
              "    </tr>\n",
              "    <tr>\n",
              "      <th>1190</th>\n",
              "      <td>2022</td>\n",
              "      <td>Luka Dončić</td>\n",
              "      <td>0.146</td>\n",
              "      <td>0.180019</td>\n",
              "    </tr>\n",
              "    <tr>\n",
              "      <th>1182</th>\n",
              "      <td>2022</td>\n",
              "      <td>LeBron James</td>\n",
              "      <td>0.001</td>\n",
              "      <td>0.159342</td>\n",
              "    </tr>\n",
              "    <tr>\n",
              "      <th>1142</th>\n",
              "      <td>2022</td>\n",
              "      <td>Kevin Durant</td>\n",
              "      <td>0.001</td>\n",
              "      <td>0.106944</td>\n",
              "    </tr>\n",
              "    <tr>\n",
              "      <th>1042</th>\n",
              "      <td>2022</td>\n",
              "      <td>Jayson Tatum</td>\n",
              "      <td>0.043</td>\n",
              "      <td>0.093382</td>\n",
              "    </tr>\n",
              "    <tr>\n",
              "      <th>862</th>\n",
              "      <td>2022</td>\n",
              "      <td>DeMar DeRozan</td>\n",
              "      <td>0.001</td>\n",
              "      <td>0.074983</td>\n",
              "    </tr>\n",
              "    <tr>\n",
              "      <th>991</th>\n",
              "      <td>2022</td>\n",
              "      <td>Ja Morant</td>\n",
              "      <td>0.010</td>\n",
              "      <td>0.070860</td>\n",
              "    </tr>\n",
              "    <tr>\n",
              "      <th>1380</th>\n",
              "      <td>2022</td>\n",
              "      <td>Stephen Curry</td>\n",
              "      <td>0.004</td>\n",
              "      <td>0.028726</td>\n",
              "    </tr>\n",
              "    <tr>\n",
              "      <th>882</th>\n",
              "      <td>2022</td>\n",
              "      <td>Devin Booker</td>\n",
              "      <td>0.216</td>\n",
              "      <td>0.024937</td>\n",
              "    </tr>\n",
              "  </tbody>\n",
              "</table>\n",
              "</div>\n",
              "    <div class=\"colab-df-buttons\">\n",
              "\n",
              "  <div class=\"colab-df-container\">\n",
              "    <button class=\"colab-df-convert\" onclick=\"convertToInteractive('df-4f0ee69d-8876-4273-b816-d7bb5fbfdac0')\"\n",
              "            title=\"Convert this dataframe to an interactive table.\"\n",
              "            style=\"display:none;\">\n",
              "\n",
              "  <svg xmlns=\"http://www.w3.org/2000/svg\" height=\"24px\" viewBox=\"0 -960 960 960\">\n",
              "    <path d=\"M120-120v-720h720v720H120Zm60-500h600v-160H180v160Zm220 220h160v-160H400v160Zm0 220h160v-160H400v160ZM180-400h160v-160H180v160Zm440 0h160v-160H620v160ZM180-180h160v-160H180v160Zm440 0h160v-160H620v160Z\"/>\n",
              "  </svg>\n",
              "    </button>\n",
              "\n",
              "  <style>\n",
              "    .colab-df-container {\n",
              "      display:flex;\n",
              "      gap: 12px;\n",
              "    }\n",
              "\n",
              "    .colab-df-convert {\n",
              "      background-color: #E8F0FE;\n",
              "      border: none;\n",
              "      border-radius: 50%;\n",
              "      cursor: pointer;\n",
              "      display: none;\n",
              "      fill: #1967D2;\n",
              "      height: 32px;\n",
              "      padding: 0 0 0 0;\n",
              "      width: 32px;\n",
              "    }\n",
              "\n",
              "    .colab-df-convert:hover {\n",
              "      background-color: #E2EBFA;\n",
              "      box-shadow: 0px 1px 2px rgba(60, 64, 67, 0.3), 0px 1px 3px 1px rgba(60, 64, 67, 0.15);\n",
              "      fill: #174EA6;\n",
              "    }\n",
              "\n",
              "    .colab-df-buttons div {\n",
              "      margin-bottom: 4px;\n",
              "    }\n",
              "\n",
              "    [theme=dark] .colab-df-convert {\n",
              "      background-color: #3B4455;\n",
              "      fill: #D2E3FC;\n",
              "    }\n",
              "\n",
              "    [theme=dark] .colab-df-convert:hover {\n",
              "      background-color: #434B5C;\n",
              "      box-shadow: 0px 1px 3px 1px rgba(0, 0, 0, 0.15);\n",
              "      filter: drop-shadow(0px 1px 2px rgba(0, 0, 0, 0.3));\n",
              "      fill: #FFFFFF;\n",
              "    }\n",
              "  </style>\n",
              "\n",
              "    <script>\n",
              "      const buttonEl =\n",
              "        document.querySelector('#df-4f0ee69d-8876-4273-b816-d7bb5fbfdac0 button.colab-df-convert');\n",
              "      buttonEl.style.display =\n",
              "        google.colab.kernel.accessAllowed ? 'block' : 'none';\n",
              "\n",
              "      async function convertToInteractive(key) {\n",
              "        const element = document.querySelector('#df-4f0ee69d-8876-4273-b816-d7bb5fbfdac0');\n",
              "        const dataTable =\n",
              "          await google.colab.kernel.invokeFunction('convertToInteractive',\n",
              "                                                    [key], {});\n",
              "        if (!dataTable) return;\n",
              "\n",
              "        const docLinkHtml = 'Like what you see? Visit the ' +\n",
              "          '<a target=\"_blank\" href=https://colab.research.google.com/notebooks/data_table.ipynb>data table notebook</a>'\n",
              "          + ' to learn more about interactive tables.';\n",
              "        element.innerHTML = '';\n",
              "        dataTable['output_type'] = 'display_data';\n",
              "        await google.colab.output.renderOutput(dataTable, element);\n",
              "        const docLink = document.createElement('div');\n",
              "        docLink.innerHTML = docLinkHtml;\n",
              "        element.appendChild(docLink);\n",
              "      }\n",
              "    </script>\n",
              "  </div>\n",
              "\n",
              "\n",
              "<div id=\"df-61b69cca-6d58-4c87-b0e3-1c1868c568be\">\n",
              "  <button class=\"colab-df-quickchart\" onclick=\"quickchart('df-61b69cca-6d58-4c87-b0e3-1c1868c568be')\"\n",
              "            title=\"Suggest charts\"\n",
              "            style=\"display:none;\">\n",
              "\n",
              "<svg xmlns=\"http://www.w3.org/2000/svg\" height=\"24px\"viewBox=\"0 0 24 24\"\n",
              "     width=\"24px\">\n",
              "    <g>\n",
              "        <path d=\"M19 3H5c-1.1 0-2 .9-2 2v14c0 1.1.9 2 2 2h14c1.1 0 2-.9 2-2V5c0-1.1-.9-2-2-2zM9 17H7v-7h2v7zm4 0h-2V7h2v10zm4 0h-2v-4h2v4z\"/>\n",
              "    </g>\n",
              "</svg>\n",
              "  </button>\n",
              "\n",
              "<style>\n",
              "  .colab-df-quickchart {\n",
              "      --bg-color: #E8F0FE;\n",
              "      --fill-color: #1967D2;\n",
              "      --hover-bg-color: #E2EBFA;\n",
              "      --hover-fill-color: #174EA6;\n",
              "      --disabled-fill-color: #AAA;\n",
              "      --disabled-bg-color: #DDD;\n",
              "  }\n",
              "\n",
              "  [theme=dark] .colab-df-quickchart {\n",
              "      --bg-color: #3B4455;\n",
              "      --fill-color: #D2E3FC;\n",
              "      --hover-bg-color: #434B5C;\n",
              "      --hover-fill-color: #FFFFFF;\n",
              "      --disabled-bg-color: #3B4455;\n",
              "      --disabled-fill-color: #666;\n",
              "  }\n",
              "\n",
              "  .colab-df-quickchart {\n",
              "    background-color: var(--bg-color);\n",
              "    border: none;\n",
              "    border-radius: 50%;\n",
              "    cursor: pointer;\n",
              "    display: none;\n",
              "    fill: var(--fill-color);\n",
              "    height: 32px;\n",
              "    padding: 0;\n",
              "    width: 32px;\n",
              "  }\n",
              "\n",
              "  .colab-df-quickchart:hover {\n",
              "    background-color: var(--hover-bg-color);\n",
              "    box-shadow: 0 1px 2px rgba(60, 64, 67, 0.3), 0 1px 3px 1px rgba(60, 64, 67, 0.15);\n",
              "    fill: var(--button-hover-fill-color);\n",
              "  }\n",
              "\n",
              "  .colab-df-quickchart-complete:disabled,\n",
              "  .colab-df-quickchart-complete:disabled:hover {\n",
              "    background-color: var(--disabled-bg-color);\n",
              "    fill: var(--disabled-fill-color);\n",
              "    box-shadow: none;\n",
              "  }\n",
              "\n",
              "  .colab-df-spinner {\n",
              "    border: 2px solid var(--fill-color);\n",
              "    border-color: transparent;\n",
              "    border-bottom-color: var(--fill-color);\n",
              "    animation:\n",
              "      spin 1s steps(1) infinite;\n",
              "  }\n",
              "\n",
              "  @keyframes spin {\n",
              "    0% {\n",
              "      border-color: transparent;\n",
              "      border-bottom-color: var(--fill-color);\n",
              "      border-left-color: var(--fill-color);\n",
              "    }\n",
              "    20% {\n",
              "      border-color: transparent;\n",
              "      border-left-color: var(--fill-color);\n",
              "      border-top-color: var(--fill-color);\n",
              "    }\n",
              "    30% {\n",
              "      border-color: transparent;\n",
              "      border-left-color: var(--fill-color);\n",
              "      border-top-color: var(--fill-color);\n",
              "      border-right-color: var(--fill-color);\n",
              "    }\n",
              "    40% {\n",
              "      border-color: transparent;\n",
              "      border-right-color: var(--fill-color);\n",
              "      border-top-color: var(--fill-color);\n",
              "    }\n",
              "    60% {\n",
              "      border-color: transparent;\n",
              "      border-right-color: var(--fill-color);\n",
              "    }\n",
              "    80% {\n",
              "      border-color: transparent;\n",
              "      border-right-color: var(--fill-color);\n",
              "      border-bottom-color: var(--fill-color);\n",
              "    }\n",
              "    90% {\n",
              "      border-color: transparent;\n",
              "      border-bottom-color: var(--fill-color);\n",
              "    }\n",
              "  }\n",
              "</style>\n",
              "\n",
              "  <script>\n",
              "    async function quickchart(key) {\n",
              "      const quickchartButtonEl =\n",
              "        document.querySelector('#' + key + ' button');\n",
              "      quickchartButtonEl.disabled = true;  // To prevent multiple clicks.\n",
              "      quickchartButtonEl.classList.add('colab-df-spinner');\n",
              "      try {\n",
              "        const charts = await google.colab.kernel.invokeFunction(\n",
              "            'suggestCharts', [key], {});\n",
              "      } catch (error) {\n",
              "        console.error('Error during call to suggestCharts:', error);\n",
              "      }\n",
              "      quickchartButtonEl.classList.remove('colab-df-spinner');\n",
              "      quickchartButtonEl.classList.add('colab-df-quickchart-complete');\n",
              "    }\n",
              "    (() => {\n",
              "      let quickchartButtonEl =\n",
              "        document.querySelector('#df-61b69cca-6d58-4c87-b0e3-1c1868c568be button');\n",
              "      quickchartButtonEl.style.display =\n",
              "        google.colab.kernel.accessAllowed ? 'block' : 'none';\n",
              "    })();\n",
              "  </script>\n",
              "</div>\n",
              "    </div>\n",
              "  </div>\n"
            ],
            "text/plain": [
              "      season                 player  mvp_share    y_pred\n",
              "1279    2022           Nikola Jokić      0.875  0.623029\n",
              "950     2022  Giannis Antetokounmpo      0.595  0.420878\n",
              "1065    2022            Joel Embiid      0.706  0.415259\n",
              "1190    2022            Luka Dončić      0.146  0.180019\n",
              "1182    2022           LeBron James      0.001  0.159342\n",
              "1142    2022           Kevin Durant      0.001  0.106944\n",
              "1042    2022           Jayson Tatum      0.043  0.093382\n",
              "862     2022          DeMar DeRozan      0.001  0.074983\n",
              "991     2022              Ja Morant      0.010  0.070860\n",
              "1380    2022          Stephen Curry      0.004  0.028726\n",
              "882     2022           Devin Booker      0.216  0.024937"
            ]
          },
          "execution_count": 38,
          "metadata": {},
          "output_type": "execute_result"
        }
      ],
      "source": [
        "mostrar_podio_MVP(temporada = 2022, y_pred = y_test_pred, df_base = df_data_jugadores_test, cant_jugadores = 11)"
      ]
    },
    {
      "cell_type": "markdown",
      "metadata": {
        "id": "oucfD4IkmqsO"
      },
      "source": [
        "Una posible explicación para esta situación sería lo contrario a lo que ocurre con otros jugadores que se encuentran en equipos menos destacados: **Devin Booker** estuvo rodeado de más estrellas, por lo tanto, no lideró las estadísticas de su equipo. Con esto, comenzamos a observar cómo la situación del equipo **influyó considerablemente** en la votación."
      ]
    },
    {
      "cell_type": "markdown",
      "metadata": {
        "id": "QEv2zu62ifDz"
      },
      "source": [
        "Al retroceder un poco hacia **LeBron James**, nos planteamos la pregunta de **por qué el modelo lo situó en esa posición**. Este resultado no fue aleatorio; tiene sus raíces en un aspecto que mencionamos al inicio de nuestro proyecto al definir nuestros objetivos: el intento de descubrir **qué significa realmente ser el jugador más valioso** para un equipo. Resulta que en ese año, **LeBron James** jugaba para los **Los Angeles Lakers**, siendo el **jugador más determinante** de la plantilla y liderando su equipo en prácticamente todas las estadísticas. A continuación, presentamos una imagen que muestra a los líderes ofensivos de la NBA para el año 2022:"
      ]
    },
    {
      "cell_type": "markdown",
      "metadata": {
        "id": "ABA2GW6PDKiY"
      },
      "source": [
        "![ofensiva_2022.png](data:image/png;base64,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)"
      ]
    },
    {
      "cell_type": "markdown",
      "metadata": {
        "id": "LJautcKsDuNC"
      },
      "source": [
        "Aunque la faceta ofensiva representa solo uno de los numerosos aspectos en el juego del baloncesto, es innegable que los partidos se ganan al anotar puntos, y en la temporada 2022, **LeBron James** se destacó en esta habilidad, convirtiéndolo en el **jugador más valioso** para su equipo. Sin embargo, la razón por la cual no recibió tantos votos está vinculada a consideraciones narrativas y a la percepción de **LeBron James** como un jugador de avanzada edad para los estándares de la liga (38 años en ese momento). Esto subraya la **subjetividad** inherente a este premio, demostrando que en algunos casos no solo las estadísticas son determinantes."
      ]
    },
    {
      "cell_type": "markdown",
      "metadata": {
        "id": "7inlC70MIKW7"
      },
      "source": [
        "Luego está el caso de **Luka Dončić** que según nuestro modelo en la temporada 2023 este último ocupaba la tercera posición del podio, cosa que realmente no fue así (se puede ver su posición real [aquí](https://es.wikipedia.org/wiki/Anexo:Votaci%C3%B3n_del_MVP_de_la_NBA_2022-23)). A continuación mostramos una imagen del podio real para ganar el premio:"
      ]
    },
    {
      "cell_type": "markdown",
      "metadata": {
        "id": "Ha05Lxw_Im68"
      },
      "source": [
        "![podio_2023.png](data:image/png;base64,iVBORw0KGgoAAAANSUhEUgAAAWQAAADNCAYAAACPfwqyAAAAAXNSR0IArs4c6QAAAARnQU1BAACxjwv8YQUAAAAJcEhZcwAADsMAAA7DAcdvqGQAAABhaVRYdFNuaXBNZXRhZGF0YQAAAAAAeyJjbGlwUG9pbnRzIjpbeyJ4IjowLCJ5IjowfSx7IngiOjM1NiwieSI6MH0seyJ4IjozNTYsInkiOjIwNX0seyJ4IjowLCJ5IjoyMDV9XX3FlM9DAAAvPklEQVR4Xu2dXWhV1/run7+IBMmFmJhQW/wCZRdMKBta465yLqruo3s3Hm8klJKKNXpRa8H2Jo11W7cxN63Q1l5o3NLmFAm58bhs9Wy1F39Mt0kLJSRCg0JipFXyJV6IBJGcMz7nHHOuuVbWV7JmkucHM5lzzbnm5zue8Y53jLne//p/AoT43x0JM0cIIWSmSCnI//ON/2GWpp//++N/z+jxCCEkLrj6t0D9JYQQUnQoyIQQEhMoyIQQEhMoyIQQEhMoyIQQEhMoyIQQEhMoyIQQEhMoyIQQEhMoyCQejCVw6NU/4zVnOtVn1k0bvTglj3UogXG5aM/BLicxhu8PyXP7DJmfmvzOe/h+zCwSkgYKMik+fZ/hte3H0GUWLe17/4xDl2dQycpr8eUvv+LnL2tRZj7KDynG23D8llkkZAooyKTICC917wU1V3deiKEURDFdPbpRfdZ1/BvPGx2//F7Ag3Y9Wbvu0OWE9nrVlOyZ9n1u10V44BEesnvMQ5cfmE9djJftTHq/rhjfwvHtTuUSbg183qs/J/MeCjIpLn3X0C7/132Dw1XqE0XZm5/i6MaNOHr1I6iPhRe9Pexq3jqGT0MedNfxY3p/CiGEx4Pi+q6/Unjge5xtIwgds+v4npC3K0U3eR/te9OENKQYh1sD7XvShEnIfIKCTIrK+L1B9b9uW7X671OOv3/5Nf5ebharPvK8ZzWdf0t93HUn5LVuPIarcv3VY6iRy7fuQG/Ri2+NmnqeuNlHNEJsW7XnXnP0mt7e7tNDnqPZl5quiUpEfj6IoTG5zi7LiuVXfPlmOfq+1WLs7dN+R1Qu32YemCZzFAoyiQX37mUYK7bNfRPmCFOz9S86/lv+F2zTUQ/N2D3ck/+FYL9jPfGqbagzs8k8wB2l32+hQQipIrxPBx0KmSpe3Ivryp129ilFvUFXDBnfAzJnoSCTolK2arX6n+TpqnCAE+eVHX9SiL9dpTve0nq3M4U+RxmrHnrH9ZBTsRzr0q4n8x0KMiku1ktt3xPoZBu//A/lbbbv1R1zfddMx58JbdhQR8aUr8Iq+d8JDYxfPpMmhmzF8wJabZy675ugBzz2H1yTyxv/io3K4bVedSrKsXKl/O/s0wmNrFplvWYyX6EgkyJTjXeMWymHudmRB7Yzrebop34cWWC3Sergm5Lk46Tfhx9K6Dq+TZ9XijCJFPnt6rxTdRLqURZyNEXVOzoO7e3ThjncUAqZt1CQSdEpe/PriA4z3fkmO8IkVR9+48R7ZSeZCQ+0X8v4JQ15nH85QeOao8fSxJAFVR95w+8UdceCIYnyWvwjsP4bE0q5JTxn6QH7ou4hxzqHr1V+r2Bjn8lshimcCCGkiDCFEyGExBAKMiGExAQKMiGExIQCCbJ5n1+9k2/GZvL9fEIIyYrCCLJ5C0qPEdVjMWvWLVerCCGEZEZhBPnhHXRhI9a9IObNj8VwkDshhGRHfoJsX2dVA+bN4HczeN6+YUUIISQz8hNk9QtcZoC++ZUtNfBezTu/1EUIIWRKCvBiiOzQ24N7R6/hyzcfqPl2+ebRh+GfU0yNHBhNCCHznfwEWYYsUr3fr15vzcxL5pt6ZDYyF+yWZa/4FO5NPRmyUO/u6x/gDswzZEEIIVmR9ygL/bOIq7FSiK/+SUQ9TwghJDvyFOQxDA2Jf3XbUCXmb12/JRzkdeAIZEIIyZ48BdnkFFMdeGaePyNICCE5kXfIghBCSGGgIBNCSEygIBNCSEygIBNCSEygIMcCP518UX//w/w2ySEvIzLJD/OztCmm1PfZfO9QAuPmk+yw9vRZxvkGp5u+z4PXHphyvs4IxhI4VOh9ziAUZELI3EEmkf1l9o72oiDHEutZOR5OhPc6fvk9z8s41RflFSV7aKcCLpO7PoU3ZT0OOwUSD/jnecp6QExMEMFb+JcUidBkM2pLXA8y+Iw07rNWU8gDdNcfuvzAfBo/ZCbx8H0IiGfA3j7D9+a67D2x98m/R6HWRNhDdpa/d+5xUuvE/nJlqvUzBAV5tiIMaPvxW2ZB/tzpP3DNzGukQO9Rv03t0r7XCm94/QW8G/5dEmnM24+hyywq2vdENAcvoN3sSCcpINkgxfRd50G17w09t9CzVtw6hk+taITWdx3fg/DmswMhrgF7u4DjhboQcb+OOze16/g2X9SlGIdsX64vhnNBQZ6VCDFt1QZUc/Sa9jLOr0ZXwHbNizqeJ2J+JhWDGJLluO8bU2h97039dKpD37e6cHjHsPsQxv1tyIuzns/hKvMBcRCVneN96cn2F/TiWyM6nveofhPGQf3MrVnnrO+6Iz3hCFu4egw16pP40b43fB8cb9Qkt7A/5evbbCGwv7HzK66anbZfMynnzP3zvfdvoIpC+xnzjGYOCvKsRKfJkmLaYJu9VXtSGq9u5m0LeE36d0dkId4Dq6FV21wh6MV1VTqcY0iRb9Db3LvnWupb2Eohzg2T/kyK0Dv+g9CCEMY2vwPeXIQtlP8F2womZDOHZ5Nb/2JCGOXYuLVAF1J3wPuxs7I3D+j7O3QP42P/wTV5/9z7j2q8oz0P3HmoP5kpKMjFwMSrsolTWWPNHBmSkEL8HobeycXbWI51s7BQx5OoGHIWv4Zo7OW1b1fpDquwBz2LiIohu7H0rLEV2lRI8TWzAcpXYZWZjQMU5CLSdf0/xkislxP+pTwTXhDiqn64ycOK5QW0es09G4IweDX/X7FR7dMeQ1O2arX633X8Gz+mbJpumnKsXCn/O8dwtmHOxAJhBcEJA41fPhOIIetfVBRiZuLzwco5A1uYJXg26ZULP5wTxrbQxm/9O9jHkQqx3S1ze7z7u3KV8MTN/QuE4exxTZ7QGYSCXAxseEEYwXYVRzOdOOpX8yS2kJk8haFwgxRLGzpQnQ+qGTuIGvWdEOFjWLwQh41vho8hNnlHxyK9Y9htAs07MjVRMWQxqU4j2zz246tJHXiG6PVRtuBWrPEiKobsjfCxoZpUNitYbppt9lpT3atkbFnyv6MrOP/++edmy6Mf5pgpKMhFQXa4mY4Di+zI8NJeifVH3Y4Z0eSN6OixnROyJj969VNsM0uK8lr8w41RyLRaah+3hOcsXYXwOYh9HA0dQ47pDHcQyf3wF/0KStmbXwc6VGvEs3dto+rD0HO6asJP7deMkLm2IKg7lmV4Ki5U47Brb6JM/Ct0IWVvfhq4trrzoXKUCrGvo4F7fM3vgPYSbfioDtIs0tAViv/KP6de/jCNTPbIjjo1VMrLXyjHY8qaXcYrP/I66sj0wRRO048cEig9Whl7zmkEjx26KR2emDoShUvhRIqGbbqpccGBZpYNexBCZhsU5FlKuJmrCIQ9CCGzDQryLKbqw9AQIsZ2yRxDOh7StnN+4WiW/bYFBZkQQmICBZkQQmICBZkQQmICBZkQQmICBZkQQmJCyhdDCCGEzCyxeVNv9//abpYImR10/J+rs95u58I1zHbcZ8CQBSGExAQKMiGExAQKMiGExAQKMiGExAQKMiGExAQKMiGExAQKMiGExAQKMiGExIQCCrJNO28SFhKP8eu38frZB2YpP26f7U25L3Wc98X6qCnH46c7nsxk/YXY9xcyV6cg7bbDAzj8/m1cGTbLJEDPyT/hT3+y00n0mM81PTjprfsT9l0cNZ/PNI9x5Z+OTTnT4euPzTYFtJkpUPb+z4Ho9P4hCrltPuc8FYURZJm3KiJrMSkCVeX46avq5Gn/crNBIVmOD8S+PzBJStbvn67jzG2kGNcNtOBmfz/6xXSzZQB1+y5Cy64U4zq01berdXI6+NvmIooysLshZFtflWNl4n5AlFMTtJnZyHTaef6C3PcZXpNJBLExOg09iUB7CVHehaL3TsD7sN5EIbDeuqrlnf0HvOuk2v+Jc76ul5ve23GPcfjSc/MpCdKDK21A/cFdWGY+WbbrIOo7f0Cn1NyeK2hDPdo/fkWvFLzS0AI0toa86GKyHG/XLkD34FOzLHFtxrXhoM0ESfbAg2XDLTe38d2g+dgjWK5SerGqtXYHt91ylrTtc3znnEu6FoBr59H7ypzCeMgy8/EvoTT0JAXSaMYwVLsi2ruQRtIKnLHex5FSDLUWuKnfN4Yfa/T+E6IgdbT2onZwqXe8DX2PgsfrmwCsV9SwCM0npj4faaQHhkuRUNexAluGJ9Bt1hGXV/Cx8HodvQVGBzFgZhWbXsaLZtZnAIPFc5Knpu8Z1h5xbUwIoFkVjRTj+2iu9Ft48nvdid+NrYXKzZHFGOqbVN/U6PWenQqbaxoeS+O1T+DApYWefcptA0I6Imx+p9lXQ4lzHkGCdq63leUrVycqf0Gu+sikoSeZMH79EToqStG0dYn5RDTh1AMfEQYrjPLShGgSrsN6sxaVa9BUCzRfyrDWFcYQqK3NFDAQcfy3zSMrq16MDcIMmnaaJljlUmypmMRd1/iqyv0mZnUFmsT6G72pDF3yAD/2iabtzjUmj9kS7NgvhF7Nk6noaW1EZ/1B7JIu8ys7hLfciEYnRKHWm/lYIDzO5sQkdtc4zfiqpdhRqWe1jT3D/bSVuLCRT4SgOaEA/T1D7xN0oAR7bblR5cKXL1WuXDs1NgdVrqIQNr/fsc+dUkif+Ns6ZQTVpdiNUJkwqPDFJ3Y/ArVt7hTGQyYZ83BQ1OqVJcGEi5ULjeE9xd0RKI/VFdNaYewZkyKGnD5mtwgrTOGJYsPqxWZOskRtG2yehhDe8JAwrbXuPsU1rzSzJDUqntzmhiiEB31Thig2e516V3a0o96sLQZh+3z9xBNAeK6Figt7IQCxX9uqGh9+JkRyIV4wy5KyykVmzpSrsDPifD+ZkM2rMjhVpZEaP+Q3JiqO3KEgx5DkThMxsbNszuOJcf/HQoYdlu3COdOhJ6ePX5QhjTVYbYPOM0yUfZ7yWny5Y4XYCwHI8JlZlxGRzojT2pwGrBDXJhaZMGM5PeS4IQ0rVezqhdXilgsPMjCkZvi5qckXY20FMDScLhww8wS94cfKiwh6zSGUNxxq4imvmUQziov77EiLkBhHMCo7/CLjyrMZGeZagCYZd3ZDAAblDY88x0OzLFFesyGyXKUl5A2rMpi+pZjMY3R3TZoKqjDCT0GeBqRxdHc9MsahH5oVsLKtS7F75AmaPcF+gC9aJ7ChtkI8UB3LCnYg6J7n1J0TM4DTyTd+/Xc0jzixvEh0r3vHJTuWU1zD2XTNx/lNz8nNaIQQ43P+SAsfPQb5pB1SMXoRjY2dgVEZcwe3Ehflwg05qL6LCZy35cDErS3J5cp4rynHE086/TK670aXwezxHShZVhmyiB1lW19CE56gVsWUdM+x36ST4zD1yAobc5I9x9766nVIyE68E7r5Jr9/o8ZZPxUpOvVel8N8zCbZsqF2Me6a86lNQHgxU3sDZVvX40ylfw/u1rBTLxIhsKfbxP/ORmw2MWI7aRHWMeSBOvP55kag5WZwVMacQHdu+/HpR1h7RDb/bQey7PRzys2J59jidOqp7x+RnXi2XAlb7VqMRIS3rVkg9v3IbBsuo5liOw7tMYWd71whKg6goyu3oW9M4URIjjCF0yxFjkM+8RRbjqz3RoIUE6ZwIoSQGEJBJoSQmEBBJoTMLyrX4NRX8QhXhKEgE0JITKAgE0JITKAgE0JITKAgE0JITKAgE0JITEj5YgghhJCZhW/qEZIjfFOPFAK+qUcIITGEgkwIITGBgkwIITGBgkwIITGBgkwIITGBgkwIITGBgkwIITGBgkxmiAf4Qqa5OZtbahtC5gOFEeSxBA69+me8ZqZDl8fMinlI7x2VX+uLXrPsEUpWKtPIvH9bJw9157MkfSLHbJCCmek5aHFNvkZJinW9T9Ah07TvX24+IC49J918eidhc5pqdKJTb72X8XSWYcpG0lQQ+50b5C/IUoy3H0OXWZR0Hd+GU31mYZ7S0TpFUtEY/0h2fsgkrtX4oNosGsYrKyjGKZBiXDfQgpv9/egX082WAdTtu4hRtXYUF/fVoa2+Xa3r77+JloE67Luo1846KkqREPbxkzOpZLgUZUXegjx+699KjGuOXsPPv/yKq0c3qs/br0W6T/ODihLsrpjAgXTN83ResfEk/NT/prlvJv/zCJK8kNyzTSvvO5P9qGsR26jrTfaQb5/tRe0Jm5k39/OZm/TgShsCaf2X7TqI+s4f0Kk09w/81inW77Bpppdh0982ofO3P8zy7Gf9/hUqS7ubwj9sx649Kbs8O6BanHa9VybU90I2puzT/yxo124ZlLZ7B1fs+iJUEnkL8oM7t8Tfjdi2sVwtl61arf7XrJvP3tBCvL2/FBv6xlI069MgDar1GZqOVJu05NJIxjBUu8J4FDoVeqQoO9+12+7GFBVDCqTR1iYW4YzxYhK1z3AgSkylsZ94gpUNYrsID1ju58Cw7xWp/dAbcngFHwvPN5DWf3QQA2YWeBEvbwLartgwxSg6f+jEppdfNMtzgSXYULMA3YNP9aKyY3i299ORUgy1hpyXvie4u9OsbyhBd+J3vb66VNn8j66A9z5Fd1Up1st5adddi30vvWERmk+4dj2B5sGlet0na1BmPp0p8hbkqg9/FZ7x1/i70uMxfN96Qfz3BXreUrkGTbULpg5duEhxa53A7gY/lDF+/RE6RDOvSYmzZDk+UAY4krzf6nXCkNwwyHK8UWVms+IBvktMivNYp4xYUrb1JTQJr/98oCIQlYUQY4jKIhyi0Jj97PQNu2zr+qIY+myip7URnfUHsUu5zMuw61w/2lFnYsib8dvBfpzTK+cMZZWLhP1PiIr6Ma5ckmXAtz1dloDmS45jIcrE29bmlAhP4q4SbG3zHV1228fo7hI2WCOdBWmPQNN+x/5EmTlTFbRrvW1xKEynnkKI8aFtOC4c5rrzVqDnN1bEMvNQJ9Hc+gTdKMEbjrg9HJwUBlkSFLDKhdhgZiOxIQQxHcglli8KxpAwjbWB+PYSrAjFuztax9AhtttSbSuLEJH7IelQ8eS2erR7LrPu0Dv98k0vhvzy6VncsTclT3F3RNqWDSnoqVZU7JmyvqZEedDKYRl+hBsjpkwpexTl7ERw3zmVkWmiQILsivGvOJyTVzYXWYIdWYQudotmv6ytcwkxKKwQ2xCCaHadmcZnsUF4xgnpuZxlCKIQeGLc/zG8CEbPFbShHgc9j1h4zC0t2NR2GrO1Xy+K8eFnAcdDlgUVNnCnTDuFnbCFG67QLHBCev6kw4PFpwCCTDFOixe6+B03zEfRaE9y/c6ggL+wWjwi1ZRzGH4uPOlktPGVKwOLDiE4hDo6AoiCsdJrAloe435gGVhZuUS0ApZi90ioQ8YSuR+SjBxJYUdaOGI8b9BhhQ2rF4v5xVhbAQwNR9hTxtiwxYATrhDMAnvMW5DHL/9DibGkfa8/Fvm1z7PtzZq76NDFJLpFU2xKQrHnZMF7gC9aJ4R3WuHU+g6OeKsOtVTNMWWcTueHHCeMRSYssRxvh+Lf49d/R7No+u1N8iRsTNt0qgQw+7nkeNBRveDznJ6Tm9EIIcbn/JEWHq/sEP5xG0577rAQ70Y3xjz7uX32Ppph+0lEq3Jn2J5CY/gzwIYtmkfckFmyXavyJFqVWXe+TxN5CvIYbl03akzSYEIXZmkqgrFnOa5Xj6zQMS894iKqiaW+hyeoNbGx2sGlSAgD9OJpAbSQerE6NTrD7cRbb0ZWmH2pERdOR4uL6hiZjAxdyP2ocaZmP+HjzHtGL+J0m/jf2YjN7ssfYtJhYjkKox1rGjd7nXpKvAPDMmYRwrnwbMFMByBadW5Hr7AnFQrzYr33caMm2uZTosIWgorF2OD0YSh7lGFB7/hjQEMGLcoZgimcCMkRpnAihYApnAghJIZQkAkhJCZQkAkhJCZQkAkhJCZQkAkhJCZQkAkhJCZQkAkhJCZQkAkhJCakfDGEEELIzMI39QjJEb6pRwoB39QjhJAYQkEmhJCYQEEmhJCYQEEmhJCYQEEmhJCYQEEmhJCYQEEmhJCYQEEmhJCYUBBBHr/8np/c9NXPkCqv5rRh09+7UyiVvkz4+fo/ZyJdfb5JE/X3czlXdY2h606NThyZ6XnO3P2bn/ScdPPpnYRKp+fRg5PeOjHpZHsxQdtr6gSkofWqrN7WCUzd+Rki7nacvyD3fYbtNu204gLenUFRVjf4xFNsOVKt0t/raQWahscCN14mNwwkUpw2ZFLS3JMmjl9/hI6qEpVp+jsm7p4XSDGuG2jBzf5+9IvpZssA6vZdhM4zPYqL++rQVt+u1vX330TLQB32eVmoY0LX7xGVu6z0x9BhlhSVa3Dqq/XY4SQeJT55C3LftQvqf935X/HzL9dwdKNcGsTQmPp4ehE1bHMCaDoSfsBLsOOTciFqT9Ftat9wzXj7bGqPWq47fH1Ae6pm8o1N1viiVr8u09nb9anTiqvjettN5Q08RnfXJHbXrMMbVUBHV4SXf3ZAebZ2n9bzkOtqE5PigQQroujjy4JyH80j4hitrndjvPPQvqPQ98+5HpXeP3wcTfjeh+9RRve712kFqX255+ocT3ld4nm45xNuNaQ515mnB1fagPqDu2Cz+i/bdRD1nT+gU2nuH/itU6zfYbNML8Omv21C529/mOV4sLJmMYZC9orhR7gB4VxUmGVJpFcctAeJsi/3ucnvWRtS+7DPL/QMI/aftC+H9HYcPCdJduU5e/IW5KoPpRD/isNCQDw2/hUby838NDLeKwS3ammK2lZ6qtE1sXwIB4ZLkbAedUOJEjL35ncnnmKt8bplKv2OVld0J9HctdB8X3jjXsr+EOLh6vT59jiL0HzC3U8IacAjJXhDeNfra+Q5RaTvF5/d3Wn3VyLO83dlFLIFoFL+V/kp1ZVIdy12rtMeX1ZY8ryB3Q3VJr26LBRjGKpdobf9qhwrE/cjRdm/f+b+SiNW6f3d42RnrFPe70ui4jXnJVsPte8/8rY/UyXXu/dfPI9LzvORrSX7fApwroVFpvnvRyCr/+ggBsws8CJe3gS0XbFhilF0/tCJTS+/aJZjQuVSbBkO2qssn6gpxVqznJrlygEZGvYdgx9lE3t4wncs1L6WokwK7oknWCnsVtuptGPx/IWj4lf4mRFtx/DL65FSDLX6tpG6PBWOgsSQFWMJHHp1G47jGK5+WTsDoQHg4eAkNqxebJYyZ/1+cTPd8EV1KXabWQ9H6MuqF2MDnuG+U2h377TfX4INNeI2OsaTkup14kGuw3qzGOb2pSeiginV66srlNCfDwtiRSnetuEQdd6TuBspJg/wnWw97Hevc50Qr4h9ClSoROy7SYmzRFRoSvBHAgb3UBjlgb4SnPHun/C2L01gQ+1LfuWnjhMWySnI+H7rwuturyqvwP1f4Fy3qHx22sqtQOc6zfS0NqKz/iB2KZd5GXad60c76kwMeTN+O9iPc3pljJDl4Bl+9Jwa2doDtohnmQnyGXZ3PTIe8ASGKoRnDdvCtfsStqlCHm5I0JS/LEllx7sbnPIpjtVUC2Mb2ZWnXCmcIJfX4kvhKV/d+m9sf/XPODXjPXsS2RT3mxtyStfs9psfoThXoTCiesCcS7j5E0R6BUJIdi43y9rQPCPNFmnU0rM8EbwfB1I8F1m5obLENzZJ5UIhjA7CMz0gwyK20lA8xd0R0WSttEKueWF14UwrivQV8SKssIIrUdchBb4455oNKp7cVo92z2XWHXqnX77pxZBfPh23jj2NrEi9sIUKV4iK1X0O6ZDPaOQ5HopZ7Q1X4I1K42xE7ssPWalQXTaksWMZwnPLi7fvLMtTruRpib04FRpZUbZqtfrffi2t+hQEWZC6B8XD85BNcdOcUE0Z83EIK8R+OEE0g826wuKfzxkZE1YPO7p5rDzU0ANXxpBX554QeNs0dyYdosgF4VHIexUK75DC4Ilx/8fwIhg9V9CGehz0PGLhMbe0YFPbacStX0+HLR4p+/ZCDGbVlMjvCudFetjSOZCVpvSaVT/K8HNnX1aI/fCaCtVlRWo7liG8cHn5ab91kgpdnpLJU5CrsbVO/r+A1su6F8928tWssxcxfaimbZ82gMwxHWfqxqcOHxQaFSYx8a4bvWGvXZ/TBi9+ayddqYQ79zJCeLsrU4YzklFeYjjsIgpCt5lVVCzEC1iOtwMx3sVYK87Rj/9plMddNILhDn0d0muO47lK5EgKO9LCEeNZh2zVQdj3Az/EkDG6RTg0PCBairofRXnNwiavdD3z99X7RIXWZBw3ZyHMwo49sixPuZJ3W61q21vqf9fxbWoc8rvtcmkjts1Er56N8UR0ytw+q0cRpMK/8TLMMU0hC9Vj6wT9VafdgmRDTfW59LC9+Ge2hA1OktybbSnbulR1ljV7IR6xbauMt1YkVVplW1/SoRjVUabP0XYuKsR1H3DCL2WVi4Sn7454ka2B6cSNCdu4sbyOqc+1GPSc3IxGCDE+54+08Hhlh/CP23Dac4eFeDe6MeZ4IZ0kJMbQnE24wiDtpDshBVcKpkCKoLTJ4dC+TGhDIZ5fIGRhhNNzeoTAn08RVpjSjk0IVIc9sytPuZK3IKPqI/x8XouyZiOOXv0af58BPZao8cVHFuNGOLZjRlEk16Lixu8vFUZz32x7H3d35uGJpsME/W0M+XXVO5w88kN15lWkMGDVcZdZx4FuMYyJY2mjkfcmcHzRzINoGegOEe2RqDCKMkg5KkWPrLDbyiZhtBei76E8ljJGcZ26x9kcR41icK7TdpyZ9c1Yqu739LFA3LNH5jpExVxZ7l/HVOc604xexOk28b+zEZvdlz/EpMPEchRGO9Y0bvY69ZR4B4ZlxAgVeoCwrSzCFRbTue5/13Tgun0b4TIlR9PIUVJehW87o40dnwX2CiGNJtmOE8rBM/sWtnOjxi8D6ctTYWAKJzK3UMOi5ItC0y+yTOFECgFTOBFCSAyhIBNCSEygIJO5BX8rgcxiKMiEEBITKMiEEBITKMiEEBITKMiEEBITKMiEEBITUr4YQgghZGbhm3qE5Ajf1COFgG/qEUJIDKEgE0JITKAgE0JITKAgE0JITKAgE0JITKAgE0JITKAgE0JITKAgE0JITCisIPd9phKdvnYoEcxePA8Yv37b5KabDejkjTovWNTkJnKMQCZv/efAvHvG00nPSTef3kmodHqW0YvY560zk064N+tQ5STK5gpVdma5bRZQkHtxau8FM0/izRLs+KQaP32lp4RMAllV7i3/9NW6pEzTZPqQYlw30IKb/f3oF9PNlgHU7bsIL8905w9Ay021zpvimuQ0EwK2Jqdy7O4bM9md5zcFE+S+z/eg3cwTgaypA16A8TplEs73bzupxgVqW+uV6tTiKT2HwH6D+9Fe+kDA+83ZyFOdv/y8dQIYeYJa85k6bsArCaZHv31WnscD57z0ecvP7f7nb2HswZU2oP7gLtis/st2HUS9EOFOo8h//NaJNatjmPO/YJjs0i5p7DxlGYmwTUnQK/c/1/sR+77uHstdP/MURJDHL7+Hd4Ua1x09hhrz2bxGGYZML+94AJjAAWk4Kk36JG70+gJ0u2sCG2orhFcqQwk6/b7+3go0DTueQ3i/Kp19yFj7nuDuTrtepkP/PWTMGZDu/FUa/RKgohSJLDzp7sQjYL/e35mqSZVq/fxqc53qPEeKWhCKh0zz34+Awzs6iAEzKxYwOLAJA6dnf7giNQ/wY18J9pp0++ntPE0ZibBNKca1iUU4o7aVrcFnOBAQXWGLXQvF9mZfFcbOi0T+gjyWwKfHbwk1/gaHN5rP5jvSMAJ53VwPYAk21CxAd9cj41FKY1yALdXGGAPo0MIpZajCEC9J4X7J3684jhK3S44BCWN8u9rMV5cKIZ3E3WwFOe3550jVUm9/62tEoYFTANV5PsP9bM9zjtLT2ojO+oPYpZziP/BbZyfwNxuyuImWgbrZLcp9Y45HKqcxdHjPP0M793DLSJgH+C4xid0NvuNQtvUlJbrnnRbZ7p1rUKbmdNnE8ETRYtB5CvIYvj9+DF14C//60KoA8VDhCW10B/rMZ4Ky6sXYMPIcD+WCePhDFWJZGZ8wrp3SW7yvDTUQBniKuyPAysqg4b2wumBRp2RSnH9BqFiIF8ws8VHx5LZ6tHsus/agz2l1FizDrpYWbGo7jYs2yDzbSIohS8/UCu5Udp6ujISQZUtI3FrPsZAswYrAcrzIrzT3fQPpHAMX8K4cXbFdirPg1jFsf/UzFLoMzxqskJ14gpUN2ujOuB6mCltM4Mde0aTqfQrULDU1tEB5p+I7R0qFaMtYmNjPTDehpjp/Mi14Ytz/sZDhNCxbjTVmdm6gRVaG2zIKW8WhjEwT0+hezW10R1V0R5QU2W7jBXwQ2XDQTaOOrgF0ixosMlyh0tkLo5MxMWWoi7G2AhgaDh7z4eCkmSscU58/KSyjuLjPjrQIiXHPSSQPg5Mx5jWYc/18qtWUhZ0nlZEQlSVYmRSyexzr0Fh+glz1EX7+5Vd/umo69TYew9VfPsJcdqpkE8qPAz8W85PYsHqxWlI4cSjZsRBu8quwhTCiZmGAOlwh0eODXaGXHX6oKsV6r6nmdNL13hH7XYCmncvNBwVkivN3KatcBIwIETfnNX79ETr0LMmAnpOb0Qghxuf8kRYer+xAPdpw2otPCPFubARaGtJ70bMKEzdWLcWp7DxdGQmzHG/XCsen1R1x8TuaR5z+i5hBDzlHVOcATHPp/ftoriz3OhaC63pRO7hUj/V1a3EVtoAxQoswxv2lgI2PienAcCkS+43gyqaa6nHW63RPtNv5VhimPH/ZCaeaiqbn23a6mPNqxlI0iWsjGTB6EafbxP/ORmx2X/wQk+63kzHkdqxp3Gw+F+K9pt2JKc9Ckjr1guUnvZ1PVUaCtlm2db0ZWaG31SMu4jvOnimcioas6X8H9hdeUMnMwBROpBAwhVMcGH6EG4FwBSFkvkNBLgLqDbUTT7Flvx3/SAghFOSisF69scZQBSEkCAWZEEJiAgWZEEJiAgWZEEJiAgWZEEJiAgWZEEJiQsoXQwghhMwsfFOPkBzhm3qkEPBNPUIIiSEUZEIIiQkUZEIIiQkUZEIIiQkUZEIIiQkUZEIIiQkUZEIIiQkUZEIIiQkFEeS+z/+M114NTqfSJMXMG5um3pm+6DXrJGq9yfeWA+oH5KdKK957J3B8OYWzULv7yWifseYBvpDX+c8BL/mpRSZBjfq82MT1vKLoOenm0wtlmXaJykIdI9Q9D5QLP8GoRttRoLx6pFsXJpttZw8FEOReXG83szOBFFuZbeOI/JF3Mx0pxVBr6rT82aJ+QN4mTYxAiWsrcMYeX03lWCkTLzqiO9V+ZhMqk3RViUog+d0cKwTFRopx3UALbvb3o19MN1sGULfvImyeaZ8enKyTGVHjiM4GrZOIOuWiASrB6FwTzukif0Eeu4d78n/dN/j5l1+96XCVWltwxnuforsilIuucg2aat20/Jq7l5zaOuQpKVG16+TkCGlab1alJC+JyFy7HB+IikGm9rceQbr9uMc/fH0gqbYPehphb18bv7fePUZE6yB4HsbTjfpuSh6LezuJ3TXr8IZ4rh1dU30n1THM5+4xVUvDP9+pnou9V3Z9sKC7x72N7wbNxx5prl3eN2EjV+zxM7ovhaAHV4TG1h/cBZtHetmug6jv/AGdIUXuOVknNqw3S/FCpddHKRLhcqEySJcEUvEHsK3dyPsdsnMxJTldXW5LNdobj/quKl/imK69SVsKlLvAOWVwLgUgf0F+eAdd8n/7nhkJV5RVLgIivDSZ7vunT9wcdZPowFLPe5WeXbO5gfIhqNThXi1eolKTZ1KL3+6awIbaiug04qJiOJVBinH50LWo6+PvHXwiztVHrq/tWuycn0yJbo1NGoZOm66vbQWahscyFBD53TEM1a4IfHdKw5IJWUdK8Ea18Ppr5L3yK51kZCEYAxrMuQeOYSutR0aAxbatE9jdoNNZZfJcuhNPsda0jhKiEvYLuj6ud21HFmOob1Kt0aQ7L4OwkRurzfdnrGUj0/z34+NXzKJkdBADZtaj5yTq0I6Pd5jlWKEr7A01S6NzRFZXoKliAj+Gy5dq7T7BSvlMku532M718+5O/B5wNjqGFxp7Ec9THOOAVw5C9mBasIHnLWzrxxp/3x2ilV07aDQjYKeZnUshyFuQx+8luSFo3zuNoixqXHvzvNoqMk64AE077UNerjy77sGnakmFElzxri7FbjObnse4Lx7AysolZjkXjLfZ4Av3+p3i4Zt5aUjfJYAmNwGquOYzVRM4L42pdwTNQhzPeAa8BDv2u8aTDeK7n1Tj1Nb013P70hN0V5Xq8zWFS51LBDq0UY4PhHhr9PkhMaKFU1Rae6sm0XxWeqNjgW0zei5VS71chGXVoqWEZ+qZoFdWaiXYa6/FtJosU56XYgG2VOfzbAtDT2sjOusPYpd1mTGKi6cH0NLgqnaceIq7I+nKxRKsEM9saNi1GSGYQowhBNN/Ji7aNl2h1s87yO6d1l6WiApBPO/hCaUF6nlXlKLJs23hDIgKvtt93mL92+bYet+OZlQuxZaKSdxVZSqzcykEeQvygzu31P+68yZccf4ttdx+LQN3M0eUN2xqqjMyNCI8m9ocmhB+80QIg/kse2RN7FQOYkrvaUvjXYC1gZBLCVaaWWlQQ8K7bz4R3OcBU8GNDz8ThrQQL+hFjfv9tAjD2imN8r7eb0YdXg/wY59buWnDD4eHLA8HhVcqPA/33F8XBa/brJes329aLLKVEOGJ5vJcou6Lak0ZMjmvOKDiyW31aHdc5tGLjfjhby2OQM9+Olrls82sAvTCClk8L/W8RbkIeOyVC6cQ0UWq4khHLueSDXkLctWHoZjxC+tQI/8P3cugsOePzuAspnDtlwZb4P0OCCEQZl16omp6UfOayiHz/UyFEEC309JMU3myGSFjenJ/sklmKjId7ghVLEaslacRqiBqE8LYxXdTdu4JTzR87j9FhnKMd2vI/blkSMbnVRw8Me7/GJ4cj15E4w9/Q0us1Xgx1laEy4VLcstyg/CME7VQLaVUOmHFzwtjSZs162aamTqXPAV5DN8fknHj9/D9mP5k/Na/dUx55apg7VQQdGA90hNWtV+wgEdjQwa5FUYZQ81U+KORxmubQgblFRuUtxta76Bj6M/x0Cwr3O9niop3i3ug4rQyJuxWLGJSoQMTG/TicHaS8brozr0XVvvNxlTcNqGKMyZ0obfN77lE3RflNRsyOa/iMYqL++xIC0eMBaOyc6+zEZvtkDg1yqINdX/ah4vJwzCKRPpWkw2zyT4IixTnsq1LA307QUzLTDomgb6hzIh83sPPc/Rq8zuXbMhTkMuxcetG8f8Wjm/XHXrbj8sQxkYcfScyMJQnfpM7HBbQcU4/vjgVfm2uO7oyDlmYeO6BpB7dTPejjdftdVbnbualx/22ipG7+9feq7pmE8P1Oy/Ecc86124E/Uavub7hAZz34vnJFZrspISND4dRnXlRzUr9HKI696IKmfJ8bXjEjlLZv9wPXTjb5v5cQrFtcd3N0pM3THleRaTn5GY0QojxOX+khWXZrnNqKJw3tctRFtKLPherEEbZ1pfQBNniCpULOYpGddxGVbI2rpuqc8x1THTMOVNBTX7e4vviPFJ2yE9J7ueSDXkKsrjwN7/G1aNSlC1CjK9+jb+Xm8VCI5vcorkgxx3bJrSczsve8Yh4ZDJCTFRnjomjvn8fd3em9viiUGESM77SPwe/Fza6k8JHxsC1qNtzl51Xflw5vF7GUuXoAL1f2cGgRwgEjutduzVyc31ngb1e51b42k0TLMV9UxVFeIihRXW4RXXuieOL5+MeQ40YkZ6F7FUPFAq3QOb7XOR9MWPB5fdPPMcWp1Mv7XmZLYrC6EWclk6v6wWb6WRc3/6IRN5/OfrgWbBcmPH6KcuEcnDclpJF24bfef8Ia4/IEJbjbKRFfN+MrNDf1yMucgv75XsumcMUTrFAesDyIevhX2R2wBROpBAwhVNRSQ4b6CE6KTxRQsi8gYI84ySHDWLRdCaEFB0KcjGwIxzsRDEmhAgoyIQQEhMoyIQQEhMoyIQQEhMoyIQQEhMoyIQQEhNSvhhCCCFkZuGbeoTkCN/UI4XAfwbA/we7TqOtoljxYgAAAABJRU5ErkJggg==)"
      ]
    },
    {
      "cell_type": "markdown",
      "metadata": {
        "id": "ul5mPfMhJZgv"
      },
      "source": [
        "Podemos notar varias cosas, como que nuestro modelo posicionó a **Luka Dončić** por encima de **Giannis Antetokounmpo** o que el jugador **Jayson Tatum** directamente no entró al podio. Estas cosas ya las sabemos con anterioridad cuando mencionamos que nuestro modelo tiene problema para colocar a jugadores en puestos inferiores.\n"
      ]
    },
    {
      "cell_type": "markdown",
      "metadata": {
        "id": "x5iCIyaMo5h2"
      },
      "source": [
        "Al cuestionar la posición que **Jayson Tatum** ocupó según nuestro modelo, nos encontramos con un caso menos extremo que el de **Devin Booker**, ya que Tatum se ubicó en la **séptima posición** de la tabla, no tan distante del podio:"
      ]
    },
    {
      "cell_type": "code",
      "execution_count": null,
      "metadata": {
        "colab": {
          "base_uri": "https://localhost:8080/",
          "height": 269
        },
        "id": "Zl3bJbO3pI2_",
        "outputId": "8ae65d69-1acf-4d95-989d-ec0c00dee465"
      },
      "outputs": [
        {
          "data": {
            "text/html": [
              "\n",
              "  <div id=\"df-50044eb2-f6d3-44fa-b3fa-e5b963a2d878\" class=\"colab-df-container\">\n",
              "    <div>\n",
              "<style scoped>\n",
              "    .dataframe tbody tr th:only-of-type {\n",
              "        vertical-align: middle;\n",
              "    }\n",
              "\n",
              "    .dataframe tbody tr th {\n",
              "        vertical-align: top;\n",
              "    }\n",
              "\n",
              "    .dataframe thead th {\n",
              "        text-align: right;\n",
              "    }\n",
              "</style>\n",
              "<table border=\"1\" class=\"dataframe\">\n",
              "  <thead>\n",
              "    <tr style=\"text-align: right;\">\n",
              "      <th></th>\n",
              "      <th>season</th>\n",
              "      <th>player</th>\n",
              "      <th>mvp_share</th>\n",
              "      <th>y_pred</th>\n",
              "    </tr>\n",
              "  </thead>\n",
              "  <tbody>\n",
              "    <tr>\n",
              "      <th>306</th>\n",
              "      <td>2023</td>\n",
              "      <td>Joel Embiid</td>\n",
              "      <td>0.915</td>\n",
              "      <td>0.432154</td>\n",
              "    </tr>\n",
              "    <tr>\n",
              "      <th>506</th>\n",
              "      <td>2023</td>\n",
              "      <td>Nikola Jokić</td>\n",
              "      <td>0.674</td>\n",
              "      <td>0.361984</td>\n",
              "    </tr>\n",
              "    <tr>\n",
              "      <th>422</th>\n",
              "      <td>2023</td>\n",
              "      <td>Luka Dončić</td>\n",
              "      <td>0.010</td>\n",
              "      <td>0.283334</td>\n",
              "    </tr>\n",
              "    <tr>\n",
              "      <th>207</th>\n",
              "      <td>2023</td>\n",
              "      <td>Giannis Antetokounmpo</td>\n",
              "      <td>0.606</td>\n",
              "      <td>0.224493</td>\n",
              "    </tr>\n",
              "    <tr>\n",
              "      <th>588</th>\n",
              "      <td>2023</td>\n",
              "      <td>Shai Gilgeous-Alexander</td>\n",
              "      <td>0.046</td>\n",
              "      <td>0.211966</td>\n",
              "    </tr>\n",
              "    <tr>\n",
              "      <th>301</th>\n",
              "      <td>2023</td>\n",
              "      <td>Jimmy Butler</td>\n",
              "      <td>0.003</td>\n",
              "      <td>0.162379</td>\n",
              "    </tr>\n",
              "    <tr>\n",
              "      <th>291</th>\n",
              "      <td>2023</td>\n",
              "      <td>Jayson Tatum</td>\n",
              "      <td>0.280</td>\n",
              "      <td>0.159920</td>\n",
              "    </tr>\n",
              "  </tbody>\n",
              "</table>\n",
              "</div>\n",
              "    <div class=\"colab-df-buttons\">\n",
              "\n",
              "  <div class=\"colab-df-container\">\n",
              "    <button class=\"colab-df-convert\" onclick=\"convertToInteractive('df-50044eb2-f6d3-44fa-b3fa-e5b963a2d878')\"\n",
              "            title=\"Convert this dataframe to an interactive table.\"\n",
              "            style=\"display:none;\">\n",
              "\n",
              "  <svg xmlns=\"http://www.w3.org/2000/svg\" height=\"24px\" viewBox=\"0 -960 960 960\">\n",
              "    <path d=\"M120-120v-720h720v720H120Zm60-500h600v-160H180v160Zm220 220h160v-160H400v160Zm0 220h160v-160H400v160ZM180-400h160v-160H180v160Zm440 0h160v-160H620v160ZM180-180h160v-160H180v160Zm440 0h160v-160H620v160Z\"/>\n",
              "  </svg>\n",
              "    </button>\n",
              "\n",
              "  <style>\n",
              "    .colab-df-container {\n",
              "      display:flex;\n",
              "      gap: 12px;\n",
              "    }\n",
              "\n",
              "    .colab-df-convert {\n",
              "      background-color: #E8F0FE;\n",
              "      border: none;\n",
              "      border-radius: 50%;\n",
              "      cursor: pointer;\n",
              "      display: none;\n",
              "      fill: #1967D2;\n",
              "      height: 32px;\n",
              "      padding: 0 0 0 0;\n",
              "      width: 32px;\n",
              "    }\n",
              "\n",
              "    .colab-df-convert:hover {\n",
              "      background-color: #E2EBFA;\n",
              "      box-shadow: 0px 1px 2px rgba(60, 64, 67, 0.3), 0px 1px 3px 1px rgba(60, 64, 67, 0.15);\n",
              "      fill: #174EA6;\n",
              "    }\n",
              "\n",
              "    .colab-df-buttons div {\n",
              "      margin-bottom: 4px;\n",
              "    }\n",
              "\n",
              "    [theme=dark] .colab-df-convert {\n",
              "      background-color: #3B4455;\n",
              "      fill: #D2E3FC;\n",
              "    }\n",
              "\n",
              "    [theme=dark] .colab-df-convert:hover {\n",
              "      background-color: #434B5C;\n",
              "      box-shadow: 0px 1px 3px 1px rgba(0, 0, 0, 0.15);\n",
              "      filter: drop-shadow(0px 1px 2px rgba(0, 0, 0, 0.3));\n",
              "      fill: #FFFFFF;\n",
              "    }\n",
              "  </style>\n",
              "\n",
              "    <script>\n",
              "      const buttonEl =\n",
              "        document.querySelector('#df-50044eb2-f6d3-44fa-b3fa-e5b963a2d878 button.colab-df-convert');\n",
              "      buttonEl.style.display =\n",
              "        google.colab.kernel.accessAllowed ? 'block' : 'none';\n",
              "\n",
              "      async function convertToInteractive(key) {\n",
              "        const element = document.querySelector('#df-50044eb2-f6d3-44fa-b3fa-e5b963a2d878');\n",
              "        const dataTable =\n",
              "          await google.colab.kernel.invokeFunction('convertToInteractive',\n",
              "                                                    [key], {});\n",
              "        if (!dataTable) return;\n",
              "\n",
              "        const docLinkHtml = 'Like what you see? Visit the ' +\n",
              "          '<a target=\"_blank\" href=https://colab.research.google.com/notebooks/data_table.ipynb>data table notebook</a>'\n",
              "          + ' to learn more about interactive tables.';\n",
              "        element.innerHTML = '';\n",
              "        dataTable['output_type'] = 'display_data';\n",
              "        await google.colab.output.renderOutput(dataTable, element);\n",
              "        const docLink = document.createElement('div');\n",
              "        docLink.innerHTML = docLinkHtml;\n",
              "        element.appendChild(docLink);\n",
              "      }\n",
              "    </script>\n",
              "  </div>\n",
              "\n",
              "\n",
              "<div id=\"df-9b3d1272-e717-4a4b-8031-a8658da2779b\">\n",
              "  <button class=\"colab-df-quickchart\" onclick=\"quickchart('df-9b3d1272-e717-4a4b-8031-a8658da2779b')\"\n",
              "            title=\"Suggest charts\"\n",
              "            style=\"display:none;\">\n",
              "\n",
              "<svg xmlns=\"http://www.w3.org/2000/svg\" height=\"24px\"viewBox=\"0 0 24 24\"\n",
              "     width=\"24px\">\n",
              "    <g>\n",
              "        <path d=\"M19 3H5c-1.1 0-2 .9-2 2v14c0 1.1.9 2 2 2h14c1.1 0 2-.9 2-2V5c0-1.1-.9-2-2-2zM9 17H7v-7h2v7zm4 0h-2V7h2v10zm4 0h-2v-4h2v4z\"/>\n",
              "    </g>\n",
              "</svg>\n",
              "  </button>\n",
              "\n",
              "<style>\n",
              "  .colab-df-quickchart {\n",
              "      --bg-color: #E8F0FE;\n",
              "      --fill-color: #1967D2;\n",
              "      --hover-bg-color: #E2EBFA;\n",
              "      --hover-fill-color: #174EA6;\n",
              "      --disabled-fill-color: #AAA;\n",
              "      --disabled-bg-color: #DDD;\n",
              "  }\n",
              "\n",
              "  [theme=dark] .colab-df-quickchart {\n",
              "      --bg-color: #3B4455;\n",
              "      --fill-color: #D2E3FC;\n",
              "      --hover-bg-color: #434B5C;\n",
              "      --hover-fill-color: #FFFFFF;\n",
              "      --disabled-bg-color: #3B4455;\n",
              "      --disabled-fill-color: #666;\n",
              "  }\n",
              "\n",
              "  .colab-df-quickchart {\n",
              "    background-color: var(--bg-color);\n",
              "    border: none;\n",
              "    border-radius: 50%;\n",
              "    cursor: pointer;\n",
              "    display: none;\n",
              "    fill: var(--fill-color);\n",
              "    height: 32px;\n",
              "    padding: 0;\n",
              "    width: 32px;\n",
              "  }\n",
              "\n",
              "  .colab-df-quickchart:hover {\n",
              "    background-color: var(--hover-bg-color);\n",
              "    box-shadow: 0 1px 2px rgba(60, 64, 67, 0.3), 0 1px 3px 1px rgba(60, 64, 67, 0.15);\n",
              "    fill: var(--button-hover-fill-color);\n",
              "  }\n",
              "\n",
              "  .colab-df-quickchart-complete:disabled,\n",
              "  .colab-df-quickchart-complete:disabled:hover {\n",
              "    background-color: var(--disabled-bg-color);\n",
              "    fill: var(--disabled-fill-color);\n",
              "    box-shadow: none;\n",
              "  }\n",
              "\n",
              "  .colab-df-spinner {\n",
              "    border: 2px solid var(--fill-color);\n",
              "    border-color: transparent;\n",
              "    border-bottom-color: var(--fill-color);\n",
              "    animation:\n",
              "      spin 1s steps(1) infinite;\n",
              "  }\n",
              "\n",
              "  @keyframes spin {\n",
              "    0% {\n",
              "      border-color: transparent;\n",
              "      border-bottom-color: var(--fill-color);\n",
              "      border-left-color: var(--fill-color);\n",
              "    }\n",
              "    20% {\n",
              "      border-color: transparent;\n",
              "      border-left-color: var(--fill-color);\n",
              "      border-top-color: var(--fill-color);\n",
              "    }\n",
              "    30% {\n",
              "      border-color: transparent;\n",
              "      border-left-color: var(--fill-color);\n",
              "      border-top-color: var(--fill-color);\n",
              "      border-right-color: var(--fill-color);\n",
              "    }\n",
              "    40% {\n",
              "      border-color: transparent;\n",
              "      border-right-color: var(--fill-color);\n",
              "      border-top-color: var(--fill-color);\n",
              "    }\n",
              "    60% {\n",
              "      border-color: transparent;\n",
              "      border-right-color: var(--fill-color);\n",
              "    }\n",
              "    80% {\n",
              "      border-color: transparent;\n",
              "      border-right-color: var(--fill-color);\n",
              "      border-bottom-color: var(--fill-color);\n",
              "    }\n",
              "    90% {\n",
              "      border-color: transparent;\n",
              "      border-bottom-color: var(--fill-color);\n",
              "    }\n",
              "  }\n",
              "</style>\n",
              "\n",
              "  <script>\n",
              "    async function quickchart(key) {\n",
              "      const quickchartButtonEl =\n",
              "        document.querySelector('#' + key + ' button');\n",
              "      quickchartButtonEl.disabled = true;  // To prevent multiple clicks.\n",
              "      quickchartButtonEl.classList.add('colab-df-spinner');\n",
              "      try {\n",
              "        const charts = await google.colab.kernel.invokeFunction(\n",
              "            'suggestCharts', [key], {});\n",
              "      } catch (error) {\n",
              "        console.error('Error during call to suggestCharts:', error);\n",
              "      }\n",
              "      quickchartButtonEl.classList.remove('colab-df-spinner');\n",
              "      quickchartButtonEl.classList.add('colab-df-quickchart-complete');\n",
              "    }\n",
              "    (() => {\n",
              "      let quickchartButtonEl =\n",
              "        document.querySelector('#df-9b3d1272-e717-4a4b-8031-a8658da2779b button');\n",
              "      quickchartButtonEl.style.display =\n",
              "        google.colab.kernel.accessAllowed ? 'block' : 'none';\n",
              "    })();\n",
              "  </script>\n",
              "</div>\n",
              "    </div>\n",
              "  </div>\n"
            ],
            "text/plain": [
              "     season                   player  mvp_share    y_pred\n",
              "306    2023              Joel Embiid      0.915  0.432154\n",
              "506    2023             Nikola Jokić      0.674  0.361984\n",
              "422    2023              Luka Dončić      0.010  0.283334\n",
              "207    2023    Giannis Antetokounmpo      0.606  0.224493\n",
              "588    2023  Shai Gilgeous-Alexander      0.046  0.211966\n",
              "301    2023             Jimmy Butler      0.003  0.162379\n",
              "291    2023             Jayson Tatum      0.280  0.159920"
            ]
          },
          "execution_count": 39,
          "metadata": {},
          "output_type": "execute_result"
        }
      ],
      "source": [
        "mostrar_podio_MVP(temporada = 2023, y_pred = y_test_pred, df_base = df_data_jugadores_test, cant_jugadores = 7)"
      ]
    },
    {
      "cell_type": "markdown",
      "metadata": {
        "id": "d6myZ2dDpZUZ"
      },
      "source": [
        "La explicación para esto sería relativamente similar a la de **Devin Booker**: **Jayson Tatum** jugó en **Boston Celtics** durante la temporada 2023, un equipo con una plantilla sólida, situación que hizo que él individualmente **no fuera lider** en tantas estadísticas. Podemos afirmar que el hecho de que entre las variables predictoras que utilizamos para entrenar nuestro modelo no se encuentre ninguna que aporte alguna métrica sobre el **rendimiento del equipo** en el que estuvo el jugador afectó significativamente las predicciones."
      ]
    },
    {
      "cell_type": "markdown",
      "metadata": {
        "id": "I00dHzE3otJ-"
      },
      "source": [
        "De vuelta, volviendo a **Luka Dončić** tenemos un caso similar a **LeBron James**, un jugador el cual era el más valioso para su equipo (**Dallas Mavericks**) en la temporada 2022 y fue lider en numerosas estadísticas. A continuación dejamos una imagen que muestra dos aspectos en los cuales **Dončić** estuvo entre los más destacados de la liga:"
      ]
    },
    {
      "cell_type": "markdown",
      "metadata": {
        "id": "CNIz4Tq-KzdU"
      },
      "source": [
        "![estadisticas_2023_doncic.png](data:image/png;base64,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)"
      ]
    },
    {
      "cell_type": "markdown",
      "metadata": {
        "id": "TnQ27xzfK9bl"
      },
      "source": [
        "Nos encontramos ante el caso de un jugador con una notable capacidad tanto en el aspecto ofensivo como defensivo, aspectos que, aunque no son la totalidad del baloncesto, indudablemente desempeñan roles determinantes en el juego. Al considerar el motivo por el cual no recibió tantos votos, surge una situación que podría justificarlo: su equipo, los **Dallas Mavericks**, finalizó la temporada regular en una **posición bastante baja** (se puede verificar [aquí](https://www.espn.com.ar/basquetbol/nba/posiciones/_/temporada/2023)). En general, el premio MVP rara vez se otorga a jugadores cuyos equipos han concluido la temporada en posiciones desfavorables, presentando así otro ejemplo en el que, a pesar de las estadísticas que indican una gran influencia individual, **la realidad del desempeño del equipo puede afectar la percepción del jugador en la carrera por el MVP**."
      ]
    },
    {
      "cell_type": "markdown",
      "metadata": {
        "id": "xiqc4gV6NsVf"
      },
      "source": [
        "# Conclusiones"
      ]
    },
    {
      "cell_type": "markdown",
      "metadata": {
        "id": "midjA6biOqM7"
      },
      "source": [
        "En términos generales, estamos satisfechos con los logros obtenidos por nuestro modelo y la comprensión que nos brindó sobre el premio MVP. Al ponerlo a prueba con los datos de prueba, exploramos diversos aspectos y desafíos que enfrentó nuestro modelo, llegando a la conclusión de la marcada subjetividad del premio. Se hizo evidente que las estadísticas positivas no siempre son el único factor determinante en la valoración de un jugador, y que la narrativa de cada temporada ejerce una influencia significativa.\n",
        "\n",
        "Ahora que hemos completado nuestro trabajo, sin más que agregar, ¡gracias por haberlo revisado!."
      ]
    }
  ],
  "metadata": {
    "colab": {
      "collapsed_sections": [
        "edNxTykT5Wft",
        "OaEJPcd4WolB",
        "ai9QCvnKCRov",
        "ECAOEtSe_mt9",
        "ZjLf-9e4_3ig",
        "t3uGmQY02HTJ",
        "VrnWjo_cB_Dn",
        "pNOUHnxrv9L1",
        "PKG_UCyW4Yha",
        "yElpyfyXX_NB",
        "SrEBjbo8fX67",
        "6CEMsQv2Audr",
        "xiqc4gV6NsVf"
      ],
      "provenance": []
    },
    "kernelspec": {
      "display_name": "Python 3",
      "name": "python3"
    },
    "language_info": {
      "name": "python"
    }
  },
  "nbformat": 4,
  "nbformat_minor": 0
}
