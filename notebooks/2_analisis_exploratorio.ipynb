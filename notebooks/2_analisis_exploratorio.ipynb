{
 "cells": [
  {
   "cell_type": "code",
   "execution_count": 1,
   "metadata": {},
   "outputs": [],
   "source": [
    "#Esto me sirve para el correcto funcionamiento de las funciones importadas en este notebook\n",
    "%load_ext autoreload\n",
    "%autoreload 2"
   ]
  },
  {
   "cell_type": "markdown",
   "metadata": {},
   "source": [
    "# Analizando los datos"
   ]
  },
  {
   "cell_type": "markdown",
   "metadata": {},
   "source": [
    "Como primer paso del análisis miramos las correlaciones del resto de variables con respecto a la variable objetivo la cual es **'mvp_share'**. Esto nos servirá para tener una idea inicial sobre a cuales features darles importancia o que esperar sobre nuestro modelo."
   ]
  },
  {
   "cell_type": "code",
   "execution_count": null,
   "metadata": {},
   "outputs": [],
   "source": [
    "corr_matrix = df_data_jugadores_train.corr()\n",
    "print(corr_matrix[\"mvp_share\"].sort_values(ascending=False).head(15))"
   ]
  },
  {
   "cell_type": "markdown",
   "metadata": {},
   "source": [
    "Podemos observar que entre las características que presentan una mayor correlación con nuestra variable objetivo se encuentran:\n",
    "\n",
    "*   **'vorp' (Value over Replacement Player)**: Es una estadística avanzada que busca cuantificar el valor total que un jugador aporta a su equipo en comparación con un jugador genérico de reemplazo que estaría disponible para jugar en su lugar.\n",
    "\n",
    "*   **'bpm' (Box Plus/Minus)**: Calcula el más/menos de un jugador respecto al rendimiento del equipo por cada 100 posesiones.\n",
    "\n",
    "*   **'per' (Player Efficiency Rating)**: Una fórmula que calcula la **eficencia de un jugador en base a lo que produce por minuto**. El PER toma en cuenta los aciertos en tiros de campo, tiros libres, triples, asistencias, rebotes, tapones y robos, y los errores como tiros fallados, pérdidas de balón y faltas personales. La fórmula agrega estadísticas positivas y resta las negativas a través de un sistema de valores de puntos estadísticos. Este sistema fue **desarrollado por [John Hollinger](https://en.wikipedia.org/wiki/John_Hollinger)**.\n",
    "\n",
    "*   **'ws' (Win Shares)**: Indice que reparte el éxito de un equipo entre cada uno de los individuos de ese equipo, estimando el número de victorias que genera un jugador en base a estadísticas individuales, de equipo y de toda la Liga.\n",
    "\n",
    "*   **'ws_48' (Win Shares per 48 min)**:\n",
    "Es igual a la estadística definida anteriormente, pero esta se basa en 48 minutos porque esa es la duración exacta de un partido de la NBA. Por lo tanto, esta estadística puede medir cuánto contribuye un jugador a un esfuerzo ganador en función de su desempeño por minuto en cada partido.\n",
    "\n",
    "*   **'obpm' (Offensive Box Plus/Minus)**: El Box Plus/Minus ofensivo (OBPM) es una estadística en baloncesto que mide la contribución de un jugador en términos de puntos por encima del promedio de la liga por cada 100 posesiones jugadas, centrándose exclusivamente en su rendimiento ofensivo. Muestra cuánto un jugador mejora la producción ofensiva de su equipo cuando está en la cancha.\n",
    "\n",
    "La alta correlación de estas características con la variable objetivo no es coincidencia, ya que concuerda con lo que mencionamos anteriormente sobre el significado de **ser el jugador más valioso**. Se refiere a un jugador que tiene un impacto positivo significativo en su equipo en comparación con sus compañeros."
   ]
  },
  {
   "cell_type": "markdown",
   "metadata": {},
   "source": [
    "Ahora con esto en mente, procedemos a ver de forma gráfica estas correlaciones para darnos una idea más clara de lo que está ocurriendo:"
   ]
  },
  {
   "cell_type": "code",
   "execution_count": null,
   "metadata": {},
   "outputs": [],
   "source": [
    "fig, axes = plt.subplots(2, 3, figsize=(14, 8))\n",
    "\n",
    "columnas = ['vorp', 'bpm', 'per', 'ws', 'ws_48', 'obpm']\n",
    "titulos = ['Value over Replacement Player', 'Box Plus/Minus', 'Player Efficiency Rating', 'Win Shares', 'Win Shares per 48 min', 'Offensive Box Plus/Minus']\n",
    "\n",
    "for i, col in enumerate(columnas):\n",
    "    sns.scatterplot(x=col, y='mvp_share', data=df_data_jugadores_train, ax=axes[i // 3, i % 3])\n",
    "    axes[i // 3, i % 3].set_title(f'{titulos[i]} vs MVP shares')\n",
    "\n",
    "plt.tight_layout()"
   ]
  },
  {
   "cell_type": "markdown",
   "metadata": {},
   "source": [
    "Podemos notar que en los cinco atributos, la relación con **'mvp_share'** es positiva y ascendente. Este gráfico nos brinda una herramienta valiosa para identificar los **\"destacados\"** entre los jugadores, aquellos que recibieron una considerable cantidad de votos, lo que sugiere que tuvieron temporadas excepcionales."
   ]
  },
  {
   "cell_type": "markdown",
   "metadata": {},
   "source": [
    "Ahora analizaremos como se distribuyen estos datos para detectar la existencia de grupos entre los jugadores con respecto a estos atributos:"
   ]
  },
  {
   "cell_type": "code",
   "execution_count": null,
   "metadata": {},
   "outputs": [],
   "source": [
    "fig, axes = plt.subplots(2, 3, figsize=(14, 8))\n",
    "\n",
    "columnas = ['vorp', 'bpm', 'per', 'ws', 'ws_48', 'obpm']\n",
    "titulos = ['Value over Replacement Player', 'Box Plus/Minus', 'Player Efficiency Rating', 'Win Shares', 'Win Shares per 48 min', 'Offensive Box Plus/Minus']\n",
    "\n",
    "for i, col in enumerate(columnas):\n",
    "    axes[i // 3, i % 3].hist(df_data_jugadores_train[col], bins=20, color='skyblue', edgecolor='black')\n",
    "    axes[i // 3, i % 3].set_title(f'{titulos[i]}')\n",
    "\n",
    "plt.tight_layout()"
   ]
  },
  {
   "cell_type": "markdown",
   "metadata": {},
   "source": [
    "Todo sugiere que tenemos una distribución uniforme en las variables de interés. Esto indica que, hasta el momento, nuestros datos no presentan ningún problema aparente."
   ]
  },
  {
   "cell_type": "markdown",
   "metadata": {},
   "source": [
    "Luego de un exhaustivo análisis de datos, optamos por seleccionar features **basándonos en la correlación** que presentan con nuestro objetivo. Inicialmente, nos enfocaremos en aquellas con una correlación **superior a 0.25**. Aunque solo se presentan algunas, estas variables parecen ser predictores valiosos, ya que cada una resalta un aspecto específico del jugador. En consecuencia, hemos decidido emplear las **14 features** que cumplen con la correlación que deseamos."
   ]
  },
  {
   "cell_type": "code",
   "execution_count": null,
   "metadata": {},
   "outputs": [],
   "source": [
    "correlated_features = corr_matrix[\"mvp_share\"].sort_values(ascending=False).index.tolist()[1:15]"
   ]
  }
 ],
 "metadata": {
  "kernelspec": {
   "display_name": "proyecto_nba_mvp",
   "language": "python",
   "name": "python3"
  },
  "language_info": {
   "codemirror_mode": {
    "name": "ipython",
    "version": 3
   },
   "file_extension": ".py",
   "mimetype": "text/x-python",
   "name": "python",
   "nbconvert_exporter": "python",
   "pygments_lexer": "ipython3",
   "version": "3.10.12"
  }
 },
 "nbformat": 4,
 "nbformat_minor": 2
}
