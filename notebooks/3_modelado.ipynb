{
 "cells": [
  {
   "cell_type": "code",
   "execution_count": 1,
   "metadata": {},
   "outputs": [],
   "source": [
    "#Esto me sirve para el correcto funcionamiento de las funciones importadas en este notebook\n",
    "%load_ext autoreload\n",
    "%autoreload 2"
   ]
  },
  {
   "cell_type": "markdown",
   "metadata": {},
   "source": [
    "# Modelado"
   ]
  },
  {
   "cell_type": "markdown",
   "metadata": {},
   "source": [
    "Cargamos los conjuntos de datos y librerías que se usarán en esta sección:"
   ]
  },
  {
   "cell_type": "code",
   "execution_count": null,
   "metadata": {},
   "outputs": [],
   "source": [
    "from utils.paths import crear_funcion_directorio\n",
    "import pandas as pd\n",
    "\n",
    "#Creo un acceso directo a la carpeta de data\n",
    "data_dir = crear_funcion_directorio(\"data\")\n",
    "\n",
    "#Cargo los conjuntos de datos\n",
    "X_train = pd.read_csv(data_dir(\"for_modeling\", \"X_train.csv\"))\n",
    "y_train = pd.read_csv(data_dir(\"for_modeling\", \"y_train.csv\"))"
   ]
  },
  {
   "cell_type": "markdown",
   "metadata": {},
   "source": [
    "## Preprocesamiento de datos"
   ]
  },
  {
   "cell_type": "markdown",
   "metadata": {},
   "source": [
    "Hasta este punto, hemos creado un conjunto de datos para el proyecto, analizado los datos y descubierto patrones que pueden resultar valiosos al desarrollar el modelo final. El siguiente paso consiste en preparar estas variables de interés para su uso en el entrenamiento de nuestro modelo."
   ]
  },
  {
   "cell_type": "markdown",
   "metadata": {},
   "source": [
    "Primero procederemos a separar las variables en **X_train** (que contendrá las  candidatas a variables predictoras) y **y_train** (donde ubicaremos nuestra variable objetivo, **'mvp_share'**)."
   ]
  },
  {
   "cell_type": "code",
   "execution_count": null,
   "metadata": {},
   "outputs": [],
   "source": [
    "X_train = df_data_jugadores_train.loc[:, correlated_features]\n",
    "y_train = df_data_jugadores_train.loc[:, ['mvp_share']]"
   ]
  },
  {
   "cell_type": "markdown",
   "metadata": {},
   "source": [
    "Comencemos por verificar si existen valores faltantes en **X_train**. Dado que ya hemos imputado el valor cero en toda la variable **y_train**, no es necesario hacer esta misma examinación en ella."
   ]
  },
  {
   "cell_type": "code",
   "execution_count": null,
   "metadata": {},
   "outputs": [],
   "source": [
    "#Guardo la suma de valores faltantes por columna\n",
    "valores_faltantes = X_train.isnull().sum()\n",
    "\n",
    "print(valores_faltantes)"
   ]
  },
  {
   "cell_type": "markdown",
   "metadata": {},
   "source": [
    "Observamos que en nuestras variables de interés no contamos con valores faltantes, por lo tanto podemos proseguir con la estandarización de los datos:"
   ]
  },
  {
   "cell_type": "code",
   "execution_count": null,
   "metadata": {},
   "outputs": [],
   "source": [
    "from sklearn.pipeline import Pipeline\n",
    "from sklearn.preprocessing import StandardScaler\n",
    "\n",
    "#Genero un pipeline\n",
    "pip = Pipeline([\n",
    " ('std_scaler', StandardScaler())\n",
    " ])\n",
    "\n",
    "#Aplico la transformación\n",
    "X_train_prepared = pip.fit_transform(X_train)"
   ]
  },
  {
   "cell_type": "markdown",
   "metadata": {},
   "source": [
    "## Generando el modelo"
   ]
  },
  {
   "cell_type": "markdown",
   "metadata": {},
   "source": [
    "Ahora, llegamos a la etapa en la que comenzamos a modelar nuestros datos y explorar qué información relevante pueden proporcionarnos, lo que constituye el núcleo de nuestro proyecto. Nuestro criterio para determinar la idoneidad de un modelo se basa en su capacidad para minimizar el error en las predicciones y así poder ubicar de manera correcta a los jugadores que están en **el podio del premio**."
   ]
  },
  {
   "cell_type": "markdown",
   "metadata": {},
   "source": [
    "## Definición de funciones útiles"
   ]
  },
  {
   "cell_type": "markdown",
   "metadata": {},
   "source": [
    "Antes de empezar con el proceso de entrenamiento de un modelo, decidimos generar algunas funciones que nos serán útiles para luego simplicar este proceso:"
   ]
  },
  {
   "cell_type": "code",
   "execution_count": null,
   "metadata": {},
   "outputs": [],
   "source": [
    "from sklearn.model_selection import cross_validate, TimeSeriesSplit\n",
    "from sklearn.metrics import make_scorer, mean_squared_error, explained_variance_score, r2_score\n",
    "from sklearn.model_selection import RandomizedSearchCV\n",
    "from sklearn.ensemble import RandomForestRegressor\n",
    "import warnings\n",
    "warnings.filterwarnings(\"ignore\")\n",
    "\n",
    "#Defino una grilla de métricas para regresión\n",
    "regression_scores = {'R^2 score' : 'r2',\n",
    "                     'Explained Variance':'explained_variance',\n",
    "                     'MSE':'neg_mean_squared_error',\n",
    "                     'RMSE' : make_scorer(mean_squared_error, squared=False),\n",
    "                     }\n",
    "\n",
    "#Hago una función para la validación cruzada\n",
    "def cross_validation_scores(model, X, y, scoring, CV):\n",
    "    '''\n",
    "    Métricas de validación cruzada\n",
    "\n",
    "    param_model: modelo\n",
    "    param_X: características\n",
    "    param_y: etiqueta objetivo\n",
    "    param_scoring: una selección de métricas\n",
    "    param_CV: cantidad de divisiones para la validación cruzada\n",
    "    '''\n",
    "\n",
    "    # Instancio el objeto TimeSeriesSplit para dividir en series de tiempo\n",
    "    tscv = TimeSeriesSplit(n_splits=CV)\n",
    "\n",
    "    scores = cross_validate(model, X, y.values.ravel(), scoring=scoring, cv=tscv)\n",
    "\n",
    "    #Obtengo el puntaje promedio y la desviación estandar de cada modelo\n",
    "    return {metric: (round(np.mean(scores), 3)) for metric, scores in scores.items()}\n",
    "\n",
    "def mostrar_podio_MVP(temporada:int, y_pred, df_base:pd.DataFrame, cant_jugadores:int):\n",
    "    '''\n",
    "    Esta función toma las predicciones generadas por el modelo\n",
    "    en cuestión y retorna un dataframe de las mismas junto\n",
    "    con el valor real por cada temporada y jugador.\n",
    "    '''\n",
    "\n",
    "    # Genero un dataframe donde guardo las predicciones y el valor real\n",
    "    df_comp = df_base[['season', 'player', 'mvp_share']]\n",
    "    df_comp['y_pred'] = y_pred.flatten()\n",
    "    df_comp = df_comp.sort_values(by='y_pred', ascending=False)\n",
    "\n",
    "    return df_comp[df_comp['season'] == temporada].head(cant_jugadores)\n"
   ]
  },
  {
   "cell_type": "markdown",
   "metadata": {},
   "source": [
    "## Random Forest"
   ]
  },
  {
   "cell_type": "markdown",
   "metadata": {},
   "source": [
    "El modelo que hemos decidido utilizar es el **Random Forest**. Según nuestro criterio, este modelo es adecuado para evitar el **sobreajuste** y tiene la capacidad de generalizar bien con los datos disponibles. Además, es altamente útil para evaluar la **importancia** de cada atributo que utilizamos en el proceso de entrenamiento. Esto, a su vez, nos proporciona una comprensión más profunda de **cómo opera el premio** y los factores que influyen en él."
   ]
  },
  {
   "cell_type": "markdown",
   "metadata": {},
   "source": [
    "Emplearemos **RandomizedSearchCV** para encontrar la combinación óptima de hiperparámetros para nuestro modelo. Hemos elegido una grilla de hiperparámetros extensa con el fin de garantizar una búsqueda precisa y obtener una comprensión sólida de nuestros requisitos."
   ]
  },
  {
   "cell_type": "code",
   "execution_count": null,
   "metadata": {},
   "outputs": [],
   "source": [
    "#Instancio el modelo\n",
    "forest_reg = RandomForestRegressor()\n",
    "\n",
    "#Preparo la grilla de hipérparametros\n",
    "param_grid = {\n",
    "    'n_estimators': list(range(1, 1000)),\n",
    "    'max_features': ['auto', 'sqrt'],\n",
    "    'max_depth': list(range(1, 500)),\n",
    "    'bootstrap': [True, False],\n",
    "    'criterion': ['friedman_mse', 'absolute_error', 'poisson', 'squared_error'],\n",
    "    'min_samples_leaf': [1, 2, 4],\n",
    "    'min_samples_split': [2, 5, 10]\n",
    "}\n",
    "\n",
    "#Instancio de vuelta otro objeto tscv para mantener el orden con el tiempo\n",
    "tscv = TimeSeriesSplit(n_splits=3)\n",
    "\n",
    "#Hago la búsqueda de hiperparámetros\n",
    "random_search = RandomizedSearchCV(forest_reg, param_distributions=param_grid, n_iter=100, cv=tscv, n_jobs=-1, verbose=2, scoring='neg_mean_squared_error')\n",
    "random_search.fit(X_train_prepared, y_train)\n",
    "\n",
    "#Miro los mejores hipérparametros\n",
    "best_params = random_search.best_params_\n",
    "print(\"Mejores hiperparámetros encontrados:\", best_params)"
   ]
  },
  {
   "cell_type": "markdown",
   "metadata": {},
   "source": [
    "Ahora que realizamos este procedimiento, **guardaremos los hiperparámetros** obtenidos en nuestro modelo Random Forest para luego utilizar el mismo:"
   ]
  },
  {
   "cell_type": "code",
   "execution_count": null,
   "metadata": {},
   "outputs": [],
   "source": [
    "forest_reg_best = RandomForestRegressor(\n",
    "    random_state=42,\n",
    "    n_estimators=566,\n",
    "    min_samples_split=10,\n",
    "    min_samples_leaf=2,\n",
    "    max_features='auto',\n",
    "    max_depth=254,\n",
    "    criterion='poisson',\n",
    "    bootstrap=True\n",
    ")\n",
    "forest_reg_best.fit(X_train_prepared, y_train)\n",
    "y_train_pred = forest_reg_best.predict(X_train_prepared)"
   ]
  },
  {
   "cell_type": "markdown",
   "metadata": {},
   "source": [
    "Ahora con este modelo, usaremos las funciones definidas anteriormente para evaluar su desempeño:"
   ]
  },
  {
   "cell_type": "code",
   "execution_count": null,
   "metadata": {},
   "outputs": [],
   "source": [
    "#Uso función de validación cruzada\n",
    "print(\"Métricas usando validación cruzada:\")\n",
    "print(cross_validation_scores(forest_reg_best, X_train_prepared, y_train, regression_scores, 2))\n",
    "print()\n",
    "#Ahora evaluo las mismas métricas pero en el dataset de Train completo\n",
    "r2_train = r2_score(y_train, y_train_pred)\n",
    "explained_variance_train = explained_variance_score(y_train, y_train_pred)\n",
    "mse_train = mean_squared_error(y_train, y_train_pred)\n",
    "rmse_train = np.sqrt(mse_train)\n",
    "print(\"Métricas en el conjunto de entrenamiento:\")\n",
    "print(f\"Coeficiente de determinación (R²): {r2_train:.4f}\")\n",
    "print(f\"Varianza explicada: {explained_variance_train:.4f}\")\n",
    "print(f\"MSE (Error Cuadrático Medio): {mse_train:.4f}\")\n",
    "print(f\"RMSE (Raíz del Error Cuadrático Medio): {rmse_train:.4f}\")"
   ]
  },
  {
   "cell_type": "markdown",
   "metadata": {},
   "source": [
    "Observamos una diferencia notable en el rendimiento del modelo al utilizar la validación cruzada en comparación con la evaluación directa en el conjunto de datos de entrenamiento. Este contraste podría deberse a la variabilidad introducida por la validación cruzada, que refleja cómo el modelo generaliza en diferentes conjuntos de datos de prueba durante cada iteración del proceso de validación cruzada. Por otro lado, la evaluación en el conjunto de entrenamiento se realiza en datos con los que el modelo ya ha sido entrenado, lo que puede llevar a una representación más optimista del rendimiento. La diferencia en el R², la Varianza Explicada y otras métricas puede indicar cómo el modelo se desempeña en datos nuevos frente a datos ya conocidos durante el entrenamiento. Es crucial tener en cuenta esta diferencia al realizar evaluaciones futuras de nuestro modelo, esto ya nos dá una fuerte idea de como se podría comportar a futuro."
   ]
  },
  {
   "cell_type": "markdown",
   "metadata": {},
   "source": [
    "Ahora procedemos a realizar un análisis gráfico del modelo, representando gráficamente los valores reales de la variable objetivo **'mvp_share'** frente a los valores predichos por nuestro modelo:"
   ]
  },
  {
   "cell_type": "code",
   "execution_count": null,
   "metadata": {},
   "outputs": [],
   "source": [
    "sns.set(style=\"whitegrid\")\n",
    "plt.figure(figsize=(10, 8))\n",
    "sns.regplot(x=y_train_pred, y=y_train, scatter_kws={'color': '#1f77b4'}, line_kws={'color': 'black', 'linewidth': 2})\n",
    "plt.xlabel('y_train (Valores Reales)')\n",
    "plt.ylabel('y_train_pred (Predicciones)')\n",
    "plt.title('Comparación: Valores de datos de entrenamiento vs Predicción del modelo', fontsize=14)"
   ]
  },
  {
   "cell_type": "markdown",
   "metadata": {},
   "source": [
    "Gráficamente, evidenciamos que nuestro modelo se ajusta de **manera precisa** a los datos de entrenamiento, como habíamos observado al analizar las métricas. Además, **el ajuste no es excesivamente pronunciado**, indicando que el modelo no sobreajusta nuestros datos. Esta observación es satisfactoria, ya que sugiere que estamos frente a un modelo aceptable."
   ]
  },
  {
   "cell_type": "markdown",
   "metadata": {},
   "source": [
    "Como conclusión, emplearemos otra de las funciones previamente definidas para visualizar cómo posiciona nuestro modelo a los jugadores en la votación. Esta métrica es crucial, ya que nuestro objetivo principal era desarrollar un modelo que minimizara el error al posicionar correctamente a los jugadores. Una vez logrado este objetivo, podemos realizar un análisis más preciso del premio. A continuación, presentamos algunas temporadas anteriores para evaluar el rendimiento de nuestro modelo:"
   ]
  },
  {
   "cell_type": "code",
   "execution_count": null,
   "metadata": {},
   "outputs": [],
   "source": [
    "mostrar_podio_MVP(temporada = 2011, y_pred = y_train_pred, df_base = df_data_jugadores_train, cant_jugadores= 5)"
   ]
  },
  {
   "cell_type": "code",
   "execution_count": null,
   "metadata": {},
   "outputs": [],
   "source": [
    "mostrar_podio_MVP(temporada = 2014, y_pred = y_train_pred, df_base = df_data_jugadores_train, cant_jugadores= 5)"
   ]
  },
  {
   "cell_type": "code",
   "execution_count": null,
   "metadata": {},
   "outputs": [],
   "source": [
    "mostrar_podio_MVP(temporada = 2016, y_pred = y_train_pred, df_base = df_data_jugadores_train, cant_jugadores= 5)"
   ]
  },
  {
   "cell_type": "code",
   "execution_count": null,
   "metadata": {},
   "outputs": [],
   "source": [
    "mostrar_podio_MVP(temporada = 2017, y_pred = y_train_pred, df_base = df_data_jugadores_train, cant_jugadores= 5)"
   ]
  },
  {
   "cell_type": "markdown",
   "metadata": {},
   "source": [
    "Podemos notar que, aunque existe una diferencia entre los valores de **'mvp_share'** y **'y_pred'**, nuestro modelo **logró ordenar de manera efectiva** a los jugadores, identificando correctamente a los ganadores de los años seleccionados. Sin embargo, es crucial recordar que estamos utilizando **datos de entrenamiento** y la verdadera prueba se llevará a cabo en los datos reservados para pruebas. A continuación, proporcionamos una lista de los últimos ganadores del premio para que puedan verificar la precisión de nuestro modelo:"
   ]
  },
  {
   "cell_type": "markdown",
   "metadata": {},
   "source": [
    "![Captura de pantalla 2023-11-14 082612.png](data:image/png;base64,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)"
   ]
  },
  {
   "cell_type": "markdown",
   "metadata": {},
   "source": [
    "Ahora que contamos con un modelo que **consideramos aceptable** y ha demostrado un buen rendimiento en los datos de entrenamiento, tanto en métricas como en su capacidad para **posicionar correctamente a los jugadores**, avanzamos hacia la **fase final**. En esta etapa, pondremos a prueba el mismo modelo con los datos de prueba y posteriormente extraeremos nuestras conclusiones al respecto."
   ]
  }
 ],
 "metadata": {
  "kernelspec": {
   "display_name": "proyecto_nba_mvp",
   "language": "python",
   "name": "python3"
  },
  "language_info": {
   "codemirror_mode": {
    "name": "ipython",
    "version": 3
   },
   "file_extension": ".py",
   "mimetype": "text/x-python",
   "name": "python",
   "nbconvert_exporter": "python",
   "pygments_lexer": "ipython3",
   "version": "3.10.12"
  }
 },
 "nbformat": 4,
 "nbformat_minor": 2
}
